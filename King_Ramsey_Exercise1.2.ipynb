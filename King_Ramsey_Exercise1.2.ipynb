{
 "cells": [
  {
   "cell_type": "markdown",
   "metadata": {
    "collapsed": true,
    "pycharm": {
     "name": "#%% md\n"
    }
   },
   "source": [
    "# Ramsey King\n",
    "# DSC 550 - Data Mining\n",
    "# September 5, 2021\n",
    "# Exercise 1.2"
   ]
  },
  {
   "cell_type": "markdown",
   "source": [
    "### 1. Create an array of size [10,50] and use the random function to fill it with integers between 1 and 500 (inclusive)."
   ],
   "metadata": {
    "collapsed": false,
    "pycharm": {
     "name": "#%% md\n"
    }
   }
  },
  {
   "cell_type": "code",
   "execution_count": 65,
   "outputs": [
    {
     "data": {
      "text/plain": "(10, 50)"
     },
     "execution_count": 65,
     "metadata": {},
     "output_type": "execute_result"
    }
   ],
   "source": [
    "import numpy as np\n",
    "np.random.seed(0)\n",
    "array = np.array([np.random.randint(1,501,50),\n",
    "                  np.random.randint(1,501,50),\n",
    "                  np.random.randint(1,501,50),\n",
    "                  np.random.randint(1,501,50),\n",
    "                  np.random.randint(1,501,50),\n",
    "                  np.random.randint(1,501,50),\n",
    "                  np.random.randint(1,501,50),\n",
    "                  np.random.randint(1,501,50),\n",
    "                  np.random.randint(1,501,50),\n",
    "                 np.random.randint(1,501,50)])\n",
    "array.shape"
   ],
   "metadata": {
    "collapsed": false,
    "pycharm": {
     "name": "#%%\n"
    }
   }
  },
  {
   "cell_type": "markdown",
   "source": [
    "### Load it into a DataFrame"
   ],
   "metadata": {
    "collapsed": false,
    "pycharm": {
     "name": "#%% md\n"
    }
   }
  },
  {
   "cell_type": "code",
   "source": [
    "import pandas as pd\n",
    "df = pd.DataFrame(array)\n",
    "df.head()"
   ],
   "metadata": {
    "collapsed": false,
    "pycharm": {
     "name": "#%%\n"
    }
   },
   "execution_count": 66,
   "outputs": [
    {
     "data": {
      "text/plain": "    0    1    2    3    4    5    6    7    8    9   ...   40   41   42   43  \\\n0  173   48  118  193  324  252  196  360   10  212  ...  100  473  178  244   \n1  450  266  186  128   33   32  203  245  152  164  ...  431   83   92  385   \n2   85  204  325  263  453   48  128  132  461  357  ...   43  462  369  488   \n3   44  443  384   24  188  131  378   99   63  420  ...  372  185  445  489   \n4   95  227  364  270  369  297  329   20   96  329  ...  446   84  162  361   \n\n    44   45   46   47   48   49  \n0  286  148  148  399  424  289  \n1  399  100   54  397  122  427  \n2  406  202  384    1  395  371  \n3   78  287  281  126  259    4  \n4  417  229  252  122  327  470  \n\n[5 rows x 50 columns]",
      "text/html": "<div>\n<style scoped>\n    .dataframe tbody tr th:only-of-type {\n        vertical-align: middle;\n    }\n\n    .dataframe tbody tr th {\n        vertical-align: top;\n    }\n\n    .dataframe thead th {\n        text-align: right;\n    }\n</style>\n<table border=\"1\" class=\"dataframe\">\n  <thead>\n    <tr style=\"text-align: right;\">\n      <th></th>\n      <th>0</th>\n      <th>1</th>\n      <th>2</th>\n      <th>3</th>\n      <th>4</th>\n      <th>5</th>\n      <th>6</th>\n      <th>7</th>\n      <th>8</th>\n      <th>9</th>\n      <th>...</th>\n      <th>40</th>\n      <th>41</th>\n      <th>42</th>\n      <th>43</th>\n      <th>44</th>\n      <th>45</th>\n      <th>46</th>\n      <th>47</th>\n      <th>48</th>\n      <th>49</th>\n    </tr>\n  </thead>\n  <tbody>\n    <tr>\n      <th>0</th>\n      <td>173</td>\n      <td>48</td>\n      <td>118</td>\n      <td>193</td>\n      <td>324</td>\n      <td>252</td>\n      <td>196</td>\n      <td>360</td>\n      <td>10</td>\n      <td>212</td>\n      <td>...</td>\n      <td>100</td>\n      <td>473</td>\n      <td>178</td>\n      <td>244</td>\n      <td>286</td>\n      <td>148</td>\n      <td>148</td>\n      <td>399</td>\n      <td>424</td>\n      <td>289</td>\n    </tr>\n    <tr>\n      <th>1</th>\n      <td>450</td>\n      <td>266</td>\n      <td>186</td>\n      <td>128</td>\n      <td>33</td>\n      <td>32</td>\n      <td>203</td>\n      <td>245</td>\n      <td>152</td>\n      <td>164</td>\n      <td>...</td>\n      <td>431</td>\n      <td>83</td>\n      <td>92</td>\n      <td>385</td>\n      <td>399</td>\n      <td>100</td>\n      <td>54</td>\n      <td>397</td>\n      <td>122</td>\n      <td>427</td>\n    </tr>\n    <tr>\n      <th>2</th>\n      <td>85</td>\n      <td>204</td>\n      <td>325</td>\n      <td>263</td>\n      <td>453</td>\n      <td>48</td>\n      <td>128</td>\n      <td>132</td>\n      <td>461</td>\n      <td>357</td>\n      <td>...</td>\n      <td>43</td>\n      <td>462</td>\n      <td>369</td>\n      <td>488</td>\n      <td>406</td>\n      <td>202</td>\n      <td>384</td>\n      <td>1</td>\n      <td>395</td>\n      <td>371</td>\n    </tr>\n    <tr>\n      <th>3</th>\n      <td>44</td>\n      <td>443</td>\n      <td>384</td>\n      <td>24</td>\n      <td>188</td>\n      <td>131</td>\n      <td>378</td>\n      <td>99</td>\n      <td>63</td>\n      <td>420</td>\n      <td>...</td>\n      <td>372</td>\n      <td>185</td>\n      <td>445</td>\n      <td>489</td>\n      <td>78</td>\n      <td>287</td>\n      <td>281</td>\n      <td>126</td>\n      <td>259</td>\n      <td>4</td>\n    </tr>\n    <tr>\n      <th>4</th>\n      <td>95</td>\n      <td>227</td>\n      <td>364</td>\n      <td>270</td>\n      <td>369</td>\n      <td>297</td>\n      <td>329</td>\n      <td>20</td>\n      <td>96</td>\n      <td>329</td>\n      <td>...</td>\n      <td>446</td>\n      <td>84</td>\n      <td>162</td>\n      <td>361</td>\n      <td>417</td>\n      <td>229</td>\n      <td>252</td>\n      <td>122</td>\n      <td>327</td>\n      <td>470</td>\n    </tr>\n  </tbody>\n</table>\n<p>5 rows × 50 columns</p>\n</div>"
     },
     "execution_count": 66,
     "metadata": {},
     "output_type": "execute_result"
    }
   ]
  },
  {
   "cell_type": "markdown",
   "source": [
    "### 2. Calculate the sum of each row; the sum of each column; and the sum of all entries."
   ],
   "metadata": {
    "collapsed": false,
    "pycharm": {
     "name": "#%% md\n"
    }
   }
  },
  {
   "cell_type": "code",
   "execution_count": 67,
   "outputs": [
    {
     "data": {
      "text/plain": "0    12082\n1    12171\n2    13405\n3    10219\n4    13614\n5    11215\n6    12598\n7    12117\n8    12500\n9    14194\ndtype: int64"
     },
     "execution_count": 67,
     "metadata": {},
     "output_type": "execute_result"
    }
   ],
   "source": [
    "# The sum of each row:\n",
    "df.sum(axis=1)"
   ],
   "metadata": {
    "collapsed": false,
    "pycharm": {
     "name": "#%%\n"
    }
   }
  },
  {
   "cell_type": "code",
   "execution_count": 68,
   "outputs": [
    {
     "data": {
      "text/plain": "0     1989\n1     2361\n2     2712\n3     2363\n4     2953\n5     2172\n6     2561\n7     1888\n8     1672\n9     2826\n10    2580\n11    2929\n12    2583\n13    1822\n14    2793\n15    2505\n16    2096\n17    2518\n18    2588\n19    3060\n20    2577\n21    1860\n22    1753\n23    2784\n24    2259\n25    2722\n26    1942\n27    2577\n28    2602\n29    2154\n30    2432\n31    2596\n32    2029\n33    2513\n34    1995\n35    2590\n36    2238\n37    2659\n38    2601\n39    1978\n40    2414\n41    3239\n42    3167\n43    3162\n44    3109\n45    2125\n46    2818\n47    2428\n48    3080\n49    2741\ndtype: int64"
     },
     "execution_count": 68,
     "metadata": {},
     "output_type": "execute_result"
    }
   ],
   "source": [
    "# The sum of each column:\n",
    "df.sum()"
   ],
   "metadata": {
    "collapsed": false,
    "pycharm": {
     "name": "#%%\n"
    }
   }
  },
  {
   "cell_type": "code",
   "execution_count": 69,
   "outputs": [
    {
     "data": {
      "text/plain": "124115"
     },
     "execution_count": 69,
     "metadata": {},
     "output_type": "execute_result"
    }
   ],
   "source": [
    "# The sum of all entries:\n",
    "df.values.sum()"
   ],
   "metadata": {
    "collapsed": false,
    "pycharm": {
     "name": "#%%\n"
    }
   }
  },
  {
   "cell_type": "markdown",
   "source": [
    "### 3. Determine the minimum; maximum; average; and standard deviation of all entries."
   ],
   "metadata": {
    "collapsed": false,
    "pycharm": {
     "name": "#%% md\n"
    }
   }
  },
  {
   "cell_type": "code",
   "execution_count": 70,
   "outputs": [
    {
     "name": "stdout",
     "output_type": "stream",
     "text": [
      "Min value of all entries:  1\n",
      "Max value of all entries:  499\n",
      "Avg value of all entries:  248.23\n",
      "Std dev of all entries:  141.94103388379276\n"
     ]
    }
   ],
   "source": [
    "print(\"Min value of all entries: \", df.values.min())\n",
    "print(\"Max value of all entries: \", df.values.max())\n",
    "print(\"Avg value of all entries: \", df.values.mean())\n",
    "print(\"Std dev of all entries: \", df.values.std())"
   ],
   "metadata": {
    "collapsed": false,
    "pycharm": {
     "name": "#%%\n"
    }
   }
  },
  {
   "cell_type": "markdown",
   "source": [
    "### 4. Sort the DataFrame: a) sort on column 2; b) sort on row 2."
   ],
   "metadata": {
    "collapsed": false,
    "pycharm": {
     "name": "#%% md\n"
    }
   }
  },
  {
   "cell_type": "code",
   "execution_count": 75,
   "outputs": [
    {
     "data": {
      "text/plain": "    0    1    2    3    4    5    6    7    8    9   ...   40   41   42   43  \\\n5  288   14  328  185  153   80   42  275   41  439  ...  183  492  422  126   \n0  173   48  118  193  324  252  196  360   10  212  ...  100  473  178  244   \n7  190  130  210  369  292  377  348  169  373  293  ...  146  199  456  275   \n6  218  152  310  308  175  149  438   30   68   36  ...  257  460  291  198   \n2   85  204  325  263  453   48  128  132  461  357  ...   43  462  369  488   \n4   95  227  364  270  369  297  329   20   96  329  ...  446   84  162  361   \n1  450  266  186  128   33   32  203  245  152  164  ...  431   83   92  385   \n8  175  406  202  346  499  481  476  330   29  492  ...  121  373  440  321   \n3   44  443  384   24  188  131  378   99   63  420  ...  372  185  445  489   \n9  271  471  285  277  467  325   23  228  379   84  ...  315  428  312  275   \n\n    44   45   46   47   48   49  \n5  157  112  489  259   28  468  \n0  286  148  148  399  424  289  \n7  349   44   84  434  298   94  \n6  383  438  255   81  447  137  \n2  406  202  384    1  395  371  \n4  417  229  252  122  327  470  \n1  399  100   54  397  122  427  \n8  204  221  421  282  289  427  \n3   78  287  281  126  259    4  \n9  430  344  450  327  491   54  \n\n[10 rows x 50 columns]",
      "text/html": "<div>\n<style scoped>\n    .dataframe tbody tr th:only-of-type {\n        vertical-align: middle;\n    }\n\n    .dataframe tbody tr th {\n        vertical-align: top;\n    }\n\n    .dataframe thead th {\n        text-align: right;\n    }\n</style>\n<table border=\"1\" class=\"dataframe\">\n  <thead>\n    <tr style=\"text-align: right;\">\n      <th></th>\n      <th>0</th>\n      <th>1</th>\n      <th>2</th>\n      <th>3</th>\n      <th>4</th>\n      <th>5</th>\n      <th>6</th>\n      <th>7</th>\n      <th>8</th>\n      <th>9</th>\n      <th>...</th>\n      <th>40</th>\n      <th>41</th>\n      <th>42</th>\n      <th>43</th>\n      <th>44</th>\n      <th>45</th>\n      <th>46</th>\n      <th>47</th>\n      <th>48</th>\n      <th>49</th>\n    </tr>\n  </thead>\n  <tbody>\n    <tr>\n      <th>5</th>\n      <td>288</td>\n      <td>14</td>\n      <td>328</td>\n      <td>185</td>\n      <td>153</td>\n      <td>80</td>\n      <td>42</td>\n      <td>275</td>\n      <td>41</td>\n      <td>439</td>\n      <td>...</td>\n      <td>183</td>\n      <td>492</td>\n      <td>422</td>\n      <td>126</td>\n      <td>157</td>\n      <td>112</td>\n      <td>489</td>\n      <td>259</td>\n      <td>28</td>\n      <td>468</td>\n    </tr>\n    <tr>\n      <th>0</th>\n      <td>173</td>\n      <td>48</td>\n      <td>118</td>\n      <td>193</td>\n      <td>324</td>\n      <td>252</td>\n      <td>196</td>\n      <td>360</td>\n      <td>10</td>\n      <td>212</td>\n      <td>...</td>\n      <td>100</td>\n      <td>473</td>\n      <td>178</td>\n      <td>244</td>\n      <td>286</td>\n      <td>148</td>\n      <td>148</td>\n      <td>399</td>\n      <td>424</td>\n      <td>289</td>\n    </tr>\n    <tr>\n      <th>7</th>\n      <td>190</td>\n      <td>130</td>\n      <td>210</td>\n      <td>369</td>\n      <td>292</td>\n      <td>377</td>\n      <td>348</td>\n      <td>169</td>\n      <td>373</td>\n      <td>293</td>\n      <td>...</td>\n      <td>146</td>\n      <td>199</td>\n      <td>456</td>\n      <td>275</td>\n      <td>349</td>\n      <td>44</td>\n      <td>84</td>\n      <td>434</td>\n      <td>298</td>\n      <td>94</td>\n    </tr>\n    <tr>\n      <th>6</th>\n      <td>218</td>\n      <td>152</td>\n      <td>310</td>\n      <td>308</td>\n      <td>175</td>\n      <td>149</td>\n      <td>438</td>\n      <td>30</td>\n      <td>68</td>\n      <td>36</td>\n      <td>...</td>\n      <td>257</td>\n      <td>460</td>\n      <td>291</td>\n      <td>198</td>\n      <td>383</td>\n      <td>438</td>\n      <td>255</td>\n      <td>81</td>\n      <td>447</td>\n      <td>137</td>\n    </tr>\n    <tr>\n      <th>2</th>\n      <td>85</td>\n      <td>204</td>\n      <td>325</td>\n      <td>263</td>\n      <td>453</td>\n      <td>48</td>\n      <td>128</td>\n      <td>132</td>\n      <td>461</td>\n      <td>357</td>\n      <td>...</td>\n      <td>43</td>\n      <td>462</td>\n      <td>369</td>\n      <td>488</td>\n      <td>406</td>\n      <td>202</td>\n      <td>384</td>\n      <td>1</td>\n      <td>395</td>\n      <td>371</td>\n    </tr>\n    <tr>\n      <th>4</th>\n      <td>95</td>\n      <td>227</td>\n      <td>364</td>\n      <td>270</td>\n      <td>369</td>\n      <td>297</td>\n      <td>329</td>\n      <td>20</td>\n      <td>96</td>\n      <td>329</td>\n      <td>...</td>\n      <td>446</td>\n      <td>84</td>\n      <td>162</td>\n      <td>361</td>\n      <td>417</td>\n      <td>229</td>\n      <td>252</td>\n      <td>122</td>\n      <td>327</td>\n      <td>470</td>\n    </tr>\n    <tr>\n      <th>1</th>\n      <td>450</td>\n      <td>266</td>\n      <td>186</td>\n      <td>128</td>\n      <td>33</td>\n      <td>32</td>\n      <td>203</td>\n      <td>245</td>\n      <td>152</td>\n      <td>164</td>\n      <td>...</td>\n      <td>431</td>\n      <td>83</td>\n      <td>92</td>\n      <td>385</td>\n      <td>399</td>\n      <td>100</td>\n      <td>54</td>\n      <td>397</td>\n      <td>122</td>\n      <td>427</td>\n    </tr>\n    <tr>\n      <th>8</th>\n      <td>175</td>\n      <td>406</td>\n      <td>202</td>\n      <td>346</td>\n      <td>499</td>\n      <td>481</td>\n      <td>476</td>\n      <td>330</td>\n      <td>29</td>\n      <td>492</td>\n      <td>...</td>\n      <td>121</td>\n      <td>373</td>\n      <td>440</td>\n      <td>321</td>\n      <td>204</td>\n      <td>221</td>\n      <td>421</td>\n      <td>282</td>\n      <td>289</td>\n      <td>427</td>\n    </tr>\n    <tr>\n      <th>3</th>\n      <td>44</td>\n      <td>443</td>\n      <td>384</td>\n      <td>24</td>\n      <td>188</td>\n      <td>131</td>\n      <td>378</td>\n      <td>99</td>\n      <td>63</td>\n      <td>420</td>\n      <td>...</td>\n      <td>372</td>\n      <td>185</td>\n      <td>445</td>\n      <td>489</td>\n      <td>78</td>\n      <td>287</td>\n      <td>281</td>\n      <td>126</td>\n      <td>259</td>\n      <td>4</td>\n    </tr>\n    <tr>\n      <th>9</th>\n      <td>271</td>\n      <td>471</td>\n      <td>285</td>\n      <td>277</td>\n      <td>467</td>\n      <td>325</td>\n      <td>23</td>\n      <td>228</td>\n      <td>379</td>\n      <td>84</td>\n      <td>...</td>\n      <td>315</td>\n      <td>428</td>\n      <td>312</td>\n      <td>275</td>\n      <td>430</td>\n      <td>344</td>\n      <td>450</td>\n      <td>327</td>\n      <td>491</td>\n      <td>54</td>\n    </tr>\n  </tbody>\n</table>\n<p>10 rows × 50 columns</p>\n</div>"
     },
     "execution_count": 75,
     "metadata": {},
     "output_type": "execute_result"
    }
   ],
   "source": [
    "# Sorting on column 2:\n",
    "column_two_sort = df.sort_values(by=df.columns[1])\n",
    "column_two_sort"
   ],
   "metadata": {
    "collapsed": false,
    "pycharm": {
     "name": "#%%\n"
    }
   }
  },
  {
   "cell_type": "code",
   "execution_count": 81,
   "outputs": [
    {
     "data": {
      "text/plain": "    13   29   5    4    20   27   46   18   35   41  ...   44   17   34   49  \\\n0   88   73  252  324  487   26  148  315  198  473  ...  286  397  244  289   \n1   29   32   32   33   39   43   54   54   58   83  ...  399  421  426  427   \n2  144  198   48  453  374  449  384  208  419  462  ...  406  280  293  371   \n3   83   12  131  188  271   44  281   51  129  185  ...   78  210  183    4   \n4  181   17  297  369  452  332  252  353  465   84  ...  417  271   26  470   \n5  112  292   80  153  382  205  489  301   33  492  ...  157  375   44  468   \n6  298  342  149  175  260  424  255  435   34  460  ...  383  219   89  137   \n7  360  374  377  292  147  397   84  242  424  199  ...  349   30  342   94   \n8  385  380  481  499   25  348  421  165  456  373  ...  204  107   73  427   \n9  142  434  325  467  140  309  450  464  374  428  ...  430  208  275   54   \n\n    40   28   0    10   33   21  \n0  100  334  173  278  465   40  \n1  431  443  450  460  488  489  \n2   43   96   85  181  179  342  \n3  372  361   44  223   33   42  \n4  446  185   95  411  111  238  \n5  183  487  288  208  216   25  \n6  257   62  218  296  419  288  \n7  146   45  190  177   92  274  \n8  121   94  175  210  148  117  \n9  315  495  271  136  362    5  \n\n[10 rows x 50 columns]",
      "text/html": "<div>\n<style scoped>\n    .dataframe tbody tr th:only-of-type {\n        vertical-align: middle;\n    }\n\n    .dataframe tbody tr th {\n        vertical-align: top;\n    }\n\n    .dataframe thead th {\n        text-align: right;\n    }\n</style>\n<table border=\"1\" class=\"dataframe\">\n  <thead>\n    <tr style=\"text-align: right;\">\n      <th></th>\n      <th>13</th>\n      <th>29</th>\n      <th>5</th>\n      <th>4</th>\n      <th>20</th>\n      <th>27</th>\n      <th>46</th>\n      <th>18</th>\n      <th>35</th>\n      <th>41</th>\n      <th>...</th>\n      <th>44</th>\n      <th>17</th>\n      <th>34</th>\n      <th>49</th>\n      <th>40</th>\n      <th>28</th>\n      <th>0</th>\n      <th>10</th>\n      <th>33</th>\n      <th>21</th>\n    </tr>\n  </thead>\n  <tbody>\n    <tr>\n      <th>0</th>\n      <td>88</td>\n      <td>73</td>\n      <td>252</td>\n      <td>324</td>\n      <td>487</td>\n      <td>26</td>\n      <td>148</td>\n      <td>315</td>\n      <td>198</td>\n      <td>473</td>\n      <td>...</td>\n      <td>286</td>\n      <td>397</td>\n      <td>244</td>\n      <td>289</td>\n      <td>100</td>\n      <td>334</td>\n      <td>173</td>\n      <td>278</td>\n      <td>465</td>\n      <td>40</td>\n    </tr>\n    <tr>\n      <th>1</th>\n      <td>29</td>\n      <td>32</td>\n      <td>32</td>\n      <td>33</td>\n      <td>39</td>\n      <td>43</td>\n      <td>54</td>\n      <td>54</td>\n      <td>58</td>\n      <td>83</td>\n      <td>...</td>\n      <td>399</td>\n      <td>421</td>\n      <td>426</td>\n      <td>427</td>\n      <td>431</td>\n      <td>443</td>\n      <td>450</td>\n      <td>460</td>\n      <td>488</td>\n      <td>489</td>\n    </tr>\n    <tr>\n      <th>2</th>\n      <td>144</td>\n      <td>198</td>\n      <td>48</td>\n      <td>453</td>\n      <td>374</td>\n      <td>449</td>\n      <td>384</td>\n      <td>208</td>\n      <td>419</td>\n      <td>462</td>\n      <td>...</td>\n      <td>406</td>\n      <td>280</td>\n      <td>293</td>\n      <td>371</td>\n      <td>43</td>\n      <td>96</td>\n      <td>85</td>\n      <td>181</td>\n      <td>179</td>\n      <td>342</td>\n    </tr>\n    <tr>\n      <th>3</th>\n      <td>83</td>\n      <td>12</td>\n      <td>131</td>\n      <td>188</td>\n      <td>271</td>\n      <td>44</td>\n      <td>281</td>\n      <td>51</td>\n      <td>129</td>\n      <td>185</td>\n      <td>...</td>\n      <td>78</td>\n      <td>210</td>\n      <td>183</td>\n      <td>4</td>\n      <td>372</td>\n      <td>361</td>\n      <td>44</td>\n      <td>223</td>\n      <td>33</td>\n      <td>42</td>\n    </tr>\n    <tr>\n      <th>4</th>\n      <td>181</td>\n      <td>17</td>\n      <td>297</td>\n      <td>369</td>\n      <td>452</td>\n      <td>332</td>\n      <td>252</td>\n      <td>353</td>\n      <td>465</td>\n      <td>84</td>\n      <td>...</td>\n      <td>417</td>\n      <td>271</td>\n      <td>26</td>\n      <td>470</td>\n      <td>446</td>\n      <td>185</td>\n      <td>95</td>\n      <td>411</td>\n      <td>111</td>\n      <td>238</td>\n    </tr>\n    <tr>\n      <th>5</th>\n      <td>112</td>\n      <td>292</td>\n      <td>80</td>\n      <td>153</td>\n      <td>382</td>\n      <td>205</td>\n      <td>489</td>\n      <td>301</td>\n      <td>33</td>\n      <td>492</td>\n      <td>...</td>\n      <td>157</td>\n      <td>375</td>\n      <td>44</td>\n      <td>468</td>\n      <td>183</td>\n      <td>487</td>\n      <td>288</td>\n      <td>208</td>\n      <td>216</td>\n      <td>25</td>\n    </tr>\n    <tr>\n      <th>6</th>\n      <td>298</td>\n      <td>342</td>\n      <td>149</td>\n      <td>175</td>\n      <td>260</td>\n      <td>424</td>\n      <td>255</td>\n      <td>435</td>\n      <td>34</td>\n      <td>460</td>\n      <td>...</td>\n      <td>383</td>\n      <td>219</td>\n      <td>89</td>\n      <td>137</td>\n      <td>257</td>\n      <td>62</td>\n      <td>218</td>\n      <td>296</td>\n      <td>419</td>\n      <td>288</td>\n    </tr>\n    <tr>\n      <th>7</th>\n      <td>360</td>\n      <td>374</td>\n      <td>377</td>\n      <td>292</td>\n      <td>147</td>\n      <td>397</td>\n      <td>84</td>\n      <td>242</td>\n      <td>424</td>\n      <td>199</td>\n      <td>...</td>\n      <td>349</td>\n      <td>30</td>\n      <td>342</td>\n      <td>94</td>\n      <td>146</td>\n      <td>45</td>\n      <td>190</td>\n      <td>177</td>\n      <td>92</td>\n      <td>274</td>\n    </tr>\n    <tr>\n      <th>8</th>\n      <td>385</td>\n      <td>380</td>\n      <td>481</td>\n      <td>499</td>\n      <td>25</td>\n      <td>348</td>\n      <td>421</td>\n      <td>165</td>\n      <td>456</td>\n      <td>373</td>\n      <td>...</td>\n      <td>204</td>\n      <td>107</td>\n      <td>73</td>\n      <td>427</td>\n      <td>121</td>\n      <td>94</td>\n      <td>175</td>\n      <td>210</td>\n      <td>148</td>\n      <td>117</td>\n    </tr>\n    <tr>\n      <th>9</th>\n      <td>142</td>\n      <td>434</td>\n      <td>325</td>\n      <td>467</td>\n      <td>140</td>\n      <td>309</td>\n      <td>450</td>\n      <td>464</td>\n      <td>374</td>\n      <td>428</td>\n      <td>...</td>\n      <td>430</td>\n      <td>208</td>\n      <td>275</td>\n      <td>54</td>\n      <td>315</td>\n      <td>495</td>\n      <td>271</td>\n      <td>136</td>\n      <td>362</td>\n      <td>5</td>\n    </tr>\n  </tbody>\n</table>\n<p>10 rows × 50 columns</p>\n</div>"
     },
     "execution_count": 81,
     "metadata": {},
     "output_type": "execute_result"
    }
   ],
   "source": [
    "# Sorting on row 2:\n",
    "row_two_sort = df.sort_values(by=1, axis=1)\n",
    "row_two_sort"
   ],
   "metadata": {
    "collapsed": false,
    "pycharm": {
     "name": "#%%\n"
    }
   }
  }
 ],
 "metadata": {
  "kernelspec": {
   "display_name": "Python 3",
   "language": "python",
   "name": "python3"
  },
  "language_info": {
   "codemirror_mode": {
    "name": "ipython",
    "version": 2
   },
   "file_extension": ".py",
   "mimetype": "text/x-python",
   "name": "python",
   "nbconvert_exporter": "python",
   "pygments_lexer": "ipython2",
   "version": "2.7.6"
  }
 },
 "nbformat": 4,
 "nbformat_minor": 0
}