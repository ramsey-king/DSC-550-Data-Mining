{
 "cells": [
  {
   "cell_type": "markdown",
   "source": [
    "# Ramsey King\r\n",
    "# DSC 550 - Data Mining\r\n",
    "# September 18, 2021\r\n",
    "# Exercise 3.2"
   ],
   "metadata": {}
  },
  {
   "cell_type": "markdown",
   "source": [
    "## You can create a new analysis scenario or you can use the tutorials you completed this week.\r\n",
    "## A. Display the same analysis (of the same data) using 3 different charts (e.g.,  a bar chart, a line chart and a pie chart)\r\n",
    "## B. Use appropriate, complete, professional labeling.\r\n",
    "## C. Rank your charts from most effective to least effective.\r\n",
    "## D. Write a 300-word paper justifying your ranking."
   ],
   "metadata": {}
  },
  {
   "cell_type": "markdown",
   "source": [
    "For my analysis this week, I will use a program that will calculate the overall profit/loss of a stock portfolio based on a handful of stocks and their various purchase dates.  \r\n",
    "\r\n",
    "As some background to this, there are certain online stock brokerage firms that will allow fractional shares to be purchased.  This allows for individuals who may not have enough capital to afford some of the higher priced equities to still be able to benefit from their ownership (without the added risks and time sensitivities that options offer).  For this exercise, we will create a dataframe consisting of 5 equities:\r\n",
    "\r\n",
    "- Amazon (AMZN)\r\n",
    "- Disney (DIS)\r\n",
    "- Mattel (MAT)\r\n",
    "- Vanguard 500 Index Fund (VOO)\r\n",
    "- Apple (APPL)\r\n",
    "\r\n",
    "To help with the data collection of these equities, we will incoprorate the help of the very useful Python package yahoo finance or yfinance."
   ],
   "metadata": {}
  },
  {
   "cell_type": "code",
   "execution_count": 1,
   "source": [
    "import yfinance as yf\r\n",
    "import matplotlib.pyplot as plt\r\n",
    "import numpy as np"
   ],
   "outputs": [],
   "metadata": {}
  },
  {
   "cell_type": "markdown",
   "source": [
    "We will now get the relevant stock information needed for our analysis, namely the closing stock price of the various industries and the associated dates:"
   ],
   "metadata": {}
  },
  {
   "cell_type": "code",
   "execution_count": 2,
   "source": [
    "equity_dict = {\r\n",
    "    'AMZN': [[15.66, '2019-02-25'], [74.01, '2019-05-20'], [46.00, '2021-09-08']],\r\n",
    "    'DIS': [[15.66, '2019-02-25'], [74.01, '2019-05-20']],\r\n",
    "    'MAT': [[15.66, '2019-02-25'], [74.01, '2019-05-20']],\r\n",
    "    'VOO': [[174.01, '2019-05-20'], [92.00, '2021-09-08']],\r\n",
    "    'AAPL': [[46.00, '2021-09-08']]\r\n",
    "}\r\n",
    "\r\n",
    "stock_df = yf.Tickers(['AMZN', 'DIS', 'MAT', 'VOO', 'AAPL']).history(start='2019-02-25')['Close']\r\n",
    "stock_df.head()"
   ],
   "outputs": [
    {
     "output_type": "stream",
     "name": "stdout",
     "text": [
      "[*********************100%***********************]  5 of 5 completed\n"
     ]
    },
    {
     "output_type": "execute_result",
     "data": {
      "text/html": [
       "<div>\n",
       "<style scoped>\n",
       "    .dataframe tbody tr th:only-of-type {\n",
       "        vertical-align: middle;\n",
       "    }\n",
       "\n",
       "    .dataframe tbody tr th {\n",
       "        vertical-align: top;\n",
       "    }\n",
       "\n",
       "    .dataframe thead th {\n",
       "        text-align: right;\n",
       "    }\n",
       "</style>\n",
       "<table border=\"1\" class=\"dataframe\">\n",
       "  <thead>\n",
       "    <tr style=\"text-align: right;\">\n",
       "      <th></th>\n",
       "      <th>AAPL</th>\n",
       "      <th>AMZN</th>\n",
       "      <th>DIS</th>\n",
       "      <th>MAT</th>\n",
       "      <th>VOO</th>\n",
       "    </tr>\n",
       "    <tr>\n",
       "      <th>Date</th>\n",
       "      <th></th>\n",
       "      <th></th>\n",
       "      <th></th>\n",
       "      <th></th>\n",
       "      <th></th>\n",
       "    </tr>\n",
       "  </thead>\n",
       "  <tbody>\n",
       "    <tr>\n",
       "      <th>2019-02-25</th>\n",
       "      <td>42.527966</td>\n",
       "      <td>1633.000000</td>\n",
       "      <td>112.218552</td>\n",
       "      <td>13.99</td>\n",
       "      <td>245.561798</td>\n",
       "    </tr>\n",
       "    <tr>\n",
       "      <th>2019-02-26</th>\n",
       "      <td>42.552376</td>\n",
       "      <td>1636.400024</td>\n",
       "      <td>112.129639</td>\n",
       "      <td>14.38</td>\n",
       "      <td>245.380249</td>\n",
       "    </tr>\n",
       "    <tr>\n",
       "      <th>2019-02-27</th>\n",
       "      <td>42.684185</td>\n",
       "      <td>1641.089966</td>\n",
       "      <td>111.418335</td>\n",
       "      <td>14.49</td>\n",
       "      <td>245.256042</td>\n",
       "    </tr>\n",
       "    <tr>\n",
       "      <th>2019-02-28</th>\n",
       "      <td>42.264351</td>\n",
       "      <td>1639.829956</td>\n",
       "      <td>111.477608</td>\n",
       "      <td>14.42</td>\n",
       "      <td>244.682739</td>\n",
       "    </tr>\n",
       "    <tr>\n",
       "      <th>2019-03-01</th>\n",
       "      <td>42.708599</td>\n",
       "      <td>1671.729980</td>\n",
       "      <td>112.633484</td>\n",
       "      <td>14.89</td>\n",
       "      <td>246.364441</td>\n",
       "    </tr>\n",
       "  </tbody>\n",
       "</table>\n",
       "</div>"
      ],
      "text/plain": [
       "                 AAPL         AMZN         DIS    MAT         VOO\n",
       "Date                                                             \n",
       "2019-02-25  42.527966  1633.000000  112.218552  13.99  245.561798\n",
       "2019-02-26  42.552376  1636.400024  112.129639  14.38  245.380249\n",
       "2019-02-27  42.684185  1641.089966  111.418335  14.49  245.256042\n",
       "2019-02-28  42.264351  1639.829956  111.477608  14.42  244.682739\n",
       "2019-03-01  42.708599  1671.729980  112.633484  14.89  246.364441"
      ]
     },
     "metadata": {},
     "execution_count": 2
    }
   ],
   "metadata": {}
  },
  {
   "cell_type": "markdown",
   "source": [],
   "metadata": {}
  }
 ],
 "metadata": {
  "orig_nbformat": 4,
  "language_info": {
   "name": "python",
   "version": "3.7.6",
   "mimetype": "text/x-python",
   "codemirror_mode": {
    "name": "ipython",
    "version": 3
   },
   "pygments_lexer": "ipython3",
   "nbconvert_exporter": "python",
   "file_extension": ".py"
  },
  "kernelspec": {
   "name": "python3",
   "display_name": "Python 3.7.6 64-bit ('base': conda)"
  },
  "interpreter": {
   "hash": "bf60427b139290154779a7e38fd0f127f78e5a9dfc17b4a4bd1d849158c5fa70"
  }
 },
 "nbformat": 4,
 "nbformat_minor": 2
}