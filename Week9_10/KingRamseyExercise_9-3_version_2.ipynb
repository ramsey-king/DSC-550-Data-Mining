{
 "cells": [
  {
   "cell_type": "code",
   "execution_count": 35,
   "metadata": {},
   "outputs": [],
   "source": [
    "# Ramsey King\n",
    "# DSC 550 - Data Mining\n",
    "# November 7, 2021\n",
    "# Exercise 9.3"
   ]
  },
  {
   "cell_type": "code",
   "execution_count": 36,
   "metadata": {},
   "outputs": [
    {
     "data": {
      "text/plain": [
       "(606476, 2)"
      ]
     },
     "execution_count": 36,
     "metadata": {},
     "output_type": "execute_result"
    }
   ],
   "source": [
    "import pandas as pd\n",
    "import numpy as np\n",
    "import re\n",
    "from nltk.corpus import stopwords\n",
    "from nltk.stem import SnowballStemmer\n",
    "from sklearn.feature_extraction.text import TfidfVectorizer\n",
    "from sklearn.svm import LinearSVC\n",
    "from sklearn.pipeline import Pipeline\n",
    "from sklearn.model_selection import train_test_split\n",
    "from sklearn.feature_selection import SelectKBest, chi2\n",
    "from sklearn.metrics import precision_score, recall_score, f1_score, confusion_matrix, ConfusionMatrixDisplay\n",
    "import matplotlib.pyplot as plt\n",
    "\n",
    "data = pd.read_json('categorized-comments.jsonl', lines=True)\n",
    "data.head(1)\n",
    "data.shape\n",
    "\n"
   ]
  },
  {
   "cell_type": "code",
   "execution_count": 37,
   "metadata": {},
   "outputs": [
    {
     "data": {
      "text/plain": [
       "['sports', 'video_games', 'science_and_technology']"
      ]
     },
     "execution_count": 37,
     "metadata": {},
     "output_type": "execute_result"
    }
   ],
   "source": [
    "category_list = list(set(data['cat']))\n",
    "category_list"
   ]
  },
  {
   "cell_type": "code",
   "execution_count": 38,
   "metadata": {},
   "outputs": [],
   "source": [
    "def make_categorical(corpus_cat):\n",
    "    cat_dictionary = {\n",
    "        'science_and_technology': 1,\n",
    "        'sports': 2,\n",
    "        'video_games': 3,\n",
    "    }\n",
    "\n",
    "    return cat_dictionary.get(corpus_cat)\n",
    "\n",
    "data['cat_num'] = data['cat'].apply(make_categorical)\n"
   ]
  },
  {
   "cell_type": "markdown",
   "metadata": {},
   "source": [
    "1. Neural Network Classifier with Scikit\n",
    "\n",
    "Using the multi-label classifier dataset (categorized-comments.jsonl), fit a neural network classifier using scikit-learn to predict the comment category. Use the code found in chapter 12 of the Applied Text Analysis with Python book as a guide, but you will need to modify the code for this dataset. Report the accuracy, precision, recall, F1-score, and confusion matrix."
   ]
  },
  {
   "cell_type": "code",
   "execution_count": 39,
   "metadata": {},
   "outputs": [
    {
     "data": {
      "text/plain": [
       "'bare better gabbert he signific better year he th passer rate ahead guy like philip river carson palmer eli man tyrod taylor and worst surround offens cast leagu he without doubt better career backup list although jimmi g could potenti better riski kaep especi get one cheap year anyway still get rid much acquir'"
      ]
     },
     "execution_count": 39,
     "metadata": {},
     "output_type": "execute_result"
    }
   ],
   "source": [
    "stemmer = SnowballStemmer('english')\n",
    "stop_words = stopwords.words('english')\n",
    "\n",
    "data['processed_text'] = data['txt'].apply(lambda x: \" \".join([stemmer.stem(i) for i in re.sub('[^a-zA-Z]', \" \", x).split() if i not in stop_words]).lower())\n",
    "data['processed_text'][0]"
   ]
  },
  {
   "cell_type": "markdown",
   "metadata": {},
   "source": [
    "We will get the scores required to satsify the exercise requirements:"
   ]
  },
  {
   "cell_type": "code",
   "execution_count": 40,
   "metadata": {},
   "outputs": [
    {
     "name": "stdout",
     "output_type": "stream",
     "text": [
      "Top 10 keywords per class: \n",
      "1: textra fingerprint linkm nougat snapdragon moto whatsapp bootloop rcs allo\n",
      "2: futbin lfc msu clemson auburn wl otw sbc klopp cfb\n",
      "3: joycon lucio dota mmr bungi rubi amethyst wii nintendo mut\n",
      "accuracy score: 0.8549746075715605\n",
      "f1_score: 0.7751635000208775\n",
      "recall: 0.710042687609802\n",
      "precision: 0.8966584063567055\n",
      "[[ 11925    154   7952]\n",
      " [   109  64546  51886]\n",
      " [   890   5750 341968]]\n"
     ]
    }
   ],
   "source": [
    "X_train, X_test, y_train, y_test = train_test_split(data['processed_text'], data.cat_num, test_size=0.2)\n",
    "\n",
    "pipeline = Pipeline([('vect', TfidfVectorizer(ngram_range=(1,2), stop_words='english', sublinear_tf=True)),\n",
    "('chi', SelectKBest(chi2, k=10000)),\n",
    "('clf', LinearSVC(C=1.0, penalty='l1', max_iter=3000, dual=False))\n",
    "])\n",
    "\n",
    "model = pipeline.fit(X_train, y_train)\n",
    "predicted_values = model.predict(X_train)\n",
    "\n",
    "vectorizer = model.named_steps['vect']\n",
    "chi = model.named_steps['chi']\n",
    "clf = model.named_steps['clf']\n",
    "\n",
    "feature_names = vectorizer.get_feature_names_out()\n",
    "feature_names = [feature_names[i] for i in chi.get_support(indices=True)]\n",
    "feature_names = np.asarray(feature_names)\n",
    "\n",
    "target_names = ['1', '2', '3']\n",
    "\n",
    "print(\"Top 10 keywords per class: \")\n",
    "for i, label in enumerate(target_names):\n",
    "    top10 = np.argsort(clf.coef_[i])[-10:]\n",
    "    print('%s: %s' % (label, \" \".join(feature_names[top10])))\n",
    "\n",
    "\n",
    "\n",
    "print(\"accuracy score: \" + str(model.score(X_test, y_test)))\n",
    "print(\"f1_score: \" + str(f1_score(y_train, predicted_values, average='macro')))\n",
    "print(\"recall: \" + str(recall_score(y_train, predicted_values, average='macro')))\n",
    "print(\"precision: \" + str(precision_score(y_train, predicted_values, average='macro')))\n",
    "print(str(confusion_matrix(y_train, predicted_values)))\n",
    "\n",
    "\n",
    "\n"
   ]
  },
  {
   "cell_type": "code",
   "execution_count": 41,
   "metadata": {},
   "outputs": [
    {
     "name": "stdout",
     "output_type": "stream",
     "text": [
      "f1_score: 0.7751635000208775\n"
     ]
    }
   ],
   "source": [
    "# f1_score\n",
    "print(\"f1_score: \" + str(f1_score(y_train, predicted_values, average='macro')))"
   ]
  },
  {
   "cell_type": "code",
   "execution_count": 42,
   "metadata": {},
   "outputs": [
    {
     "name": "stdout",
     "output_type": "stream",
     "text": [
      "recall: 0.710042687609802\n"
     ]
    }
   ],
   "source": [
    "# recall score\n",
    "print(\"recall: \" + str(recall_score(y_train, predicted_values, average='macro')))\n"
   ]
  },
  {
   "cell_type": "code",
   "execution_count": 43,
   "metadata": {},
   "outputs": [
    {
     "name": "stdout",
     "output_type": "stream",
     "text": [
      "precision: 0.8966584063567055\n"
     ]
    }
   ],
   "source": [
    "# precision\n",
    "print(\"precision: \" + str(precision_score(y_train, predicted_values, average='macro')))\n"
   ]
  },
  {
   "cell_type": "code",
   "execution_count": 49,
   "metadata": {},
   "outputs": [
    {
     "data": {
      "image/png": "[encoded data removed]",
      "text/plain": [
       "<Figure size 432x288 with 2 Axes>"
      ]
     },
     "metadata": {
      "needs_background": "light"
     },
     "output_type": "display_data"
    }
   ],
   "source": [
    "# Confusion Matrix\n",
    "cm = confusion_matrix(y_train, predicted_values, labels=clf.classes_)\n",
    "disp = ConfusionMatrixDisplay(confusion_matrix=cm, display_labels=clf.classes_)\n",
    "disp.plot()\n",
    "plt.title(\"1-Sci & Tech, 2-Sports, 3-Video Games\")\n",
    "plt.show()"
   ]
  }
 ],
 "metadata": {
  "interpreter": {
   "hash": "bf60427b139290154779a7e38fd0f127f78e5a9dfc17b4a4bd1d849158c5fa70"
  },
  "kernelspec": {
   "display_name": "Python 3.7.6 64-bit ('base': conda)",
   "name": "python3"
  },
  "language_info": {
   "codemirror_mode": {
    "name": "ipython",
    "version": 3
   },
   "file_extension": ".py",
   "mimetype": "text/x-python",
   "name": "python",
   "nbconvert_exporter": "python",
   "pygments_lexer": "ipython3",
   "version": "3.7.6"
  },
  "orig_nbformat": 4
 },
 "nbformat": 4,
 "nbformat_minor": 2
}
