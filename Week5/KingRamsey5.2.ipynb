{
 "cells": [
  {
   "cell_type": "markdown",
   "metadata": {
    "collapsed": true,
    "pycharm": {
     "name": "#%% md\n"
    }
   },
   "source": [
    "# Ramsey King\n",
    "# DSC 550 - Data Mining\n",
    "# October 2, 2021\n",
    "# Exercise 5.2 - Graph Analysis"
   ]
  },
  {
   "cell_type": "code",
   "execution_count": 9,
   "outputs": [],
   "source": [
    "# This is following the instructions as provided in the Hypothesis Case Study Part 1\n",
    "import pandas as pd\n",
    "import numpy as np\n",
    "import string\n",
    "import re\n",
    "import matplotlib.pyplot as plt\n",
    "from collections import Counter\n",
    "\n",
    "#Step 1:  Load data into a dataframe\n",
    "addr1 = \"/home/ramsey/PycharmProjects/DSC-550-Data-Mining/Week5/articles1.csv\"\n",
    "articles = pd.read_csv(addr1)"
   ],
   "metadata": {
    "collapsed": false,
    "pycharm": {
     "name": "#%%\n"
    }
   }
  },
  {
   "cell_type": "code",
   "execution_count": 10,
   "outputs": [
    {
     "name": "stdout",
     "output_type": "stream",
     "text": [
      "The dimension of the table is:  (50000, 10)\n"
     ]
    }
   ],
   "source": [
    "#Step 2:  check the dimension of the table/look at the data\n",
    "print(\"The dimension of the table is: \", articles.shape)"
   ],
   "metadata": {
    "collapsed": false,
    "pycharm": {
     "name": "#%%\n"
    }
   }
  },
  {
   "cell_type": "code",
   "execution_count": 11,
   "outputs": [
    {
     "data": {
      "text/plain": "   Unnamed: 0     id                                              title  \\\n0           0  17283  House Republicans Fret About Winning Their Hea...   \n1           1  17284  Rift Between Officers and Residents as Killing...   \n2           2  17285  Tyrus Wong, ‘Bambi’ Artist Thwarted by Racial ...   \n3           3  17286  Among Deaths in 2016, a Heavy Toll in Pop Musi...   \n4           4  17287  Kim Jong-un Says North Korea Is Preparing to T...   \n\n      publication                         author        date    year  month  \\\n0  New York Times                     Carl Hulse  2016-12-31  2016.0   12.0   \n1  New York Times  Benjamin Mueller and Al Baker  2017-06-19  2017.0    6.0   \n2  New York Times                   Margalit Fox  2017-01-06  2017.0    1.0   \n3  New York Times               William McDonald  2017-04-10  2017.0    4.0   \n4  New York Times                  Choe Sang-Hun  2017-01-02  2017.0    1.0   \n\n   url                                            content  \n0  NaN  WASHINGTON  —   Congressional Republicans have...  \n1  NaN  After the bullet shells get counted, the blood...  \n2  NaN  When Walt Disney’s “Bambi” opened in 1942, cri...  \n3  NaN  Death may be the great equalizer, but it isn’t...  \n4  NaN  SEOUL, South Korea  —   North Korea’s leader, ...  ",
      "text/html": "<div>\n<style scoped>\n    .dataframe tbody tr th:only-of-type {\n        vertical-align: middle;\n    }\n\n    .dataframe tbody tr th {\n        vertical-align: top;\n    }\n\n    .dataframe thead th {\n        text-align: right;\n    }\n</style>\n<table border=\"1\" class=\"dataframe\">\n  <thead>\n    <tr style=\"text-align: right;\">\n      <th></th>\n      <th>Unnamed: 0</th>\n      <th>id</th>\n      <th>title</th>\n      <th>publication</th>\n      <th>author</th>\n      <th>date</th>\n      <th>year</th>\n      <th>month</th>\n      <th>url</th>\n      <th>content</th>\n    </tr>\n  </thead>\n  <tbody>\n    <tr>\n      <th>0</th>\n      <td>0</td>\n      <td>17283</td>\n      <td>House Republicans Fret About Winning Their Hea...</td>\n      <td>New York Times</td>\n      <td>Carl Hulse</td>\n      <td>2016-12-31</td>\n      <td>2016.0</td>\n      <td>12.0</td>\n      <td>NaN</td>\n      <td>WASHINGTON  —   Congressional Republicans have...</td>\n    </tr>\n    <tr>\n      <th>1</th>\n      <td>1</td>\n      <td>17284</td>\n      <td>Rift Between Officers and Residents as Killing...</td>\n      <td>New York Times</td>\n      <td>Benjamin Mueller and Al Baker</td>\n      <td>2017-06-19</td>\n      <td>2017.0</td>\n      <td>6.0</td>\n      <td>NaN</td>\n      <td>After the bullet shells get counted, the blood...</td>\n    </tr>\n    <tr>\n      <th>2</th>\n      <td>2</td>\n      <td>17285</td>\n      <td>Tyrus Wong, ‘Bambi’ Artist Thwarted by Racial ...</td>\n      <td>New York Times</td>\n      <td>Margalit Fox</td>\n      <td>2017-01-06</td>\n      <td>2017.0</td>\n      <td>1.0</td>\n      <td>NaN</td>\n      <td>When Walt Disney’s “Bambi” opened in 1942, cri...</td>\n    </tr>\n    <tr>\n      <th>3</th>\n      <td>3</td>\n      <td>17286</td>\n      <td>Among Deaths in 2016, a Heavy Toll in Pop Musi...</td>\n      <td>New York Times</td>\n      <td>William McDonald</td>\n      <td>2017-04-10</td>\n      <td>2017.0</td>\n      <td>4.0</td>\n      <td>NaN</td>\n      <td>Death may be the great equalizer, but it isn’t...</td>\n    </tr>\n    <tr>\n      <th>4</th>\n      <td>4</td>\n      <td>17287</td>\n      <td>Kim Jong-un Says North Korea Is Preparing to T...</td>\n      <td>New York Times</td>\n      <td>Choe Sang-Hun</td>\n      <td>2017-01-02</td>\n      <td>2017.0</td>\n      <td>1.0</td>\n      <td>NaN</td>\n      <td>SEOUL, South Korea  —   North Korea’s leader, ...</td>\n    </tr>\n  </tbody>\n</table>\n</div>"
     },
     "execution_count": 11,
     "metadata": {},
     "output_type": "execute_result"
    }
   ],
   "source": [
    "#Display the data\n",
    "articles.head()"
   ],
   "metadata": {
    "collapsed": false,
    "pycharm": {
     "name": "#%%\n"
    }
   }
  },
  {
   "cell_type": "code",
   "execution_count": 12,
   "outputs": [
    {
     "name": "stdout",
     "output_type": "stream",
     "text": [
      "Describe Data\n",
      "         Unnamed: 0            id          year         month  url\n",
      "count  50000.000000  50000.000000  50000.000000  50000.000000  0.0\n",
      "mean   25694.378380  44432.454800   2016.273700      5.508940  NaN\n",
      "std    15350.143677  15773.615179      0.634694      3.333062  NaN\n",
      "min        0.000000  17283.000000   2011.000000      1.000000  NaN\n",
      "25%    12500.750000  31236.750000   2016.000000      3.000000  NaN\n",
      "50%    25004.500000  43757.500000   2016.000000      5.000000  NaN\n",
      "75%    38630.250000  57479.250000   2017.000000      8.000000  NaN\n",
      "max    53291.000000  73469.000000   2017.000000     12.000000  NaN\n",
      "Summarized Data\n",
      "                                                    title publication  \\\n",
      "count                                               50000       50000   \n",
      "unique                                              49920           5   \n",
      "top     The 10 most important things in the world righ...   Breitbart   \n",
      "freq                                                    7       23781   \n",
      "\n",
      "                author        date        content  \n",
      "count            43694       50000          50000  \n",
      "unique            3603         983          49888  \n",
      "top     Breitbart News  2016-08-22  advertisement  \n",
      "freq              1559         221             42  \n"
     ]
    }
   ],
   "source": [
    "#what type of variables are in the table\n",
    "print(\"Describe Data\")\n",
    "print(articles.describe())\n",
    "print(\"Summarized Data\")\n",
    "print(articles.describe(include=['O']))"
   ],
   "metadata": {
    "collapsed": false,
    "pycharm": {
     "name": "#%%\n"
    }
   }
  },
  {
   "cell_type": "markdown",
   "source": [
    "include=['O'] in the describe method is used to include statistics on columns containing strings."
   ],
   "metadata": {
    "collapsed": false,
    "pycharm": {
     "name": "#%% md\n"
    }
   }
  },
  {
   "cell_type": "code",
   "execution_count": 13,
   "outputs": [
    {
     "data": {
      "text/plain": "50000"
     },
     "execution_count": 13,
     "metadata": {},
     "output_type": "execute_result"
    }
   ],
   "source": [
    "#display length of data\n",
    "len(articles)"
   ],
   "metadata": {
    "collapsed": false,
    "pycharm": {
     "name": "#%%\n"
    }
   }
  },
  {
   "cell_type": "code",
   "execution_count": 14,
   "outputs": [
    {
     "data": {
      "text/plain": "array(['New York Times', 'Breitbart', 'CNN', 'Business Insider',\n       'Atlantic'], dtype=object)"
     },
     "execution_count": 14,
     "metadata": {},
     "output_type": "execute_result"
    }
   ],
   "source": [
    "#display publishers (publications)\n",
    "articles.publication.unique()"
   ],
   "metadata": {
    "collapsed": false,
    "pycharm": {
     "name": "#%%\n"
    }
   }
  },
  {
   "cell_type": "code",
   "execution_count": 15,
   "outputs": [
    {
     "name": "stdout",
     "output_type": "stream",
     "text": [
      "2011.0\n"
     ]
    },
    {
     "data": {
      "text/plain": "2017.0"
     },
     "execution_count": 15,
     "metadata": {},
     "output_type": "execute_result"
    }
   ],
   "source": [
    "#display min, max of years published\n",
    "print(articles['year'].min())\n",
    "articles['year'].max()"
   ],
   "metadata": {
    "collapsed": false,
    "pycharm": {
     "name": "#%%\n"
    }
   }
  }
 ],
 "metadata": {
  "kernelspec": {
   "display_name": "Python 3",
   "language": "python",
   "name": "python3"
  },
  "language_info": {
   "codemirror_mode": {
    "name": "ipython",
    "version": 2
   },
   "file_extension": ".py",
   "mimetype": "text/x-python",
   "name": "python",
   "nbconvert_exporter": "python",
   "pygments_lexer": "ipython2",
   "version": "2.7.6"
  }
 },
 "nbformat": 4,
 "nbformat_minor": 0
}