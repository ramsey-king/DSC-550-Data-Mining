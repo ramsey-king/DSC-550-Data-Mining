{
 "cells": [
  {
   "cell_type": "markdown",
   "source": [
    "# Ramsey King\r\n",
    "# DSC 550 - Data Mining\r\n",
    "# October 10, 2021\r\n",
    "# Term Project Milestone 1"
   ],
   "metadata": {}
  },
  {
   "cell_type": "code",
   "execution_count": 4,
   "source": [
    "# Retreive talks from topics page using beautifulsoup\r\n",
    "\r\n",
    "from bs4 import BeautifulSoup as bs\r\n",
    "import requests\r\n",
    "import numpy as np\r\n",
    "import pandas as pd\r\n",
    "import matplotlib.pyplot as plt\r\n",
    "import re\r\n",
    "%matplotlib inline"
   ],
   "outputs": [],
   "metadata": {}
  },
  {
   "cell_type": "code",
   "execution_count": 25,
   "source": [
    "# Get list of urls for each of the topics\r\n",
    "\r\n",
    "url = \"https://speeches.byu.edu/topics/\"\r\n",
    "\r\n",
    "url_list = ['life/', 'jesus-christ/', 'faith/', 'learning/', 'service/']\r\n",
    "\r\n",
    "links = []\r\n",
    "new_links = []\r\n",
    "for u in url_list:\r\n",
    "\r\n",
    "    response = requests.get(url+u)\r\n",
    "    html = response.content\r\n",
    "    video = '?M=V'\r\n",
    "    soup = bs(html, \"lxml\")\r\n",
    "    for link in soup.findAll(\"a\", attrs={'href': re.compile(\"^https://speeches.byu.edu/talks/[\\D+]\")}):\r\n",
    "        links.append(link.get('href').replace(video, ''))\r\n",
    "\r\n",
    "    audio = '?M=A'\r\n",
    "    for link in links:\r\n",
    "        new_link = link.replace(audio, '')\r\n",
    "        new_links.append(new_link)\r\n",
    "    new_links = list(set(new_links))\r\n",
    "\r\n"
   ],
   "outputs": [],
   "metadata": {}
  },
  {
   "cell_type": "code",
   "execution_count": 108,
   "source": [
    "# Retrieves talk text from each of the urls using beautiful soup.\r\n",
    "talk_text = []\r\n",
    "title_text = []\r\n",
    "topics = []\r\n",
    "dates = []\r\n",
    "speakers = []\r\n",
    "\r\n",
    "for link in new_links:\r\n",
    "    url = link\r\n",
    "    response = requests.get(url)\r\n",
    "    html = response.content\r\n",
    "    soup = bs(html, 'lxml')\r\n",
    "    temp_list = []\r\n",
    "\r\n",
    "    link_splitter = link.split('/')\r\n",
    "    speakers.append(link_splitter[4].replace('-', ' '))\r\n",
    "\r\n",
    "    for div in soup.find_all('div', class_='single-speech__content'):\r\n",
    "        talk_text.append(div.get_text(strip=True))\r\n",
    "    for h1 in soup.find_all('h1', class_='single-speech__title'):\r\n",
    "        title_text.append(h1.get_text(strip=True))        \r\n",
    "    for p in soup.find_all('p', class_='single-speech__speaker-subtext single-speech__date'):\r\n",
    "        dates.append(p.get_text(strip=True))\r\n",
    "    for p in soup.find_all('p', class_='single-speech__related-tag'):\r\n",
    "        temp_list.append(p.get_text(strip=True))\r\n",
    "        temp_str = ','.join(temp_list)\r\n",
    "    topics.append(temp_str)\r\n",
    "\r\n",
    "\r\n",
    "dict = {'titles': title_text , 'speaker': speakers, 'date': dates, 'talks': talk_text, 'topics': topics, }\r\n",
    "df = pd.DataFrame(dict)\r\n",
    "df.to_csv('talks.csv')"
   ],
   "outputs": [],
   "metadata": {}
  },
  {
   "cell_type": "code",
   "execution_count": 152,
   "source": [
    "# get character lengths of each talk (may need to eliminate those less than 250 chars)\r\n",
    "df['char_lengths'] = pd.Series([len(x) for x in df.talks])\r\n",
    "# df.head(10)"
   ],
   "outputs": [],
   "metadata": {}
  },
  {
   "cell_type": "code",
   "execution_count": 153,
   "source": [
    "# get word count of each talk\r\n",
    "df['word_count'] = df['talks'].apply(lambda x: len(re.findall(r'\\w+', x)))"
   ],
   "outputs": [],
   "metadata": {}
  },
  {
   "cell_type": "code",
   "execution_count": 177,
   "source": [
    "# reduce the topic to the ones selected from our original selection ('life', 'jesus-christ', 'faith', 'learning', 'service')\r\n",
    "\r\n",
    "# the single_topic function takes the list of topics in the 'topics' column and will return the first topic it finds in the 'topic_selection_list'\r\n",
    "def single_topic(dataframe_topics):\r\n",
    "    column = [word for word in dataframe_topics.split(',')]\r\n",
    "    the_string =  ', '.join([val for ind, val in enumerate(topic_selection_list) if val in column])\r\n",
    "    return the_string.split(',')[0]\r\n",
    "\r\n",
    "topic_selection_list = [x[:-1].replace('-', ' ') for x in url_list]\r\n",
    "df['topics'] = df['topics'].apply(lambda x: x.lower())\r\n",
    "df['topic_singular'] = df['topics'].apply(single_topic)\r\n",
    "# remove quotations (\"\") from titles\r\n",
    "df['titles'] = df['titles'].apply(lambda x: re.sub(r'[^\\w\\s]', '', x))\r\n",
    "\r\n",
    "# convert date from object type to datetime type so a separate month and year column can be created\r\n",
    "# df['date'] = pd.to_datetime(df['date'], format=\"%B %#d, %Y\")\r\n",
    "df['month'] = df['date'].apply(lambda x: x.split(' ')[0])\r\n",
    "df['year'] = df['date'].apply(lambda x: x.split(' ')[2]).astype(int)\r\n",
    "df.shape\r\n"
   ],
   "outputs": [
    {
     "output_type": "execute_result",
     "data": {
      "text/plain": [
       "(456, 10)"
      ]
     },
     "metadata": {},
     "execution_count": 177
    }
   ],
   "metadata": {}
  },
  {
   "cell_type": "code",
   "execution_count": 178,
   "source": [
    "# Take a peek at the data\r\n",
    "df.head(7)"
   ],
   "outputs": [
    {
     "output_type": "execute_result",
     "data": {
      "text/html": [
       "<div>\n",
       "<style scoped>\n",
       "    .dataframe tbody tr th:only-of-type {\n",
       "        vertical-align: middle;\n",
       "    }\n",
       "\n",
       "    .dataframe tbody tr th {\n",
       "        vertical-align: top;\n",
       "    }\n",
       "\n",
       "    .dataframe thead th {\n",
       "        text-align: right;\n",
       "    }\n",
       "</style>\n",
       "<table border=\"1\" class=\"dataframe\">\n",
       "  <thead>\n",
       "    <tr style=\"text-align: right;\">\n",
       "      <th></th>\n",
       "      <th>titles</th>\n",
       "      <th>speaker</th>\n",
       "      <th>date</th>\n",
       "      <th>talks</th>\n",
       "      <th>topics</th>\n",
       "      <th>char_lengths</th>\n",
       "      <th>word_count</th>\n",
       "      <th>topic_singular</th>\n",
       "      <th>month</th>\n",
       "      <th>year</th>\n",
       "    </tr>\n",
       "  </thead>\n",
       "  <tbody>\n",
       "    <tr>\n",
       "      <th>0</th>\n",
       "      <td>A Proper Orientation on the Threshold of Life</td>\n",
       "      <td>mark e petersen</td>\n",
       "      <td>January 1, 1962</td>\n",
       "      <td>The things of the world, or of the flesh, must...</td>\n",
       "      <td>life,revelation</td>\n",
       "      <td>236</td>\n",
       "      <td>43</td>\n",
       "      <td>life</td>\n",
       "      <td>January</td>\n",
       "      <td>1962</td>\n",
       "    </tr>\n",
       "    <tr>\n",
       "      <th>1</th>\n",
       "      <td>Building Your Future</td>\n",
       "      <td>earl m woolley</td>\n",
       "      <td>October 3, 2000</td>\n",
       "      <td>It is frightening to be asked to speak to you ...</td>\n",
       "      <td>learning,life</td>\n",
       "      <td>23750</td>\n",
       "      <td>4084</td>\n",
       "      <td>life</td>\n",
       "      <td>October</td>\n",
       "      <td>2000</td>\n",
       "    </tr>\n",
       "    <tr>\n",
       "      <th>2</th>\n",
       "      <td>Would You Sell</td>\n",
       "      <td>carlos e asay</td>\n",
       "      <td>March 13, 1984</td>\n",
       "      <td>It is reported that the Prophet Joseph Smith s...</td>\n",
       "      <td>life,opportunity</td>\n",
       "      <td>25098</td>\n",
       "      <td>4579</td>\n",
       "      <td>life</td>\n",
       "      <td>March</td>\n",
       "      <td>1984</td>\n",
       "    </tr>\n",
       "    <tr>\n",
       "      <th>3</th>\n",
       "      <td>One Step Enough</td>\n",
       "      <td>john s tanner</td>\n",
       "      <td>June 30, 1992</td>\n",
       "      <td>In a Facetious Little Essay entitled “On Trans...</td>\n",
       "      <td>faith</td>\n",
       "      <td>26039</td>\n",
       "      <td>4710</td>\n",
       "      <td>faith</td>\n",
       "      <td>June</td>\n",
       "      <td>1992</td>\n",
       "    </tr>\n",
       "    <tr>\n",
       "      <th>4</th>\n",
       "      <td>The Story of My Life</td>\n",
       "      <td>thomas l martin</td>\n",
       "      <td>October 30, 1951</td>\n",
       "      <td>Thomas L. Martin humorously describes the main...</td>\n",
       "      <td>adversity,attitude,blessings,commitment,decisi...</td>\n",
       "      <td>239</td>\n",
       "      <td>41</td>\n",
       "      <td>faith</td>\n",
       "      <td>October</td>\n",
       "      <td>1951</td>\n",
       "    </tr>\n",
       "    <tr>\n",
       "      <th>5</th>\n",
       "      <td>The Power of Your Words</td>\n",
       "      <td>craig manning</td>\n",
       "      <td>January 31, 2017</td>\n",
       "      <td>I would like to explain the sequence of how I ...</td>\n",
       "      <td>faith,fear,podcast: recent speeches</td>\n",
       "      <td>17937</td>\n",
       "      <td>3326</td>\n",
       "      <td>faith</td>\n",
       "      <td>January</td>\n",
       "      <td>2017</td>\n",
       "    </tr>\n",
       "    <tr>\n",
       "      <th>6</th>\n",
       "      <td>Prepare for Useful Service</td>\n",
       "      <td>antoine r ivins</td>\n",
       "      <td>December 3, 1963</td>\n",
       "      <td>Antoine R. Ivins gives students spiritual and ...</td>\n",
       "      <td>preparation,service</td>\n",
       "      <td>216</td>\n",
       "      <td>34</td>\n",
       "      <td>service</td>\n",
       "      <td>December</td>\n",
       "      <td>1963</td>\n",
       "    </tr>\n",
       "  </tbody>\n",
       "</table>\n",
       "</div>"
      ],
      "text/plain": [
       "                                          titles          speaker  \\\n",
       "0  A Proper Orientation on the Threshold of Life  mark e petersen   \n",
       "1                           Building Your Future   earl m woolley   \n",
       "2                                 Would You Sell    carlos e asay   \n",
       "3                                One Step Enough    john s tanner   \n",
       "4                           The Story of My Life  thomas l martin   \n",
       "5                        The Power of Your Words    craig manning   \n",
       "6                     Prepare for Useful Service  antoine r ivins   \n",
       "\n",
       "               date                                              talks  \\\n",
       "0   January 1, 1962  The things of the world, or of the flesh, must...   \n",
       "1   October 3, 2000  It is frightening to be asked to speak to you ...   \n",
       "2    March 13, 1984  It is reported that the Prophet Joseph Smith s...   \n",
       "3     June 30, 1992  In a Facetious Little Essay entitled “On Trans...   \n",
       "4  October 30, 1951  Thomas L. Martin humorously describes the main...   \n",
       "5  January 31, 2017  I would like to explain the sequence of how I ...   \n",
       "6  December 3, 1963  Antoine R. Ivins gives students spiritual and ...   \n",
       "\n",
       "                                              topics  char_lengths  \\\n",
       "0                                    life,revelation           236   \n",
       "1                                      learning,life         23750   \n",
       "2                                   life,opportunity         25098   \n",
       "3                                              faith         26039   \n",
       "4  adversity,attitude,blessings,commitment,decisi...           239   \n",
       "5                faith,fear,podcast: recent speeches         17937   \n",
       "6                                preparation,service           216   \n",
       "\n",
       "   word_count topic_singular     month  year  \n",
       "0          43           life   January  1962  \n",
       "1        4084           life   October  2000  \n",
       "2        4579           life     March  1984  \n",
       "3        4710          faith      June  1992  \n",
       "4          41          faith   October  1951  \n",
       "5        3326          faith   January  2017  \n",
       "6          34        service  December  1963  "
      ]
     },
     "metadata": {},
     "execution_count": 178
    }
   ],
   "metadata": {}
  },
  {
   "cell_type": "code",
   "execution_count": 179,
   "source": [
    "print(\"Describe Data\")\r\n",
    "print(df.describe())\r\n",
    "print(\"Summarized Data\")\r\n",
    "print(df.describe(include=['O']))"
   ],
   "outputs": [
    {
     "output_type": "stream",
     "name": "stdout",
     "text": [
      "Describe Data\n",
      "       char_lengths   word_count         year\n",
      "count    456.000000   456.000000   456.000000\n",
      "mean   17916.844298  3259.418860  1997.914474\n",
      "std    11164.464968  2038.400655    18.178702\n",
      "min       84.000000    13.000000  1949.000000\n",
      "25%     8087.500000  1446.250000  1987.000000\n",
      "50%    20933.500000  3809.000000  2003.000000\n",
      "75%    25403.250000  4675.250000  2012.000000\n",
      "max    44865.000000  8284.000000  2021.000000\n",
      "Summarized Data\n",
      "                   titles            speaker            date  \\\n",
      "count                 456                456             456   \n",
      "unique                453                304             424   \n",
      "top     Go Forth to Serve  cecil o samuelson  April 30, 2004   \n",
      "freq                    3                 13               6   \n",
      "\n",
      "                                                    talks topics  \\\n",
      "count                                                 456    456   \n",
      "unique                                                415    334   \n",
      "top     The text for this speech is unavailable. Pleas...   life   \n",
      "freq                                                   40     21   \n",
      "\n",
      "       topic_singular   month  \n",
      "count             456     456  \n",
      "unique              5      12  \n",
      "top              life  August  \n",
      "freq              108      68  \n"
     ]
    }
   ],
   "metadata": {}
  },
  {
   "cell_type": "code",
   "execution_count": 182,
   "source": [
    "import matplotlib.pyplot as plt\r\n",
    "\r\n",
    "# set up the figure size\r\n",
    "plt.rcParams['figure.figsize'] = (20, 10)\r\n",
    "\r\n",
    "# make subplots\r\n",
    "fig, axes = plt.subplots(nrows = 1, ncols = 3)\r\n",
    "\r\n",
    "# Specify the features of interest\r\n",
    "num_features = ['char_lengths', 'word_count', 'year']\r\n",
    "xaxes = num_features\r\n",
    "yaxes = ['Counts', 'Counts', 'Counts']\r\n",
    "\r\n",
    "# draw histograms\r\n",
    "axes = axes.ravel()\r\n",
    "for idx, ax in enumerate(axes):\r\n",
    "    ax.hist(df[num_features[idx]].dropna(), bins=40)\r\n",
    "    ax.set_xlabel(xaxes[idx], fontsize=20)\r\n",
    "    ax.set_ylabel(yaxes[idx], fontsize=20)\r\n",
    "    ax.tick_params(axis='both', labelsize=15)\r\n",
    "plt.show()"
   ],
   "outputs": [
    {
     "output_type": "display_data",
     "data": {
      "image/png": "[encoded data removed]",
      "text/plain": [
       "<Figure size 1440x720 with 3 Axes>"
      ]
     },
     "metadata": {
      "needs_background": "light"
     }
    }
   ],
   "metadata": {}
  },
  {
   "cell_type": "code",
   "execution_count": 197,
   "source": [
    "plt.rcParams['figure.figsize'] = (20, 10)\r\n",
    "\r\n",
    "# make subplots\r\n",
    "fig, axes = plt.subplots(nrows = 2, ncols = 2)\r\n",
    "\r\n",
    "# make the data read to feed into the visulizer\r\n",
    "X_Topics = df.groupby('topic_singular').size().reset_index(name='Counts')['topic_singular']\r\n",
    "Y_Topics = df.groupby('topic_singular').size().reset_index(name='Counts')['Counts']\r\n",
    "# make the bar plot\r\n",
    "axes[0,0].bar(X_Topics, Y_Topics)\r\n",
    "axes[0,0].set_title('Topics', fontsize=25)\r\n",
    "axes[0,0].set_ylabel('Counts', fontsize=20)\r\n",
    "axes[0,0].tick_params(axis='both', labelsize=15)\r\n",
    "\r\n",
    "# make the data read to feed into the visulizer\r\n",
    "X_Month = df.groupby('month').size().reset_index(name='Counts')['month']\r\n",
    "Y_Month = df.groupby('month').size().reset_index(name='Counts')['Counts']\r\n",
    "# make the bar plot\r\n",
    "axes[0, 1].bar(X_Month, Y_Month)\r\n",
    "axes[0, 1].set_title('Month', fontsize=25)\r\n",
    "axes[0, 1].set_ylabel('Counts', fontsize=20)\r\n",
    "axes[0, 1].tick_params(axis='both', labelsize=15)\r\n",
    "\r\n",
    "plt.show()\r\n"
   ],
   "outputs": [
    {
     "output_type": "display_data",
     "data": {
      "image/png": "[encoded data removed]",
      "text/plain": [
       "<Figure size 1440x720 with 4 Axes>"
      ]
     },
     "metadata": {
      "needs_background": "light"
     }
    }
   ],
   "metadata": {}
  }
 ],
 "metadata": {
  "orig_nbformat": 4,
  "language_info": {
   "name": "python",
   "version": "3.7.6",
   "mimetype": "text/x-python",
   "codemirror_mode": {
    "name": "ipython",
    "version": 3
   },
   "pygments_lexer": "ipython3",
   "nbconvert_exporter": "python",
   "file_extension": ".py"
  },
  "kernelspec": {
   "name": "python3",
   "display_name": "Python 3.7.6 64-bit ('base': conda)"
  },
  "interpreter": {
   "hash": "bf60427b139290154779a7e38fd0f127f78e5a9dfc17b4a4bd1d849158c5fa70"
  }
 },
 "nbformat": 4,
 "nbformat_minor": 2
}