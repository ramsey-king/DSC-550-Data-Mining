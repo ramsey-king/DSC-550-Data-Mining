{
 "cells": [
  {
   "cell_type": "markdown",
   "metadata": {},
   "source": [
    "# Ramsey King\n",
    "# DSC 550 - Data Mining\n",
    "# November 7, 2021\n",
    "# Term Project Milestone 4"
   ]
  },
  {
   "cell_type": "markdown",
   "metadata": {},
   "source": [
    "### My term project will consist of being able to guess the main topic of sermons given by members of The Church of Jesus Christ of Latter Day Saints as defined by the designated topic assigned to it at speeches.byu.edu.  The ability to search for sermons by topic on this website is available.  While this specific case is not a business use case of data mining, there are many business use cases for being able to identify text by topic or keyword (i.e. www.google.com).  \n",
    "### For purposes of this assignment, being able to quickly find topic related sermons is beneficial to members of the Church of Jesus Christ.  On occasion, members of the church are asked to give a sermon of their own on various topics, and having the ability to go to a resource and search the assigned topic by keyword helps to generate discussion points and give guidance as to what is appropriate to discuss.  For this project, we will limit the topics as defined by speeches.byu.edu. to give us an initial dataset of 800 rows before processing.  The topics and the count of the number of sermons given (as of October 4th, 2021) are: Life (108), Jesus Christ (106), Faith (100), Learning (97), Service (73), Discipleship (67), Righteousness (67), Divine Potential (66), Love (66), Adversity (57), Trials (56), Revelation (55), and Missionary Work (53).  This should provide enough data to work with but if there is a need, additional topics will be included to help with the corpus.  "
   ]
  },
  {
   "cell_type": "code",
   "execution_count": 58,
   "metadata": {},
   "outputs": [],
   "source": [
    "# Retrieve talks from topics page using BeautifulSoup\n",
    "\n",
    "from bs4 import BeautifulSoup as bs\n",
    "import requests\n",
    "# import numpy as np\n",
    "import pandas as pd\n",
    "import matplotlib.pyplot as plt\n",
    "import re\n",
    "%matplotlib inline"
   ]
  },
  {
   "cell_type": "markdown",
   "metadata": {},
   "source": [
    "Now that we have BeautifulSoup imported, we will gather the links on the speeches.byu.edu website based on the topics listed above (Faith, Learning, Service, etc.).  "
   ]
  },
  {
   "cell_type": "code",
   "execution_count": 59,
   "metadata": {},
   "outputs": [],
   "source": [
    "# Get list of urls for each of the topics\n",
    "\n",
    "url = \"https://speeches.byu.edu/topics/\"\n",
    "\n",
    "url_list = [\n",
    "    'life/', 'jesus-christ/', 'faith/', 'learning/', 'service/', 'discipleship/', 'righteousness/', \n",
    "    'divine-potential/', 'love/', 'adversity/', 'trials/', 'revelation/', 'missionary-work/'\n",
    "]\n",
    "\n",
    "links = []\n",
    "new_links = []\n",
    "# some of the links are repeated with '?M=V' and '?M=A' and those will be removed so we can have a unique set of links to pull talk information from.\n",
    "for u in url_list:\n",
    "\n",
    "    response = requests.get(url+u)\n",
    "    html = response.content\n",
    "    video = '?M=V'\n",
    "    soup = bs(html, \"lxml\")\n",
    "    for link in soup.findAll(\"a\", attrs={'href': re.compile(\"^https://speeches.byu.edu/talks/[\\D+]\")}):\n",
    "        links.append(link.get('href').replace(video, ''))\n",
    "\n",
    "    audio = '?M=A'\n",
    "    for link in links:\n",
    "        new_link = link.replace(audio, '')\n",
    "        new_links.append(new_link)\n",
    "    new_links = list(set(new_links))\n",
    "\n"
   ]
  },
  {
   "cell_type": "markdown",
   "metadata": {},
   "source": [
    "Now that the links have been gathered into a list, we will use this list to retrieve the individual sermon/talk/speech text from the respective link.  On a specific speech page, the following information will be gathered:\n",
    " - Speaker name\n",
    " - Talk title\n",
    " - Assigned topic\n",
    " - Date when the talk was given\n",
    " - The speaker's title (if they have a certain position within The Church of Jesus Christ of Latter Day Saints, Brigham Young University, etc.  If there is no position or title listed for the speaker, we will return 'Title Not Found')\n",
    " - The talk text\n",
    "\n",
    " This information will be combined into a dataframe for analysis.  This information will also be combined into a csv file in case work needs to be completed offline."
   ]
  },
  {
   "cell_type": "code",
   "execution_count": 60,
   "metadata": {},
   "outputs": [],
   "source": [
    "'''Retrieves talk text from each of the urls using beautiful soup.  Information such as the talk/sermon text, title, topic, date, and speaker will be retreived\n",
    "and put into a dataframe.  A csv file will also be saved due to the time it takes to run or in case we need to work offline.'''\n",
    "talk_text = []\n",
    "title_text = []\n",
    "topics = []\n",
    "dates = []\n",
    "speakers = []\n",
    "speaker_position = []\n",
    "\n",
    "for link in new_links:\n",
    "    url = link\n",
    "    response = requests.get(url)\n",
    "    html = response.content\n",
    "    soup = bs(html, 'lxml')\n",
    "    temp_list = []\n",
    "\n",
    "    link_splitter = link.split('/')\n",
    "    speakers.append(link_splitter[4].replace('-', ' '))\n",
    "\n",
    "    result = soup.find('p', class_='single-speech__speaker-subtext single-speech__speaker-position')\n",
    "    speaker_position.append(result.text if result else 'Title Not Found')\n",
    "\n",
    "    for div in soup.find_all('div', class_='single-speech__content'):\n",
    "        talk_text.append(div.get_text(strip=True))\n",
    "    for h1 in soup.find_all('h1', class_='single-speech__title'):\n",
    "        title_text.append(h1.get_text(strip=True))        \n",
    "    for p in soup.find_all('p', class_='single-speech__speaker-subtext single-speech__date'):\n",
    "        dates.append(p.get_text(strip=True))\n",
    "    for p in soup.find_all('p', class_='single-speech__related-tag'):\n",
    "        temp_list.append(p.get_text(strip=True))\n",
    "        temp_str = ','.join(temp_list)\n",
    "    topics.append(temp_str)\n",
    "\n",
    "\n",
    "dict = {'titles': title_text , 'speaker': speakers, 'speaker_position': speaker_position , 'date': dates, 'talks': talk_text, 'topics': topics, }\n",
    "df = pd.DataFrame(dict)\n",
    "# df.to_csv('talks.csv')"
   ]
  },
  {
   "cell_type": "markdown",
   "metadata": {},
   "source": [
    "Now that the talk information has been combined into a dataframe, we can begin pre-processing and gathering initial statistical information.  To begin, we will get the word count of each talk and place it in one of our columns."
   ]
  },
  {
   "cell_type": "code",
   "execution_count": 61,
   "metadata": {},
   "outputs": [],
   "source": [
    "# get word count of each talk\n",
    "df['word_count'] = df['talks'].apply(lambda x: len(re.findall(r'\\w+', x)))"
   ]
  },
  {
   "cell_type": "markdown",
   "metadata": {},
   "source": [
    "Some talks have multiple topic associated with them on their webpage where the talk text was retrieved.  For purposes of this exercise (and project), we will take the first topic that is listed on the page and that will be our defining topic that will be used for analysis and modeling.  We will also create time columns (Month, Year, and month as an integer) to see if insights can be gained from them. "
   ]
  },
  {
   "cell_type": "code",
   "execution_count": 62,
   "metadata": {},
   "outputs": [
    {
     "data": {
      "text/plain": [
       "(809, 12)"
      ]
     },
     "execution_count": 62,
     "metadata": {},
     "output_type": "execute_result"
    }
   ],
   "source": [
    "# reduce the topic to the ones selected from our original selection ('life', 'jesus-christ', 'faith', 'learning', 'service')\n",
    "from datetime import datetime\n",
    "# the single_topic function takes the list of topics in the 'topics' column and will return the first topic it finds in the 'topic_selection_list'\n",
    "def single_topic(dataframe_topics):\n",
    "    column = [word for word in dataframe_topics.split(',')]\n",
    "    the_string =  ', '.join([val for ind, val in enumerate(topic_selection_list) if val in column])\n",
    "    return the_string.split(',')[0]\n",
    "\n",
    "# removes the '/' from the url list and '-' from topics containing dashes such as 'jesus-christ'\n",
    "topic_selection_list = [x[:-1].replace('-', ' ') for x in url_list]\n",
    "df['topics'] = df['topics'].apply(lambda x: x.lower())\n",
    "df['topic_singular'] = df['topics'].apply(single_topic)\n",
    "\n",
    "# remove quotations (\"\") and all other punctuation from titles\n",
    "df['titles'] = df['titles'].apply(lambda x: re.sub(r'[^\\w\\s]', '', x))\n",
    "\n",
    "# create separate month and year column and create a number column representing the month \n",
    "df['month'] = df['date'].apply(lambda x: x.split(' ')[0])\n",
    "# df['month_dt'] = df['month'].apply(lambda x: datetime.strptime(x, '%B'))\n",
    "df['month_dt'] = pd.to_datetime(df['month'], format='%B')\n",
    "df['year'] = df['date'].apply(lambda x: x.split(' ')[2]).astype(int)\n",
    "\n",
    "def month_to_int(month_string):\n",
    "    month_dictionary = {\n",
    "        'January': 1,\n",
    "        'February': 2,\n",
    "        'March': 3,\n",
    "        'April': 4,\n",
    "        'May': 5,\n",
    "        'June': 6,\n",
    "        'July': 7,\n",
    "        'August': 8,\n",
    "        'September': 9,\n",
    "        'October': 10,\n",
    "        'November': 11,\n",
    "        'December': 12\n",
    "    }\n",
    "\n",
    "    return month_dictionary.get(month_string)\n",
    "    \n",
    "df['month_number'] = df['month'].apply(month_to_int)\n",
    "\n",
    "# get the dimensions of the dataset\n",
    "df.shape\n"
   ]
  },
  {
   "cell_type": "markdown",
   "metadata": {},
   "source": [
    "Some of the webpages that data was scraped from did not have the talk text on the page.  Those will be removed from our dataframe."
   ]
  },
  {
   "cell_type": "code",
   "execution_count": 63,
   "metadata": {},
   "outputs": [
    {
     "name": "stdout",
     "output_type": "stream",
     "text": [
      "(809, 12)\n"
     ]
    },
    {
     "data": {
      "text/plain": [
       "(654, 12)"
      ]
     },
     "execution_count": 63,
     "metadata": {},
     "output_type": "execute_result"
    }
   ],
   "source": [
    "# Remove the talks that do not contain any data.\n",
    "print(df.shape)\n",
    "df = df[df['talks'].str.contains('for this speech is unavailable')==False]\n",
    "df.shape"
   ]
  },
  {
   "cell_type": "markdown",
   "metadata": {},
   "source": [
    "At this time, we have an initial dataframe of information that we begin doing some statistical analysis on.  We will take a look at the dataframe."
   ]
  },
  {
   "cell_type": "code",
   "execution_count": 64,
   "metadata": {},
   "outputs": [
    {
     "data": {
      "text/html": [
       "<div>\n",
       "<style scoped>\n",
       "    .dataframe tbody tr th:only-of-type {\n",
       "        vertical-align: middle;\n",
       "    }\n",
       "\n",
       "    .dataframe tbody tr th {\n",
       "        vertical-align: top;\n",
       "    }\n",
       "\n",
       "    .dataframe thead th {\n",
       "        text-align: right;\n",
       "    }\n",
       "</style>\n",
       "<table border=\"1\" class=\"dataframe\">\n",
       "  <thead>\n",
       "    <tr style=\"text-align: right;\">\n",
       "      <th></th>\n",
       "      <th>topic_singular</th>\n",
       "      <th>titles</th>\n",
       "      <th>speaker</th>\n",
       "      <th>speaker_position</th>\n",
       "      <th>date</th>\n",
       "      <th>talks</th>\n",
       "      <th>topics</th>\n",
       "      <th>word_count</th>\n",
       "      <th>month</th>\n",
       "      <th>month_dt</th>\n",
       "      <th>year</th>\n",
       "      <th>month_number</th>\n",
       "    </tr>\n",
       "  </thead>\n",
       "  <tbody>\n",
       "    <tr>\n",
       "      <th>0</th>\n",
       "      <td>life</td>\n",
       "      <td>More Than Knowledge</td>\n",
       "      <td>shuei chen valerie woo</td>\n",
       "      <td>Student Representative</td>\n",
       "      <td>April 21, 2005</td>\n",
       "      <td>When I first found out that I was to speak at ...</td>\n",
       "      <td>byu,life</td>\n",
       "      <td>755</td>\n",
       "      <td>April</td>\n",
       "      <td>1900-04-01</td>\n",
       "      <td>2005</td>\n",
       "      <td>4</td>\n",
       "    </tr>\n",
       "    <tr>\n",
       "      <th>1</th>\n",
       "      <td>jesus christ</td>\n",
       "      <td>Believing Christ A Practical Approach to the A...</td>\n",
       "      <td>stephen e robinson</td>\n",
       "      <td>Professor of Ancient Scripture</td>\n",
       "      <td>May 29, 1990</td>\n",
       "      <td>The greatest dichotomy, the greatest problem i...</td>\n",
       "      <td>atonement,jesus christ,collection: jesus chris...</td>\n",
       "      <td>4641</td>\n",
       "      <td>May</td>\n",
       "      <td>1900-05-01</td>\n",
       "      <td>1990</td>\n",
       "      <td>5</td>\n",
       "    </tr>\n",
       "    <tr>\n",
       "      <th>2</th>\n",
       "      <td>faith</td>\n",
       "      <td>It Still Takes Faith</td>\n",
       "      <td>brent l top</td>\n",
       "      <td>Associate Dean of Religious Education</td>\n",
       "      <td>July 22, 1997</td>\n",
       "      <td>My brothers and sisters, I am honored to have ...</td>\n",
       "      <td>covenants,discipleship,faith,pioneers</td>\n",
       "      <td>7305</td>\n",
       "      <td>July</td>\n",
       "      <td>1900-07-01</td>\n",
       "      <td>1997</td>\n",
       "      <td>7</td>\n",
       "    </tr>\n",
       "    <tr>\n",
       "      <th>3</th>\n",
       "      <td>learning</td>\n",
       "      <td>Scholarship and Faith</td>\n",
       "      <td>ross spencer</td>\n",
       "      <td>Title Not Found</td>\n",
       "      <td>March 30, 2010</td>\n",
       "      <td>It is a privilege to be here today, but I have...</td>\n",
       "      <td>education,gospel,learning</td>\n",
       "      <td>3743</td>\n",
       "      <td>March</td>\n",
       "      <td>1900-03-01</td>\n",
       "      <td>2010</td>\n",
       "      <td>3</td>\n",
       "    </tr>\n",
       "    <tr>\n",
       "      <th>4</th>\n",
       "      <td>revelation</td>\n",
       "      <td>Our LifeChanging Partnership with the Spirit</td>\n",
       "      <td>michael a jensen</td>\n",
       "      <td>Title Not Found</td>\n",
       "      <td>May 5, 2009</td>\n",
       "      <td>Brothers and sisters, despite my anxiety over ...</td>\n",
       "      <td>holy ghost,revelation,spirit</td>\n",
       "      <td>4382</td>\n",
       "      <td>May</td>\n",
       "      <td>1900-05-01</td>\n",
       "      <td>2009</td>\n",
       "      <td>5</td>\n",
       "    </tr>\n",
       "    <tr>\n",
       "      <th>5</th>\n",
       "      <td>service</td>\n",
       "      <td>Investing for Eternity</td>\n",
       "      <td>john h groberg</td>\n",
       "      <td>of the Seventy</td>\n",
       "      <td>June 15, 1982</td>\n",
       "      <td>My dear brothers and sisters, BYU means a lot ...</td>\n",
       "      <td>kindness,righteousness,service,time management</td>\n",
       "      <td>5879</td>\n",
       "      <td>June</td>\n",
       "      <td>1900-06-01</td>\n",
       "      <td>1982</td>\n",
       "      <td>6</td>\n",
       "    </tr>\n",
       "    <tr>\n",
       "      <th>6</th>\n",
       "      <td>righteousness</td>\n",
       "      <td>A Disposition to Do Good Continually</td>\n",
       "      <td>spencer j condie</td>\n",
       "      <td>of the Seventy</td>\n",
       "      <td>February 9, 2010</td>\n",
       "      <td>As a little boy, a favorite activity in my gra...</td>\n",
       "      <td>repentance,righteousness,worthiness</td>\n",
       "      <td>4238</td>\n",
       "      <td>February</td>\n",
       "      <td>1900-02-01</td>\n",
       "      <td>2010</td>\n",
       "      <td>2</td>\n",
       "    </tr>\n",
       "  </tbody>\n",
       "</table>\n",
       "</div>"
      ],
      "text/plain": [
       "  topic_singular                                             titles  \\\n",
       "0           life                                More Than Knowledge   \n",
       "1   jesus christ  Believing Christ A Practical Approach to the A...   \n",
       "2          faith                               It Still Takes Faith   \n",
       "3       learning                              Scholarship and Faith   \n",
       "4     revelation       Our LifeChanging Partnership with the Spirit   \n",
       "5        service                             Investing for Eternity   \n",
       "6  righteousness               A Disposition to Do Good Continually   \n",
       "\n",
       "                  speaker                       speaker_position  \\\n",
       "0  shuei chen valerie woo                 Student Representative   \n",
       "1      stephen e robinson         Professor of Ancient Scripture   \n",
       "2             brent l top  Associate Dean of Religious Education   \n",
       "3            ross spencer                        Title Not Found   \n",
       "4        michael a jensen                        Title Not Found   \n",
       "5          john h groberg                         of the Seventy   \n",
       "6        spencer j condie                         of the Seventy   \n",
       "\n",
       "               date                                              talks  \\\n",
       "0    April 21, 2005  When I first found out that I was to speak at ...   \n",
       "1      May 29, 1990  The greatest dichotomy, the greatest problem i...   \n",
       "2     July 22, 1997  My brothers and sisters, I am honored to have ...   \n",
       "3    March 30, 2010  It is a privilege to be here today, but I have...   \n",
       "4       May 5, 2009  Brothers and sisters, despite my anxiety over ...   \n",
       "5     June 15, 1982  My dear brothers and sisters, BYU means a lot ...   \n",
       "6  February 9, 2010  As a little boy, a favorite activity in my gra...   \n",
       "\n",
       "                                              topics  word_count     month  \\\n",
       "0                                           byu,life         755     April   \n",
       "1  atonement,jesus christ,collection: jesus chris...        4641       May   \n",
       "2              covenants,discipleship,faith,pioneers        7305      July   \n",
       "3                          education,gospel,learning        3743     March   \n",
       "4                       holy ghost,revelation,spirit        4382       May   \n",
       "5     kindness,righteousness,service,time management        5879      June   \n",
       "6                repentance,righteousness,worthiness        4238  February   \n",
       "\n",
       "    month_dt  year  month_number  \n",
       "0 1900-04-01  2005             4  \n",
       "1 1900-05-01  1990             5  \n",
       "2 1900-07-01  1997             7  \n",
       "3 1900-03-01  2010             3  \n",
       "4 1900-05-01  2009             5  \n",
       "5 1900-06-01  1982             6  \n",
       "6 1900-02-01  2010             2  "
      ]
     },
     "execution_count": 64,
     "metadata": {},
     "output_type": "execute_result"
    }
   ],
   "source": [
    "# Take a peek at the data\n",
    "df.reset_index(inplace = True, drop = True)\n",
    "first_column = df.pop('topic_singular')\n",
    "df.insert(0, 'topic_singular', first_column)\n",
    "df.head(7)"
   ]
  },
  {
   "cell_type": "markdown",
   "metadata": {},
   "source": [
    "Some initial statistical information."
   ]
  },
  {
   "cell_type": "code",
   "execution_count": 65,
   "metadata": {},
   "outputs": [
    {
     "name": "stdout",
     "output_type": "stream",
     "text": [
      "Describe Data\n",
      "         word_count         year  month_number\n",
      "count    654.000000   654.000000    654.000000\n",
      "mean    4068.088685  2000.870031      6.186544\n",
      "std     1501.653363    13.989164      3.265027\n",
      "min       13.000000  1950.000000      1.000000\n",
      "25%     3369.500000  1990.000000      3.000000\n",
      "50%     4133.500000  2004.000000      6.000000\n",
      "75%     4974.500000  2012.000000      9.000000\n",
      "max    10827.000000  2021.000000     12.000000\n",
      "Summarized Data\n",
      "       topic_singular             titles          speaker speaker_position  \\\n",
      "count             654                654              654              654   \n",
      "unique             13                648              398              187   \n",
      "top              life  Go Forth to Serve  kevin j worthen  Title Not Found   \n",
      "freq               89                  4               16              187   \n",
      "\n",
      "                  date                                              talks  \\\n",
      "count              654                                                654   \n",
      "unique             600                                                653   \n",
      "top     April 30, 2004  I so greatly appreciated that music. I have ne...   \n",
      "freq                 5                                                  2   \n",
      "\n",
      "       topics   month  \n",
      "count     654     654  \n",
      "unique    501      12  \n",
      "top      life  August  \n",
      "freq       16      89  \n"
     ]
    }
   ],
   "source": [
    "# We want to get some inital statistical information from the dataset.\n",
    "print(\"Describe Data\")\n",
    "print(df.describe())\n",
    "print(\"Summarized Data\")\n",
    "print(df.describe(include=['O']))"
   ]
  },
  {
   "cell_type": "markdown",
   "metadata": {},
   "source": [
    "Based on the statistics, there is a talk that is duplicated.  We will find that talk and remove it from the dataset."
   ]
  },
  {
   "cell_type": "code",
   "execution_count": 66,
   "metadata": {},
   "outputs": [
    {
     "data": {
      "text/plain": [
       "(653, 12)"
      ]
     },
     "execution_count": 66,
     "metadata": {},
     "output_type": "execute_result"
    }
   ],
   "source": [
    "df = df[df['speaker'].str.contains('gordon b hinckley_greatest of these love')==False]\n",
    "df.shape\n"
   ]
  },
  {
   "cell_type": "markdown",
   "metadata": {},
   "source": [
    "Initial plots will be created to see if any insights can be gained.  We will plot the following:\n",
    "- talk word counts\n",
    "- year the talk was given\n",
    "- month the talk was given"
   ]
  },
  {
   "cell_type": "code",
   "execution_count": 67,
   "metadata": {},
   "outputs": [
    {
     "data": {
      "image/png": "[encoded data removed]",
      "text/plain": [
       "<Figure size 1440x720 with 3 Axes>"
      ]
     },
     "metadata": {
      "needs_background": "light"
     },
     "output_type": "display_data"
    }
   ],
   "source": [
    "import matplotlib.pyplot as plt\n",
    "from matplotlib.dates import DateFormatter\n",
    "# set up the figure size\n",
    "plt.rcParams['figure.figsize'] = (20, 10)\n",
    "\n",
    "# make subplots\n",
    "fig, axes = plt.subplots(nrows = 3, ncols = 1)\n",
    "\n",
    "# Specify the features of interest\n",
    "num_features = ['word_count', 'year', 'month_dt']\n",
    "xaxes = num_features\n",
    "yaxes = ['Counts', 'Counts', 'Counts']\n",
    "\n",
    "# draw histograms\n",
    "axes = axes.ravel()\n",
    "for idx, ax in enumerate(axes):\n",
    "    if idx == 2:\n",
    "        date_form = DateFormatter('%B')\n",
    "        ax.xaxis.set_major_formatter(date_form)\n",
    "        ax.hist(df[num_features[idx]].dropna(), bins=40)\n",
    "        ax.set_xlabel(xaxes[idx], fontsize=20)\n",
    "        ax.set_ylabel(yaxes[idx], fontsize=20)\n",
    "        ax.tick_params(axis='both', labelsize=15)    \n",
    "    else:\n",
    "        ax.hist(df[num_features[idx]].dropna(), bins=40)\n",
    "        ax.set_xlabel(xaxes[idx], fontsize=20)\n",
    "        ax.set_ylabel(yaxes[idx], fontsize=20)\n",
    "        ax.tick_params(axis='both', labelsize=15)\n",
    "\n",
    "plt.show()"
   ]
  },
  {
   "cell_type": "markdown",
   "metadata": {},
   "source": [
    "Based on the plot above, we can make a few observations:  \n",
    "- The overall number of talks increased as time has gone on.\n",
    "- August seems to be a popular month for people to give talks at Brigham Young University (suggesting that it coincides with the beginning of the school year)\n",
    "\n",
    "The next plot will give us count by topic."
   ]
  },
  {
   "cell_type": "code",
   "execution_count": 68,
   "metadata": {},
   "outputs": [
    {
     "data": {
      "image/png": "[encoded data removed]",
      "text/plain": [
       "<Figure size 1440x720 with 1 Axes>"
      ]
     },
     "metadata": {
      "needs_background": "light"
     },
     "output_type": "display_data"
    }
   ],
   "source": [
    "plt.rcParams['figure.figsize'] = (20, 10)\n",
    "\n",
    "# make subplots\n",
    "fig, axes = plt.subplots(nrows = 1, ncols = 1)\n",
    "\n",
    "# make the data read to feed into the visulizer\n",
    "X_Topics = df.groupby('topic_singular').size().reset_index(name='Counts')['topic_singular']\n",
    "Y_Topics = df.groupby('topic_singular').size().reset_index(name='Counts')['Counts']\n",
    "# make the bar plot\n",
    "axes.barh(X_Topics, Y_Topics)\n",
    "axes.set_title('Topics', fontsize=25)\n",
    "axes.set_ylabel('Counts', fontsize=20)\n",
    "axes.tick_params(axis='both', labelsize=15)\n",
    "\n",
    "plt.show()\n"
   ]
  },
  {
   "cell_type": "markdown",
   "metadata": {},
   "source": [
    "Observations from the topics bar chart:\n",
    "- Jesus Christ and Life are the most popular topics (of the most popular topics).  \n",
    "- All of the most popular seem to fall in line with a private religious university"
   ]
  },
  {
   "cell_type": "code",
   "execution_count": 69,
   "metadata": {},
   "outputs": [
    {
     "data": {
      "image/png": "[encoded data removed]",
      "text/plain": [
       "<Figure size 1080x504 with 2 Axes>"
      ]
     },
     "metadata": {
      "needs_background": "light"
     },
     "output_type": "display_data"
    }
   ],
   "source": [
    "#set up the figure size\n",
    "%matplotlib inline\n",
    "plt.rcParams['figure.figsize'] = (15, 7)\n",
    "\n",
    "# import the package for visulization of the correlation\n",
    "from yellowbrick.features import Rank2D\n",
    "\n",
    "num_features = ['word_count', 'year', 'month_number']\n",
    "\n",
    "# extract the numpy arrays from the data frame\n",
    "X = df[num_features].values\n",
    "\n",
    "# instantiate the visualizer with the Covariance ranking algorithm\n",
    "visualizer = Rank2D(features=num_features, algorithm='pearson')\n",
    "visualizer.fit(X)                # Fit the data to the visualizer\n",
    "visualizer.transform(X)             # Transform the data\n",
    "visualizer.poof(outpath=\"pcoords1.png\") # Draw/show/poof the data\n",
    "plt.show()"
   ]
  },
  {
   "cell_type": "markdown",
   "metadata": {},
   "source": [
    "A few observations from the Pearson Ranking matrix plot:\n",
    "- As the years increase (become more recent to our day), the speakers seem to have more to say (use more words).\n",
    "- The later in the year, the less sermons are given.  Maybe this is due to July being a summer month with not a lot of the student body present on campus, and December has winter break.\n",
    "\n",
    "The next plot will show a bar chart of the most popular topics (Faith, Jesus Christ, Learning, Life, and Service) and what month they were given."
   ]
  },
  {
   "cell_type": "code",
   "execution_count": 70,
   "metadata": {},
   "outputs": [
    {
     "data": {
      "image/png": "[encoded data removed]",
      "text/plain": [
       "<Figure size 1440x720 with 1 Axes>"
      ]
     },
     "metadata": {
      "needs_background": "light"
     },
     "output_type": "display_data"
    }
   ],
   "source": [
    "plt.rcParams['figure.figsize'] = (20, 10)\n",
    "\n",
    "# make subplots\n",
    "fig, axes = plt.subplots(nrows = 1, ncols = 1)\n",
    "\n",
    "# make the data read to feed into the visualizer\n",
    "month_number_faith = df[df['topic_singular']=='faith']['month_number'].value_counts()\n",
    "\n",
    "month_number_jc = df[df['topic_singular']=='jesus christ']['month_number'].value_counts()\n",
    "month_number_jc = month_number_jc.reindex(index = month_number_faith.index)\n",
    "\n",
    "month_number_learning = df[df['topic_singular']=='learning']['month_number'].value_counts()\n",
    "month_number_learning = month_number_learning.reindex(index = month_number_faith.index)\n",
    "\n",
    "month_number_life = df[df['topic_singular']=='life']['month_number'].value_counts()\n",
    "month_number_life = month_number_life.reindex(index = month_number_faith.index)\n",
    "\n",
    "month_number_service = df[df['topic_singular']=='service']['month_number'].value_counts()\n",
    "month_number_service = month_number_service.reindex(index = month_number_faith.index)\n",
    "# make the bar plot\n",
    "p1 = axes.bar(month_number_faith.index, month_number_faith.values)\n",
    "p2 = axes.bar(month_number_jc.index, month_number_jc.values, bottom=month_number_faith.values)\n",
    "p3 = axes.bar(month_number_learning.index, month_number_learning.values, bottom=month_number_faith.values)\n",
    "p4 = axes.bar(month_number_life.index, month_number_life.values, bottom=month_number_faith.values)\n",
    "p5 = axes.bar(month_number_service.index, month_number_service.values, bottom=month_number_faith.values)\n",
    "# date_form = DateFormatter('%B')\n",
    "# axes.xaxis.set_major_formatter(date_form)\n",
    "axes.set_title('Month Number', fontsize=25)\n",
    "axes.set_ylabel('Counts', fontsize=20)\n",
    "axes.tick_params(axis='both', labelsize=15)\n",
    "axes.legend((p1[0], p2[0], p3[0], p4[0], p5[0]), ('Faith', 'Jesus Christ', 'Learning', 'Life', 'Service'), fontsize = 15)\n",
    "\n",
    "plt.show()\n"
   ]
  },
  {
   "cell_type": "markdown",
   "metadata": {},
   "source": [
    "The following observations can be made from the chart above:\n",
    "\n",
    "- August is the most popular month for talks, with an overwhelming majority of the learning topics being contained there.\n",
    "- December is a popular month to discuss Jesus Christ (more than likely due to Christmas).\n",
    "- Faith and Service is a common theme no matter the time of year.\n",
    "- Jesus Christ as a topic is popular in March (perhaps due to Easter?).\n",
    "\n",
    "It will be interesting as we continue on with this project how these variables will play into the predictability of the project."
   ]
  },
  {
   "cell_type": "markdown",
   "metadata": {},
   "source": [
    "In Milestone 2, you should drop any features that are not useful for your model building. You should explain and justify why the feature dropped is not useful. You should address any missing data issues. Build any new features that you need for your model, e.g., create dummy variables for categorical features if necessary. Explain your process at each step. You can use any methods/tools you think are most appropriate. Again, keep in mind that this may look very different from what is done in the Titanic tutorial case study. You should do what makes sense for your project. Be careful to avoid data snooping in these steps."
   ]
  },
  {
   "cell_type": "markdown",
   "metadata": {},
   "source": [
    "Build any new features that you need for your model, e.g., create dummy variables for categorical features if necessary.\n",
    "\n",
    "We will now create dummy variables for the categorical designations in the topic_singular column that will be later used for model analysis.  Instead of using a dictionary to assign values to the categories (i.e. adversity = 1, divine potential = 2, etc.), we will use the get_dummies section so that the model will not give more importance to a higher number."
   ]
  },
  {
   "cell_type": "code",
   "execution_count": 71,
   "metadata": {},
   "outputs": [
    {
     "name": "stdout",
     "output_type": "stream",
     "text": [
      "<class 'pandas.core.frame.DataFrame'>\n",
      "Int64Index: 653 entries, 0 to 653\n",
      "Data columns (total 12 columns):\n",
      " #   Column            Non-Null Count  Dtype         \n",
      "---  ------            --------------  -----         \n",
      " 0   topic_singular    653 non-null    object        \n",
      " 1   titles            653 non-null    object        \n",
      " 2   speaker           653 non-null    object        \n",
      " 3   speaker_position  653 non-null    object        \n",
      " 4   date              653 non-null    object        \n",
      " 5   talks             653 non-null    object        \n",
      " 6   topics            653 non-null    object        \n",
      " 7   word_count        653 non-null    int64         \n",
      " 8   month             653 non-null    object        \n",
      " 9   month_dt          653 non-null    datetime64[ns]\n",
      " 10  year              653 non-null    int32         \n",
      " 11  month_number      653 non-null    int64         \n",
      "dtypes: datetime64[ns](1), int32(1), int64(2), object(8)\n",
      "memory usage: 63.8+ KB\n"
     ]
    }
   ],
   "source": [
    "# Assign the singular topics an number ID for model analysis\n",
    "\n",
    "# df = pd.get_dummies(df, prefix='topic_singular', columns=['topic_singular'])\n",
    "df.head(7)\n",
    "df.info()"
   ]
  },
  {
   "cell_type": "markdown",
   "metadata": {},
   "source": [
    "In Milestone 3, you will begin the process of model selection and evaluation. In addition, write step-by-step instructions for performing the model evaluation and selection part of your case study.\n",
    "\n",
    "In Milestone 3, you should build and evaluate at least one model. You can use any methods/tools you think are most appropriate, but you should explain/justify why you are choosing the model(s) and evaluation metric(s) you choose. It is important to think about what type of model and metric makes sense for the context of your problem. If you are familiar with hyperparameter tuning, this would also be a great addition to your project.\n",
    "\n",
    "Write a short overview/conclusion of the insights gained from your model building/evaluation.\n",
    "\n",
    "There is a little more processing that we would like to take care before building our model. First we will lower case all\n",
    "the words so words like 'Hello' and 'hello' can be treated the same."
   ]
  },
  {
   "cell_type": "code",
   "execution_count": 72,
   "metadata": {
    "collapsed": false,
    "pycharm": {
     "name": "#%%\n"
    }
   },
   "outputs": [
    {
     "data": {
      "text/plain": [
       "'the greatest dichotomy, the greatest problem in the entire universe, consists of two facts. the first we can read in doctrine and covenants 1:31: “for i the lord cannot look upon sin with the least degree of allowance.” that means he can’t stand it, he can’t tolerate it, he can’t blink, or look the other way, or sweep it under the rug. he can’t tolerate sin in the least degree. the other side of the dichotomy is very simply put: i sin, and so do you. if that were all there were to the equation, the conclusion would be inescapable that we, as sinful beings, cannot be tolerated in the presence of god.but that is not all there is to the equation. this morning i would like to talk to you about the atonement of christ, that glorious plan by which this dichotomy can be resolved. i would like to share with you incidents from my own life that illustrate how the atonement works in a practical, everyday setting.believing christfirst is a story about my son, michael, who did something wrong when he was six or seven years old. he’s my only son, and i’m hard on him. i want him to be better than his dad was, even as a boy, and so i lean on him and expect a great deal. well, he had done something i thought was incredibly vile, and i let him know how terrible it was. i sent him to his room with the instructions, “don’t you dare come out until i come and get you.”and then i forgot. it was some hours later, as i was watching television, that i heard his door open and heard the tentative footsteps coming down the hall. i said, “oh, my gosh,” and ran to my end of the hall to see him standing with swollen eyes and tears on his cheeks at the other end. he looked up at me—he wasn’t quite sure he should have come out—and said, “dad, can’t we ever be friends again?” well, i melted, ran to him, and hugged him. he’s my boy, and i love him.like michael, we all do things that disappoint our father, that separate us from his presence and spirit. there are times when we get sent to our rooms spiritually. there are sins that maim; there are sins that wound our spirits. some of you know what it is like to do something that makes you feel as if you just drank raw sewage. you can wash, but you can never get clean. when that happens, sometimes we ask the lord as we lift up our eyes, “o father, can’t we ever be friends again?”the answer that can be found in all the scriptures is a resounding “yes, through the atonement of christ.” i particularly like the way it is put in isaiah 1:18.come now, and let us reason together, saith the lord: though your sins be as scarlet, they shall be as white as snow; though they be red like crimson, they shall be as wool.i like to paraphrase that for my students. what the lord is saying is “i don’t care what you did. it doesn’t matter what you did. i can erase it. i can make you pure and worthy and innocent and celestial.”brothers and sisters, to have faith in jesus christ is not merely to believe that he is who he says he is, to believe in christ. sometimes, to have faith in christ is also to believe christ. both as a bishop and as a teacher in the church, i have learned there are many that believe jesus is the son of god and that he is the savior of the world, but that he cannot save them. they believe in his identity, but not in his power to cleanse and to purify and to save. to have faith in his identity is only half the process. to have faith in his ability, in his power to cleanse and to save, that is the other half. we must not only believe in christ, we must believe christ when he says, “i can cleanse you and make you celestial.”when i was a bishop, i used to hear several variations on a theme. sometimes it was, “bishop, i’ve punched my ticket wrong. i’ve just made mistakes that have gotten me off on the wrong track, and you can’t get there from here.” i’ve heard those who say, “bishop, i’ve sinned too horribly. i can’t have the full blessings of the gospel because i did this, or i did that. i’ll come to church, and i’ll be active, and i’m hoping for a pretty good reward, but i couldn’t receive the full blessings of exaltation in the celestial kingdom after what i’ve done.” there are those members who say, “bishop, i’m just an average saint. i’m weak and imperfect, and i don’t have all the talents that sister so-and-so does, or brother so-and-so does. i’ll never be in the bishopric, or i’ll never be the relief society president. i’m just average. i hope for a place a little further down.” all of these are variations of the same theme: “i do not believe christ can do what he claims. i have no faith in his ability to exalt me.”my favorite is a fellow who said to me once, “bishop, i’m just not celestial material.” well, i’d had enough, so i said back to him, “why don’t you admit your problem? you’re not celestial material? welcome to the club. none of us are! none of us qualify on the terms of perfection required for the presence of god by ourselves. why don’t you just admit that you don’t have faith in the ability of christ to do what he says he can do?”he got angry. he had always believed in christ. he said, “i have a testimony of jesus. i believe in christ.”i said, “yes, you believe in christ. you simply do not believe christ, because he says even though you are not celestial material, he canmakeyou celestial material.”why he is called the saviorsometimes the weight of the demand for perfection drives us to despair. sometimes we fail to believe that most choice portion of the gospel that says he can change us and bring us into his kingdom. let me share an experience that happened about ten years ago. my wife and i were living in pennsylvania. things were going pretty well; i’d been promoted. it was a good year for us, though a trying year for janet. that year she had our fourth child, graduated from college, passed the cpa exam, and was made relief society president. we had temple recommends, we had family home evening. i was in the bishopric. i thought we were headed for “lds yuppiehood.” then one night the lights went out. something happened in my wife that i can only describe as “dying spiritually.” she wouldn’t talk about it; she wouldn’t tell me what was wrong. that was the worst part. for a couple of weeks she did not wish to participate in spiritual things. she asked to be released from her callings, and she would not open up and tell me what was wrong.finally, after about two weeks, one night i made her mad and it came out. she said, “all right. you want to know what’s wrong? i’ll tell you what’s wrong. i can’t do it anymore. i can’t lift it. i can’t get up at 5:30 in the morning and bake bread and sew clothes and help my kids with their homework and do my own homework and do my relief society stuff and get my genealogy done and write the congressman and go to the pta meetings and write the missionaries . . .” and she just started naming one brick after another that had been laid on her, explaining all the things she could not do. she said, “i don’t have the talent that sister morrell has. i can’t do what sister childs does. i try not to yell at the kids, but i lose control, and i do. i’m just not perfect, and i’m not ever going to be perfect. i’m not going to make it to the celestial kingdom, and i’ve finally admitted that to myself. you and the kids can go, but i can’t lift it. i’m not ‘molly mormon,’ and i’m not ever going to be perfect, so i’ve given up. why break my back?”well, we started to talk, and it was a long night. i asked her, “janet, do you have a testimony?”she said, “of course i do! that’s what’s so terrible. i know it’s true. i just can’t do it.”“have you kept the covenants you made when you were baptized?”she said, “i’ve tried and i’ve tried, but i cannot keep all the commandments all the time.”then i rejoiced because i knew what was wrong, and i could see the light at the end of the tunnel. it wasn’t any of those horrible things i thought it might be. who would have thought after eight years of marriage, after all the lessons we’d given and heard, and after all we had read and done in the church, who would have thought that janet did not know the gospel of jesus christ? you see, she was trying to save herself. she knew why jesus is a coach, a cheerleader, an advisor, a teacher. she knew why he is an example, the head of the church, the elder brother, or even god. she knew all of that, but she did not understand why he is called thesavior.janet was trying to save herself with jesus as an advisor. brothers and sisters, we can’t. no one can. no one is perfect—not even the brethren. please turn to ether 3:2. this is about one of the greatest prophets that ever lived, the brother of jared. his faith is so great that he is about to pierce the veil and see the spiritual body of christ. as he begins to pray, he says,now behold, o lord, and do not be angry with thy servant because of his weakness before thee;[one of the greatest prophets who ever lived, and he starts his prayer with an apology as an imperfect being for approaching a perfect god.]for we know that thou art holy and dwellest in the heavens, and that we are unworthy before thee; because of the fall our natures have become evil continually; nevertheless, o lord, thou hast given us a commandment that we must call upon thee, that from thee we may receive according to our desires.of course we fail at the celestial level. that’s why we need a savior, and we are commanded to approach god and to call upon him so we may receiveaccording to our desires.in the new testament the savior says, “blessed are they which do hunger and thirst after righteousness: for they shall be filled” (matthew 5:6). we misinterpret that frequently. we think that means blessed are the righteous. it does not. when are you hungry? when are you thirsty? when you don’t have the object of your desire. blessed are those who hunger and thirst after the righteousness that god has, after the righteousness of the celestial kingdom, because as that is the desire of their heart, they can achieve it—they will be filled. we may receive “according to our desires.”becoming oneperfection comes through the atonement of christ. we become one with him, with a perfect being. and as we become one, there is a merger. some of my students are studying business, and they understand it better if i talk in business terms. you take a small bankrupt firm that’s about ready to go under and merge it with a corporate giant. what happens? their assets and liabilities flow together, and the new entity that is created is solvent.it’s like when janet and i got married. i was overdrawn; janet had money in the bank. by virtue of making that commitment, of entering into that covenant relationship of marriage with my wife, we became a joint account. no longer was there an i, and no longer a she—now it waswe.my liabilities and her assets flowed into each other, and for the first time in months i was in the black.spiritually, this is what happens when we enter into the covenant relationship with our savior. we have liabilities, he has assets. he proposes to us a covenant relationship. i use the word “propose” on purpose because it is a marriage of a spiritual sort that is being proposed. that is why he is called the bridegroom. this covenant relationship is so intimate that it can be described as a marriage. i become one with christ, and as partners we work together for my salvation and my exaltation. my liabilities and his assets flow into each other. i do all that i can do, and he does what i cannot yet do. the two of us together are perfect.this is why the savior says in matthew 11:28, “come unto me, all ye that labour and are heavy laden, and i will give you rest.” what heavier load is there than the demand for perfection, that you must do it all, that you must make yourself perfect in this life before you can have any hope in the next? what heavier burden is there than that? that is the yoke of the law.come unto me, all ye that labour and are heavy laden, and i will give you rest.take my yoke upon you, and learn of me; for i am meek and lowly in heart: and ye shall find rest unto your souls.for my yoke is easy, and my burden is light.[matthew 11:28–30]“trust me”turn, if you will, to 2 nephi 4:17–19. you know the prophet nephi. he was one of the great prophets, yet he had a sense of his need for the savior and his reliance upon the savior. he says,o wretched man that i am! yea, my heart sorroweth because of my flesh; my soul grieveth because of mine iniquities.i am encompassed about, because of the temptations and the sins which do so easily beset me.and when i desire to rejoice, my heart groaneth because of my sins.did nephi have an appreciation for his mortal condition, for his need of the savior to be saved from his sins? oh yes, and the key is what comes next, “nevertheless, i know in whom i have trusted.” all right, i’m imperfect. my sins bother me. i’m not celestial yet, but i know in whom i have trusted. nephi trusted in the power of jesus christ to cleanse him of his sins and to bring him into the kingdom of god.i had a friend who used to say quite frequently, “well, i figure my life is half over, and i’m halfway to the celestial kingdom, so i’m right on schedule.”one day i asked her, “judy, what happens if you die tomorrow?” it was the first time that thought had ever occurred to her.“let’s see, halfway to the celestial kingdom is . . . mid-terrestrial! that’s not good enough!”we need to know that in this covenant relationship we have with the savior, if we should die tomorrow, we have hope of the celestial kingdom. that hope is one of the promised blessings of the covenant relationship. yet many of us do not understand it or take advantage of it.when our twin daughters were small, we decided to take them to the public pool and teach them how to swim. i remember starting with rebekah. as i went down into the water with rebekah, i thought, “i’m going to teach her how to swim.” but as we went down into the water, in her mind was the thought, “my dad is going to drown me. i’m going to die!” the water was only three and a half feet deep, but becky was only three feet deep. she was so petrified that she began to scream and cry and kick and scratch and was unteachable.finally, i just had to grab her. i threw my arms around her, and i just held her, and i said, “becky, i’ve got you. i’m your dad. i love you. i’m not going to let anything bad happen to you. now relax.” bless her heart, she trusted me. she relaxed, and i put my arms under her and said, “okay, now kick your legs.” and we began to learn how to swim.spiritually there are some of us who are similarly petrified by the questions “am i celestial? am i going to make it? was i good enough today?” we’re so terrified of whether we’re going to live or die, or whether we’ve made it to the kingdom or not, that we cannot make any progress. it’s at those times when the savior grabs us and throws his arms around us and says, “i’ve got you. i love you. i’m not going to let you die. now relax and trust me.” if we can relax and trust him and believe him, as well as believe in him, then together we can begin to learn to live the gospel. then he puts his arms under us and says, “okay, now pay tithing. very good. now pay afulltithing.” and so we begin to make progress.turn to alma 34:14–16.and behold, this is the whole meaning of the law, every whit pointing to that great and last sacrifice; and that great and last sacrifice will be the son of god, yea, infinite and eternal.and thus he shall bring salvation to all those who shall believe on his name; this being the intent of this last sacrifice, to bring about the bowels of mercy, which overpowereth justice, and bringeth about means unto men that they may have faith unto repentance.and thus mercy can satisfy the demands of justice, and encircles them in the arms of safety.“the arms of safety“—that is my favorite phrase from the book of mormon.brothers and sisters, do mormons believe in being saved? if i ask my classes that question with just the right twang in my voice, “do we believe in being saved?” i can generally get about a third of my students to shake their heads and say, “oh no, no! those other guys believe in that.” what a tragedy! brothers and sisters, we believe in being saved. that’s why jesus is called the savior. what good is it to have a savior if no one is saved? it’s like having a lifeguard that won’t get out of the chair. “there goes another one down. try the backstroke! oh, too bad, he didn’t make it.” we have a savior who can save us from ourselves, from what we lack, from our imperfections, from the carnal individual within us.turn to doctrine and covenants 76:68–69. in joseph’s vision of the celestial kingdom, he describes those who are there in these terms:these are they whose names are written in heaven, where god and christ are the judge of all.these are they who are just men made perfect through jesus the mediator of the new covenant.justmen and women,goodmen and women, those who hunger and thirst after righteousness,madeperfect through jesus, the mediator of the new covenant.give him all that we haveas my wife and i talked about her feeling of inadequacy and her feeling that she couldn’t do it and that she couldn’t make it, i had a hard time reaching her until finally i hit upon something that had happened in our family just a couple of months earlier. in our home it is now called the parable of the bicycle.after i had come home from school one day, i was sitting in a chair reading the newspaper. my daughter sarah, who was seven years old, came in and said, “dad, can i have a bike? i’m the only kid on the block who doesn’t have a bike.”well, i didn’t have enough money to buy her a bike, so i stalled her and said, “sure, sarah.”she said, “how? when?”i said, “you save all your pennies, and pretty soon you’ll have enough for a bike.” and she went away.a couple of weeks later as i was sitting in the same chair, i was aware of sarah doing something for her mother and getting paid. she went into the other room and i heard “clink, clink.” i asked, “sarah, what are you doing?”she came out and she had a little jar all cleaned up with a slit cut in the lid and a bunch of pennies in the bottom. she looked at me and said, “you promised me that if i saved all my pennies, pretty soon i’d have enough for a bike. and, daddy, i’ve saved every single one of them.”she’s my daughter, and i love her. my heart melted. she was doing everything in her power to follow my instructions. i hadn’t actually lied to her. if she saved all of her pennies she would eventually have enough for a bike, but by then she would want a car. but her needs weren’t being met. because i love her, i said, “let’s go downtown and look at bikes.”we went to every store in williamsport, pennsylvania. finally we found it—theperfectbicycle, the one she knew in the premortal existence. she got up on that bike; she was thrilled. she then saw the price tag, reached down, and turned it over. when she saw how much it cost, her face fell and she started to cry. she said, “oh dad, i’ll never have enough for a bicycle.”so i said, “sarah, how muchdoyou have?”she answered, “sixty-one cents.”“i’ll tell you what. you give me everything you’ve got and a hug and a kiss, and the bike is yours.” well, she’s never been stupid. she gave me a hug and a kiss. she gave me the sixty-one cents. then i had to drive home very slowly because she wouldn’t get off the bike. she rode home on the sidewalk, and as i drove along slowly beside her it occurred to me that this was a parable for the atonement of christ.we all want something desperately—it isn’t a bicycle. we want the celestial kingdom. we want to be with our father in heaven. and no matter how hard we try, we come up short. at some point we realize, “i can’t do this!” that was the point my wife had reached. it is at that point that the sweetness of the gospel covenant comes to our taste as the savior proposes, “i’ll tell you what. all right, you’re not perfect. how muchdoyou have? whatcanyou do? where are you now? give me all you’ve got, and i’ll pay the rest. give me a hug and a kiss; enter into a personal relationship with me, and i will do what remains undone.”there is good news and bad news here. the bad news is that he still requires our best effort. we must try, we must work—we must do all that we can. but the good news is that having done all we can, it is enough—for now. together we’ll make progress in the eternities, and eventually we will become perfect—but in the meantime, we are perfect only in a partnership, in a covenant relationship with him. only by tappinghisperfection can we hope to qualify.when i explained to janet how it worked, finally i broke through and she understood. she bloomed. i remember her saying through her tears, “i’ve always believed he is the son of god. i have always believed that he suffered and died for me. but now i know that he can save me from myself, from my sins, from my weakness, inadequacy, and lack of talent.”oh, brothers and sisters, how many of us forget the words of 2 nephi 2:8:there is no flesh that can dwell in the presence of god, save it be through the merits, and mercy, and grace of the holy messiah.there is no other way. many of us are trying to save ourselves, holding the atonement of jesus christ at arm’s distance and saying, “when i’ve done it, when i’ve perfected myself, when i’ve made myself worthy, then i’ll be worthy of the atonement. then i will allow him in.” we cannot do it. that’s like saying, “when i am well, i’ll take the medicine. i’ll be worthy of it then.” that’s not how it was designed to work.there is a hymn—it is one of my favorites—that says, “dearly, dearly has he loved! and we must love him too, and trust in his redeeming blood, and try his works to do” (“there is a green hill far away,”hymns,1985, no. 194). i think one of the reasons why i love that hymn so much is because it expresses both sides of that covenant relationship. we must try his works to do with all that is in us. we must do all that we can, and having done all, then we must trust in his redeeming blood and in his ability to do for us what we cannot yet do.elder mcconkie used to call this being in the gospel harness. when we are in the gospel harness, when we are pulling for the kingdom with our eyes on that goal, although we are not yet there, we can have confidence that just as that is our goal in life, so it will be our goal in eternity. through the atonement of christ we can have hope of achieving and an expectation of receiving that goal.i bear testimony to you that this is true. i have learned this lesson in my life. my family has learned this lesson in our collective life. i bear testimony that jesus christ is the son of god, that he is the savior of the world, that he is our individual savior, if we will only enter into that glorious covenant relationship with him and give him all that we have. whether it be sixty-one cents or a dollar and a half or two cents, hold nothing back, give it all, and then have faith and trust in his ability to do for us what we cannot yet accomplish, to make up what we yet lack of perfection.i bear testimony of him. i love him. i love his gospel dearly, and i say these things in the name of jesus christ. amen.© brigham young university. all rights reserved.'"
      ]
     },
     "execution_count": 72,
     "metadata": {},
     "output_type": "execute_result"
    }
   ],
   "source": [
    "# Lower case, remove stop words, and stem the talk text\n",
    "\n",
    "df['talks_lowered'] = df['talks'].apply(lambda x: x.lower())\n",
    "df['talks_lowered'][1]"
   ]
  },
  {
   "cell_type": "markdown",
   "metadata": {},
   "source": [
    "Prior to model selection, we will tokenize our talks with sentences, words, and part-of-speech tagging."
   ]
  },
  {
   "cell_type": "code",
   "execution_count": 73,
   "metadata": {},
   "outputs": [],
   "source": [
    "# tokenization of the speeches into sentences.\n",
    "from nltk.tokenize import sent_tokenize\n",
    "\n",
    "df['sentence_tokenize'] = df['talks'].apply(lambda x: sent_tokenize(x))"
   ]
  },
  {
   "cell_type": "code",
   "execution_count": 74,
   "metadata": {},
   "outputs": [],
   "source": [
    "# tokenization of the speeches into words\n",
    "from nltk.tokenize import word_tokenize\n",
    "df['word_tokenize'] = df['talks'].apply(lambda x: word_tokenize(x))"
   ]
  },
  {
   "cell_type": "code",
   "execution_count": 75,
   "metadata": {
    "collapsed": false,
    "pycharm": {
     "name": "#%%\n"
    }
   },
   "outputs": [
    {
     "name": "stdout",
     "output_type": "stream",
     "text": [
      "the greatest dichotomi , greatest problem entir univers , consist two fact . the first read doctrin coven 1:31 : “ for I lord look upon sin least degre allowance. ” that mean ’ stand , ’ toler , ’ blink , look way , sweep rug . He ’ toler sin least degre . the side dichotomi simpli put : I sin , . If equat , conclus would inescap , sin be , toler presenc god.but equat . thi morn I would like talk aton christ , gloriou plan dichotomi resolv . I would like share incid life illustr aton work practic , everyday setting.believ christfirst stori son , michael , someth wrong six seven year old . He ’ son , I ’ hard . I want better dad , even boy , I lean expect great deal . well , done someth I thought incred vile , I let know terribl . I sent room instruct , “ don ’ dare come I come get you. ” and I forgot . It hour later , I watch televis , I heard door open heard tent footstep come hall . I said , “ Oh , gosh , ” ran end hall see stand swollen eye tear cheek end . He look me—h ’ quit sure come out—and said , “ dad , ’ ever friend ? ” well , I melt , ran , hug . He ’ boy , I love him.lik michael , thing disappoint father , separ us presenc spirit . there time get sent room spiritu . there sin maim ; sin wound spirit . some know like someth make feel drank raw sewag . you wash , never get clean . when happen , sometim ask lord lift eye , “ O father , ’ ever friend ? ” the answer found scriptur resound “ ye , aton christ. ” I particularli like way put isaiah 1:18.come , let us reason togeth , saith lord : though sin scarlet , shall white snow ; though red like crimson , shall wool.i like paraphras student . what lord say “ I ’ care . It ’ matter . I eras . I make pure worthi innoc celestial. ” brother sister , faith jesu christ mere believ say , believ christ . sometim , faith christ also believ christ . both bishop teacher church , I learn mani believ jesu son god savior world , save . they believ ident , power cleans purifi save . To faith ident half process . To faith abil , power cleans save , half . We must believ christ , must believ christ say , “ I cleans make celestial. ” when I bishop , I use hear sever variat theme . sometim , “ bishop , I ’ punch ticket wrong . I ’ made mistak gotten wrong track , ’ get here. ” I ’ heard say , “ bishop , I ’ sin horribl . I ’ full bless gospel I , I . I ’ come church , I ’ activ , I ’ hope pretti good reward , I ’ receiv full bless exalt celesti kingdom I ’ done. ” there member say , “ bishop , I ’ averag saint . I ’ weak imperfect , I ’ talent sister so-and-so , brother so-and-so . I ’ never bishopr , I ’ never relief societi presid . I ’ averag . I hope place littl down. ” all variat theme : “ I believ christ claim . I faith abil exalt me. ” My favorit fellow said , “ bishop , I ’ celesti material. ” well , I ’ enough , I said back , “ whi ’ admit problem ? you ’ celesti materi ? welcom club . none us ! none us qualifi term perfect requir presenc god . whi ’ admit ’ faith abil christ say ? ” He got angri . He alway believ christ . He said , “ I testimoni jesu . I believ christ. ” I said , “ ye , believ christ . you simpli believ christ , say even though celesti materi , canmakey celesti material. ” whi He Is call saviorsometim weight demand perfect drive us despair . sometim fail believ choic portion gospel say chang us bring us kingdom . let share experi happen ten year ago . My wife I live pennsylvania . thing go pretti well ; I ’ promot . It good year us , though tri year janet . that year fourth child , graduat colleg , pass cpa exam , made relief societi presid . We templ recommend , famili home even . I bishopr . I thought head “ ld yuppiehood. ” then one night light went . someth happen wife I describ “ die spiritually. ” she ’ talk ; ’ tell wrong . that worst part . for coupl week wish particip spiritu thing . she ask releas call , would open tell wrong.fin , two week , one night I made mad came . she said , “ all right . you want know ’ wrong ? I ’ tell ’ wrong . I ’ anymor . I ’ lift . I ’ get 5:30 morn bake bread sew cloth help kid homework homework relief societi stuff get genealog done write congressman go pta meet write missionari . . . ” and start name one brick anoth laid , explain thing could . she said , “ I ’ talent sister morrel . I ’ sister child . I tri yell kid , I lose control , I . I ’ perfect , I ’ ever go perfect . I ’ go make celesti kingdom , I ’ final admit . you kid go , I ’ lift . I ’ ‘ molli mormon , ’ I ’ ever go perfect , I ’ given . whi break back ? ” well , start talk , long night . I ask , “ janet , testimoni ? ” she said , “ Of cours I ! that ’ ’ terribl . I know ’ true . I ’ it. ” “ have kept coven made baptiz ? ” she said , “ I ’ tri I ’ tri , I keep command time. ” then I rejoic I knew wrong , I could see light end tunnel . It ’ horribl thing I thought might . who would thought eight year marriag , lesson ’ given heard , read done church , would thought janet know gospel jesu christ ? you see , tri save . she knew jesu coach , cheerlead , advisor , teacher . she knew exampl , head church , elder brother , even god . she knew , understand call thesavior.janet tri save jesu advisor . brother sister , ’ . No one . No one perfect—not even brethren . pleas turn ether 3:2 . thi one greatest prophet ever live , brother jare . hi faith great pierc veil see spiritu bodi christ . As begin pray , say , now behold , O lord , angri thi servant weak thee ; [ one greatest prophet ever live , start prayer apolog imperfect approach perfect god . ] know thou art holi dwellest heaven , unworthi thee ; fall natur becom evil continu ; nevertheless , O lord , thou hast given us command must call upon thee , thee may receiv accord desires.of cours fail celesti level . that ’ need savior , command approach god call upon may receiveaccord desires.in new testament savior say , “ bless hunger thirst righteous : shall fill ” ( matthew 5:6 ) . We misinterpret frequent . We think mean bless righteou . It . when hungri ? when thirsti ? when ’ object desir . bless hunger thirst righteous god , righteous celesti kingdom , desir heart , achiev it—they fill . We may receiv “ accord desires. ” becom oneperfect come aton christ . We becom one , perfect . and becom one , merger . some student studi busi , understand better I talk busi term . you take small bankrupt firm ’ readi go merg corpor giant . what happen ? their asset liabil flow togeth , new entiti creat solvent.it ’ like janet I got marri . I overdrawn ; janet money bank . By virtu make commit , enter coven relationship marriag wife , becam joint account . No longer I , longer she—now waswe.mi liabil asset flow , first time month I black.spiritu , happen enter coven relationship savior . We liabil , asset . He propos us coven relationship . I use word “ propos ” purpos marriag spiritu sort propos . that call bridegroom . thi coven relationship intim describ marriag . I becom one christ , partner work togeth salvat exalt . My liabil asset flow . I I , I yet . the two us togeth perfect.thi savior say matthew 11:28 , “ come unto , ye labour heavi laden , I give rest. ” what heavier load demand perfect , must , must make perfect life hope next ? what heavier burden ? that yoke law.com unto , ye labour heavi laden , I give rest.tak yoke upon , learn ; I meek lowli heart : ye shall find rest unto souls.for yoke easi , burden light . [ matthew 11:28–30 ] “ trust Me ” turn , , 2 nephi 4:17–19 . you know prophet nephi . He one great prophet , yet sens need savior relianc upon savior . He say , O wretch man I ! yea , heart sorroweth flesh ; soul grieveth mine iniquities.i encompass , temptat sin easili beset me.and I desir rejoic , heart groaneth sins.did nephi appreci mortal condit , need savior save sin ? Oh ye , key come next , “ nevertheless , I know I trusted. ” all right , I ’ imperfect . My sin bother . I ’ celesti yet , I know I trust . nephi trust power jesu christ cleans sin bring kingdom god.i friend use say quit frequent , “ well , I figur life half , I ’ halfway celesti kingdom , I ’ right schedule. ” one day I ask , “ judi , happen die tomorrow ? ” It first time thought ever occur her. “ let ’ see , halfway celesti kingdom . . . mid-terrestri ! that ’ good enough ! ” We need know coven relationship savior , die tomorrow , hope celesti kingdom . that hope one promis bless coven relationship . yet mani us understand take advantag it.when twin daughter small , decid take public pool teach swim . I rememb start rebekah . As I went water rebekah , I thought , “ I ’ go teach swim. ” but went water , mind thought , “ My dad go drown . I ’ go die ! ” the water three half feet deep , becki three feet deep . she petrifi began scream cri kick scratch unteachable.fin , I grab . I threw arm around , I held , I said , “ becki , I ’ got . I ’ dad . I love . I ’ go let anyth bad happen . now relax. ” bless heart , trust . she relax , I put arm said , “ okay , kick legs. ” and began learn swim.spiritu us similarli petrifi question “ Am I celesti ? Am I go make ? wa I good enough today ? ” We ’ terrifi whether ’ go live die , whether ’ made kingdom , make progress . It ’ time savior grab us throw arm around us say , “ I ’ got . I love . I ’ go let die . now relax trust me. ” If relax trust believ , well believ , togeth begin learn live gospel . then put arm us say , “ okay , pay tith . veri good . now pay afulltithing. ” and begin make progress.turn alma 34:14–16.and behold , whole mean law , everi whit point great last sacrific ; great last sacrific son god , yea , infinit eternal.and thu shall bring salvat shall believ name ; intent last sacrific , bring bowel merci , overpowereth justic , bringeth mean unto men may faith unto repentance.and thu merci satisfi demand justic , encircl arm safety. “ the arm safeti “ —that favorit phrase book mormon.broth sister , mormon believ save ? If I ask class question right twang voic , “ Do believ save ? ” I gener get third student shake head say , “ Oh , ! those guy believ that. ” what tragedi ! brother sister , believ save . that ’ jesu call savior . what good savior one save ? It ’ like lifeguard ’ get chair . “ there goe anoth one . tri backstrok ! Oh , bad , ’ make it. ” We savior save us , lack , imperfect , carnal individu within us.turn doctrin coven 76:68–69 . In joseph ’ vision celesti kingdom , describ term : these whose name written heaven , god christ judg all.thes men made perfect jesu mediat new covenant.justmen women , goodmen women , hunger thirst righteous , madeperfect jesu , mediat new covenant.g him all that We havea wife I talk feel inadequaci feel ’ ’ make , I hard time reach final I hit upon someth happen famili coupl month earlier . In home call parabl bicycle.aft I come home school one day , I sit chair read newspap . My daughter sarah , seven year old , came said , “ dad , I bike ? I ’ kid block ’ bike. ” well , I ’ enough money buy bike , I stall said , “ sure , sarah. ” she said , “ how ? when ? ” I said , “ you save penni , pretti soon ’ enough bike. ” and went away.a coupl week later I sit chair , I awar sarah someth mother get paid . she went room I heard “ clink , clink. ” I ask , “ sarah , ? ” she came littl jar clean slit cut lid bunch penni bottom . she look said , “ you promis I save penni , pretti soon I ’ enough bike . and , daddi , I ’ save everi singl one them. ” she ’ daughter , I love . My heart melt . she everyth power follow instruct . I ’ actual lie . If save penni would eventu enough bike , would want car . but need ’ met . becaus I love , I said , “ let ’ go downtown look bikes. ” We went everi store williamsport , pennsylvania . final found it—theperfectbicycl , one knew premort exist . she got bike ; thrill . she saw price tag , reach , turn . when saw much cost , face fell start cri . she said , “ Oh dad , I ’ never enough bicycle. ” So I said , “ sarah , muchdoy ? ” she answer , “ sixty-on cents. ” “ I ’ tell . you give everyth ’ got hug kiss , bike yours. ” well , ’ never stupid . she gave hug kiss . she gave sixty-on cent . then I drive home slowli ’ get bike . she rode home sidewalk , I drove along slowli besid occur parabl aton christ.w want someth desperately—it ’ bicycl . We want celesti kingdom . We want father heaven . and matter hard tri , come short . At point realiz , “ I ’ ! ” that point wife reach . It point sweet gospel coven come tast savior propos , “ I ’ tell . all right , ’ perfect . how muchdoy ? whatcany ? where ? give ’ got , I ’ pay rest . give hug kiss ; enter person relationship , I remain undone. ” there good news bad news . the bad news still requir best effort . We must tri , must work—w must . but good news done , enough—for . togeth ’ make progress etern , eventu becom perfect—but meantim , perfect partnership , coven relationship . onli tappinghisperfect hope qualify.when I explain janet work , final I broke understood . she bloom . I rememb say tear , “ I ’ alway believ son god . I alway believ suffer die . but I know save , sin , weak , inadequaci , lack talent. ” Oh , brother sister , mani us forget word 2 nephi 2:8 : there flesh dwell presenc god , save merit , merci , grace holi messiah.ther way . mani us tri save , hold aton jesu christ arm ’ distanc say , “ when I ’ done , I ’ perfect , I ’ made worthi , I ’ worthi aton . then I allow in. ” We . that ’ like say , “ when I well , I ’ take medicin . I ’ worthi then. ” that ’ design work.ther hymn—it one favorites—that say , “ dearli , dearli love ! and must love , and trust redeem blood , and tri work ” ( “ there Is green hill far away , ” hymns,1985 , . 194 ) . I think one reason I love hymn much express side coven relationship . We must tri work us . We must , done , must trust redeem blood abil us yet do.eld mcconki use call gospel har . when gospel har , pull kingdom eye goal , although yet , confid goal life , goal etern . through aton christ hope achiev expect receiv goal.i bear testimoni true . I learn lesson life . My famili learn lesson collect life . I bear testimoni jesu christ son god , savior world , individu savior , enter gloriou coven relationship give . whether sixty-on cent dollar half two cent , hold noth back , give , faith trust abil us yet accomplish , make yet lack perfection.i bear testimoni . I love . I love gospel dearli , I say thing name jesu christ . amen.© brigham young univers . all right reserv . 653\n"
     ]
    }
   ],
   "source": [
    "import nltk\n",
    "# nltk.download('stopwords')\n",
    "from nltk.corpus import stopwords\n",
    "from nltk.stem.porter import PorterStemmer\n",
    "stemmer = PorterStemmer()\n",
    "data = []\n",
    "\n",
    "for i in range(df.shape[0]):\n",
    "    text = df.iloc[i,14]\n",
    "    talk_processed_list = []\n",
    "    for word in text:\n",
    "        if word not in set(stopwords.words('english')):\n",
    "            talk_processed_list.append(stemmer.stem(word))\n",
    "    proc_talk = \" \".join(talk_processed_list)\n",
    "    data.append(proc_talk)\n",
    "\n",
    "print(data[1], len(data))"
   ]
  },
  {
   "cell_type": "code",
   "execution_count": 76,
   "metadata": {},
   "outputs": [],
   "source": [
    "# pos \n",
    "import nltk\n",
    "# nltk.download('averaged_perceptron_tagger')\n",
    "\n",
    "df['word_pos'] = df['word_tokenize'].apply(lambda x: nltk.pos_tag(x))"
   ]
  },
  {
   "cell_type": "markdown",
   "metadata": {},
   "source": [
    "We are now ready to build our model.  The model that we will build first is a Naive Bayes model.  The steps were adapted from a blog post on medium.com entitled \"Text classification using the BagOfWords Approach with NLTK and Scikit Learn.\"\n",
    "The actual code from the blog post can be found at https://github.com/CharlesRajendran/TextClassification/blob/master/classifier.py\n",
    "\n",
    "The reason why this model was chosen is because the Naive Bayes model is a common model used when dealing with text\n",
    "classification.  It was also used as the code is straightforward enough to follow and get a model created."
   ]
  },
  {
   "cell_type": "code",
   "execution_count": 77,
   "metadata": {},
   "outputs": [
    {
     "name": "stdout",
     "output_type": "stream",
     "text": [
      "(653, 1000) 0                  life\n",
      "1          jesus christ\n",
      "2                 faith\n",
      "3              learning\n",
      "4            revelation\n",
      "             ...       \n",
      "649    divine potential\n",
      "650           adversity\n",
      "651        jesus christ\n",
      "652        jesus christ\n",
      "653            learning\n",
      "Name: topic_singular, Length: 653, dtype: object\n"
     ]
    }
   ],
   "source": [
    "# adapted from CharlesRajendran TextClassification github\n",
    "\n",
    "# creating the feature matrix\n",
    "from sklearn.feature_extraction.text import CountVectorizer\n",
    "matrix = CountVectorizer(max_features=1000)\n",
    "X = matrix.fit_transform(data).toarray()\n",
    "y = df.iloc[:, 0]\n",
    "print(X.shape, y)"
   ]
  },
  {
   "cell_type": "code",
   "execution_count": 78,
   "metadata": {
    "collapsed": false,
    "pycharm": {
     "name": "#%%\n"
    }
   },
   "outputs": [],
   "source": [
    "# split train and test data\n",
    "from sklearn.model_selection import train_test_split\n",
    "X_train, X_test, y_train, y_test = train_test_split(X,y, random_state=7)"
   ]
  },
  {
   "cell_type": "markdown",
   "metadata": {},
   "source": [
    "The Naive Bayes model will now be used."
   ]
  },
  {
   "cell_type": "code",
   "execution_count": 79,
   "metadata": {
    "collapsed": false,
    "pycharm": {
     "name": "#%%\n"
    }
   },
   "outputs": [
    {
     "data": {
      "text/plain": [
       "GaussianNB()"
      ]
     },
     "execution_count": 79,
     "metadata": {},
     "output_type": "execute_result"
    }
   ],
   "source": [
    "# Naive Bayes\n",
    "from sklearn.naive_bayes import GaussianNB\n",
    "classifier = GaussianNB()\n",
    "classifier.fit(X_train, y_train)"
   ]
  },
  {
   "cell_type": "markdown",
   "metadata": {},
   "source": [
    "Our predictions will now be made."
   ]
  },
  {
   "cell_type": "code",
   "execution_count": 80,
   "metadata": {
    "collapsed": false,
    "pycharm": {
     "name": "#%%\n"
    }
   },
   "outputs": [],
   "source": [
    "# predict class\n",
    "\n",
    "y_pred = classifier.predict(X_test)"
   ]
  },
  {
   "cell_type": "markdown",
   "metadata": {},
   "source": [
    "We can now move onto the analytics portion of our Naive Bayes model.  We will look at the confusion matrix, the classification report (which includes precision, recall, f1-score), and the accuracy."
   ]
  },
  {
   "cell_type": "code",
   "execution_count": 81,
   "metadata": {
    "collapsed": false,
    "pycharm": {
     "name": "#%%\n"
    }
   },
   "outputs": [
    {
     "name": "stdout",
     "output_type": "stream",
     "text": [
      "[[ 0  1  1  4  3  0  1  0  0  0  0  2  1]\n",
      " [ 1  0  1  0  2  0  3  0  0  0  1  0  0]\n",
      " [ 0  1  1  1  4  3  0  0  0  0  1  0  0]\n",
      " [ 0  0  1  8  3  0  2  1  0  3  2  0  0]\n",
      " [ 0  0  0  4 10  0  1  0  0  1  1  0  0]\n",
      " [ 0  0  2  2  0  8  1  0  0  1  4  0  0]\n",
      " [ 1  1  7  1  1  0  5  1  0  1  4  1  0]\n",
      " [ 0  0  0  0  5  0  1  4  0  0  1  2  0]\n",
      " [ 0  1  0  1  0  0  0  0  3  0  1  0  0]\n",
      " [ 0  0  0  1  0  0  0  0  0  2  2  1  0]\n",
      " [ 0  1  1  0  1  0  0  1  0  0  1  0  0]\n",
      " [ 0  0  3  1  2  1  1  2  0  0  3  9  0]\n",
      " [ 0  0  0  1  0  0  0  0  0  0  0  1  0]]\n",
      "\n",
      "                  precision    recall  f1-score   support\n",
      "\n",
      "       adversity       0.00      0.00      0.00        13\n",
      "    discipleship       0.00      0.00      0.00         8\n",
      "divine potential       0.06      0.09      0.07        11\n",
      "           faith       0.33      0.40      0.36        20\n",
      "    jesus christ       0.32      0.59      0.42        17\n",
      "        learning       0.67      0.44      0.53        18\n",
      "            life       0.33      0.22      0.26        23\n",
      "            love       0.44      0.31      0.36        13\n",
      " missionary work       1.00      0.50      0.67         6\n",
      "      revelation       0.25      0.33      0.29         6\n",
      "   righteousness       0.05      0.20      0.08         5\n",
      "         service       0.56      0.41      0.47        22\n",
      "          trials       0.00      0.00      0.00         2\n",
      "\n",
      "        accuracy                           0.31       164\n",
      "       macro avg       0.31      0.27      0.27       164\n",
      "    weighted avg       0.36      0.31      0.32       164\n",
      "\n",
      "\n",
      "0.31097560975609756\n"
     ]
    }
   ],
   "source": [
    "# Confusion matrix, classification report, accuracy\n",
    "from sklearn.metrics import confusion_matrix, classification_report, accuracy_score\n",
    "cm = confusion_matrix(y_test, y_pred)\n",
    "cr = classification_report(y_test, y_pred)\n",
    "accuracy = accuracy_score(y_test, y_pred)\n",
    "\n",
    "print(cm)\n",
    "print()\n",
    "print(cr)\n",
    "print()\n",
    "print(accuracy)"
   ]
  },
  {
   "cell_type": "markdown",
   "metadata": {},
   "source": [
    "Based on this model, we have an accuracy of 38%.  As this is my first attempt at a model, anything better than 0% is a success for me. It is understood, however, that this can be greatly improved upon.  \n",
    "\n",
    "We will now build a (Support Vector Machine) model.  The reason why this model is chosen is because of a Teams post by Ryan Long and Ori Rinamman that discusses \"Factors to consider when choosing a predictive model.\"  On the post, there was a reference to the following website:\n",
    "\n",
    "https://scikit-learn.org/dev/tutorial/machine_learning_map/index.html\n",
    "\n",
    "On the scikit learn website, there is a flowchart that one can follow to help them determine the best model to use.  Based on the results of the flowchart, it lead to using a Support Vector Machine model."
   ]
  },
  {
   "cell_type": "code",
   "execution_count": 82,
   "metadata": {
    "collapsed": false,
    "pycharm": {
     "name": "#%%\n"
    }
   },
   "outputs": [
    {
     "name": "stdout",
     "output_type": "stream",
     "text": [
      "[[ 1  1  0  3  0  0  4  1  0  0  1  1  1]\n",
      " [ 0  2  0  0  2  0  2  0  0  0  1  0  1]\n",
      " [ 0  1  1  3  2  0  3  1  0  0  0  0  0]\n",
      " [ 1  2  1 10  1  0  2  1  0  1  0  1  0]\n",
      " [ 0  1  0  2 12  0  0  0  1  0  0  1  0]\n",
      " [ 0  0  0  1  1 12  2  1  0  0  1  0  0]\n",
      " [ 0  3  2  0  1  2  9  1  0  0  5  0  0]\n",
      " [ 0  0  0  0  1  0  0 10  0  1  1  0  0]\n",
      " [ 0  0  0  0  2  0  0  0  2  0  2  0  0]\n",
      " [ 0  1  0  1  0  0  0  0  1  3  0  0  0]\n",
      " [ 0  2  0  0  1  0  0  0  0  0  2  0  0]\n",
      " [ 1  1  1  0  1  2  4  2  0  0  2  8  0]\n",
      " [ 0  0  0  1  0  0  1  0  0  0  0  0  0]]\n",
      "\n",
      "                  precision    recall  f1-score   support\n",
      "\n",
      "       adversity       0.33      0.08      0.12        13\n",
      "    discipleship       0.14      0.25      0.18         8\n",
      "divine potential       0.20      0.09      0.13        11\n",
      "           faith       0.48      0.50      0.49        20\n",
      "    jesus christ       0.50      0.71      0.59        17\n",
      "        learning       0.75      0.67      0.71        18\n",
      "            life       0.33      0.39      0.36        23\n",
      "            love       0.59      0.77      0.67        13\n",
      " missionary work       0.50      0.33      0.40         6\n",
      "      revelation       0.60      0.50      0.55         6\n",
      "   righteousness       0.13      0.40      0.20         5\n",
      "         service       0.73      0.36      0.48        22\n",
      "          trials       0.00      0.00      0.00         2\n",
      "\n",
      "        accuracy                           0.44       164\n",
      "       macro avg       0.41      0.39      0.37       164\n",
      "    weighted avg       0.47      0.44      0.43       164\n",
      "\n",
      "\n",
      "0.43902439024390244\n"
     ]
    }
   ],
   "source": [
    "from sklearn import svm\n",
    "svm_classifier = svm.SVC(kernel='linear')\n",
    "svm_classifier.fit(X_train, y_train)\n",
    "y_pred = svm_classifier.predict(X_test)\n",
    "\n",
    "cm = confusion_matrix(y_test, y_pred)\n",
    "cr = classification_report(y_test, y_pred)\n",
    "accuracy = accuracy_score(y_test, y_pred)\n",
    "\n",
    "print(cm)\n",
    "print()\n",
    "print(cr)\n",
    "print()\n",
    "print(accuracy)"
   ]
  },
  {
   "cell_type": "markdown",
   "metadata": {},
   "source": [
    "The accuracy of the SVM model is 44% vs 38% for the Naive Bayes model.  For this reason, we will continue forward with the SVM model and will tune some of the parameters.  \n",
    "\n",
    "Out of curiousity, lets use a different kernel and see what results we get."
   ]
  },
  {
   "cell_type": "code",
   "execution_count": 83,
   "metadata": {},
   "outputs": [
    {
     "name": "stdout",
     "output_type": "stream",
     "text": [
      "[[ 0  0  0  0 13  0  0  0  0  0  0  0  0]\n",
      " [ 0  0  0  0  8  0  0  0  0  0  0  0  0]\n",
      " [ 0  0  0  0 11  0  0  0  0  0  0  0  0]\n",
      " [ 0  0  0  0 20  0  0  0  0  0  0  0  0]\n",
      " [ 0  0  0  0 17  0  0  0  0  0  0  0  0]\n",
      " [ 0  0  0  0 18  0  0  0  0  0  0  0  0]\n",
      " [ 0  0  0  0 23  0  0  0  0  0  0  0  0]\n",
      " [ 0  0  0  0 13  0  0  0  0  0  0  0  0]\n",
      " [ 0  0  0  0  6  0  0  0  0  0  0  0  0]\n",
      " [ 0  0  0  0  6  0  0  0  0  0  0  0  0]\n",
      " [ 0  0  0  0  5  0  0  0  0  0  0  0  0]\n",
      " [ 0  0  0  0 22  0  0  0  0  0  0  0  0]\n",
      " [ 0  0  0  0  2  0  0  0  0  0  0  0  0]]\n",
      "\n",
      "                  precision    recall  f1-score   support\n",
      "\n",
      "       adversity       0.00      0.00      0.00        13\n",
      "    discipleship       0.00      0.00      0.00         8\n",
      "divine potential       0.00      0.00      0.00        11\n",
      "           faith       0.00      0.00      0.00        20\n",
      "    jesus christ       0.10      1.00      0.19        17\n",
      "        learning       0.00      0.00      0.00        18\n",
      "            life       0.00      0.00      0.00        23\n",
      "            love       0.00      0.00      0.00        13\n",
      " missionary work       0.00      0.00      0.00         6\n",
      "      revelation       0.00      0.00      0.00         6\n",
      "   righteousness       0.00      0.00      0.00         5\n",
      "         service       0.00      0.00      0.00        22\n",
      "          trials       0.00      0.00      0.00         2\n",
      "\n",
      "        accuracy                           0.10       164\n",
      "       macro avg       0.01      0.08      0.01       164\n",
      "    weighted avg       0.01      0.10      0.02       164\n",
      "\n",
      "\n",
      "0.10365853658536585\n"
     ]
    },
    {
     "name": "stderr",
     "output_type": "stream",
     "text": [
      "C:\\Users\\Ramsey\\anaconda3\\lib\\site-packages\\sklearn\\metrics\\_classification.py:1308: UndefinedMetricWarning: Precision and F-score are ill-defined and being set to 0.0 in labels with no predicted samples. Use `zero_division` parameter to control this behavior.\n",
      "  _warn_prf(average, modifier, msg_start, len(result))\n",
      "C:\\Users\\Ramsey\\anaconda3\\lib\\site-packages\\sklearn\\metrics\\_classification.py:1308: UndefinedMetricWarning: Precision and F-score are ill-defined and being set to 0.0 in labels with no predicted samples. Use `zero_division` parameter to control this behavior.\n",
      "  _warn_prf(average, modifier, msg_start, len(result))\n",
      "C:\\Users\\Ramsey\\anaconda3\\lib\\site-packages\\sklearn\\metrics\\_classification.py:1308: UndefinedMetricWarning: Precision and F-score are ill-defined and being set to 0.0 in labels with no predicted samples. Use `zero_division` parameter to control this behavior.\n",
      "  _warn_prf(average, modifier, msg_start, len(result))\n"
     ]
    }
   ],
   "source": [
    "from sklearn import svm\n",
    "svm_classifier = svm.SVC(kernel='rbf', gamma=1, C=1)\n",
    "svm_classifier.fit(X_train, y_train)\n",
    "y_pred = svm_classifier.predict(X_test)\n",
    "\n",
    "cm = confusion_matrix(y_test, y_pred)\n",
    "cr = classification_report(y_test, y_pred)\n",
    "accuracy = accuracy_score(y_test, y_pred)\n",
    "\n",
    "print(cm)\n",
    "print()\n",
    "print(cr)\n",
    "print()\n",
    "print(accuracy)"
   ]
  },
  {
   "cell_type": "markdown",
   "metadata": {},
   "source": [
    "Well, clearly these parameters were not as effective as the linear parameter and the Gaussian model.  In future weeks, more tuning will take place.\n",
    "\n",
    "Overall conclusions: I am glad that a least a couple of models are in working order.  Since the SVM model (with the linear parameter) was the model that initially showed the best accuracy, we will continue to use this one.  \n",
    "\n",
    "I am not certain if the topics will need to be decreased back to 5 or not, but I am curious to see what that result will yield.  I also am curious to know how to incorporate the other information gathered from the talks (speaker name, month, etc.) into the model to see if that can cause any differences."
   ]
  }
 ],
 "metadata": {
  "interpreter": {
   "hash": "bf60427b139290154779a7e38fd0f127f78e5a9dfc17b4a4bd1d849158c5fa70"
  },
  "kernelspec": {
   "display_name": "Python 3.7.6 64-bit ('base': conda)",
   "name": "python3"
  },
  "language_info": {
   "codemirror_mode": {
    "name": "ipython",
    "version": 3
   },
   "file_extension": ".py",
   "mimetype": "text/x-python",
   "name": "python",
   "nbconvert_exporter": "python",
   "pygments_lexer": "ipython3",
   "version": "3.7.6"
  },
  "orig_nbformat": 4
 },
 "nbformat": 4,
 "nbformat_minor": 2
}
