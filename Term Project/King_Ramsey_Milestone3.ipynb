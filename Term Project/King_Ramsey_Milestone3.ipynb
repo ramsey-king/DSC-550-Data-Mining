{
 "cells": [
  {
   "cell_type": "markdown",
   "metadata": {},
   "source": [
    "# Ramsey King\n",
    "# DSC 550 - Data Mining\n",
    "# October 24, 2021\n",
    "# Term Project Milestone 3"
   ]
  },
  {
   "cell_type": "markdown",
   "metadata": {},
   "source": [
    "### My term project will consist of being able to guess the main topic of sermons given by members of The Church of Jesus Christ of Latter Day Saints as defined by the designated topic assigned to it at speeches.byu.edu.  The ability to search for sermons by topic on this website is available.  While this specific case is not a business use case of data mining, there are many business use cases for being able to identify text by topic or keyword (i.e. www.google.com).  \n",
    "### For purposes of this assignment, being able to quickly find topic related sermons is beneficial to members of the Church of Jesus Christ.  On occasion, members of the church are asked to give a sermon of their own on various topics, and having the ability to go to a resource and search the assigned topic by keyword helps to generate discussion points and give guidance as to what is appropriate to discuss.  For this project, we will limit the topics as defined by speeches.byu.edu. to give us an initial dataset of 800 rows before processing.  The topics and the count of the number of sermons given (as of October 4th, 2021) are: Life (108), Jesus Christ (106), Faith (100), Learning (97), Service (73), Discipleship (67), Righteousness (67), Divine Potential (66), Love (66), Adversity (57), Trials (56), Revelation (55), and Missionary Work (53).  This should provide enough data to work with but if there is a need, additional topics will be included to help with the corpus.  "
   ]
  },
  {
   "cell_type": "code",
   "execution_count": 24,
   "metadata": {},
   "outputs": [],
   "source": [
    "# Retreive talks from topics page using beautifulsoup\n",
    "\n",
    "from bs4 import BeautifulSoup as bs\n",
    "import requests\n",
    "# import numpy as np\n",
    "import pandas as pd\n",
    "import matplotlib.pyplot as plt\n",
    "import re\n",
    "%matplotlib inline"
   ]
  },
  {
   "cell_type": "code",
   "execution_count": 25,
   "metadata": {},
   "outputs": [],
   "source": [
    "# Get list of urls for each of the topics\n",
    "\n",
    "url = \"https://speeches.byu.edu/topics/\"\n",
    "\n",
    "url_list = [\n",
    "    'life/', 'jesus-christ/', 'faith/', 'learning/', 'service/', 'discipleship/', 'righteousness/', \n",
    "    'divine-potential/', 'love/', 'adversity/', 'trials/', 'revelation/', 'missionary-work/'\n",
    "]\n",
    "\n",
    "links = []\n",
    "new_links = []\n",
    "# some of the links are repeated with '?M=V' and '?M=A' and those will be removed so we can have a unique set of links to pull talk information from.\n",
    "for u in url_list:\n",
    "\n",
    "    response = requests.get(url+u)\n",
    "    html = response.content\n",
    "    video = '?M=V'\n",
    "    soup = bs(html, \"lxml\")\n",
    "    for link in soup.findAll(\"a\", attrs={'href': re.compile(\"^https://speeches.byu.edu/talks/[\\D+]\")}):\n",
    "        links.append(link.get('href').replace(video, ''))\n",
    "\n",
    "    audio = '?M=A'\n",
    "    for link in links:\n",
    "        new_link = link.replace(audio, '')\n",
    "        new_links.append(new_link)\n",
    "    new_links = list(set(new_links))\n",
    "\n"
   ]
  },
  {
   "cell_type": "code",
   "execution_count": 26,
   "metadata": {},
   "outputs": [],
   "source": [
    "'''Retrieves talk text from each of the urls using beautiful soup.  Information such as the talk/sermon text, title, topic, date, and speaker will be retreived\n",
    "and put into a dataframe.  A csv file will also be saved due to the time it takes to run or in case we need to work offline.'''\n",
    "talk_text = []\n",
    "title_text = []\n",
    "topics = []\n",
    "dates = []\n",
    "speakers = []\n",
    "speaker_position = []\n",
    "\n",
    "for link in new_links:\n",
    "    url = link\n",
    "    response = requests.get(url)\n",
    "    html = response.content\n",
    "    soup = bs(html, 'lxml')\n",
    "    temp_list = []\n",
    "\n",
    "    link_splitter = link.split('/')\n",
    "    speakers.append(link_splitter[4].replace('-', ' '))\n",
    "\n",
    "    result = soup.find('p', class_='single-speech__speaker-subtext single-speech__speaker-position')\n",
    "    speaker_position.append(result.text if result else 'Title Not Found')\n",
    "\n",
    "    for div in soup.find_all('div', class_='single-speech__content'):\n",
    "        talk_text.append(div.get_text(strip=True))\n",
    "    for h1 in soup.find_all('h1', class_='single-speech__title'):\n",
    "        title_text.append(h1.get_text(strip=True))        \n",
    "    for p in soup.find_all('p', class_='single-speech__speaker-subtext single-speech__date'):\n",
    "        dates.append(p.get_text(strip=True))\n",
    "    for p in soup.find_all('p', class_='single-speech__related-tag'):\n",
    "        temp_list.append(p.get_text(strip=True))\n",
    "        temp_str = ','.join(temp_list)\n",
    "    topics.append(temp_str)\n",
    "\n",
    "\n",
    "dict = {'titles': title_text , 'speaker': speakers, 'speaker_position': speaker_position , 'date': dates, 'talks': talk_text, 'topics': topics, }\n",
    "df = pd.DataFrame(dict)\n",
    "df.to_csv('talks.csv')"
   ]
  },
  {
   "cell_type": "code",
   "execution_count": 27,
   "metadata": {},
   "outputs": [],
   "source": [
    "# get word count of each talk\n",
    "df['word_count'] = df['talks'].apply(lambda x: len(re.findall(r'\\w+', x)))"
   ]
  },
  {
   "cell_type": "code",
   "execution_count": 28,
   "metadata": {},
   "outputs": [
    {
     "data": {
      "text/plain": [
       "(809, 12)"
      ]
     },
     "execution_count": 28,
     "metadata": {},
     "output_type": "execute_result"
    }
   ],
   "source": [
    "# reduce the topic to the ones selected from our original selection ('life', 'jesus-christ', 'faith', 'learning', 'service')\n",
    "from datetime import datetime\n",
    "# the single_topic function takes the list of topics in the 'topics' column and will return the first topic it finds in the 'topic_selection_list'\n",
    "def single_topic(dataframe_topics):\n",
    "    column = [word for word in dataframe_topics.split(',')]\n",
    "    the_string =  ', '.join([val for ind, val in enumerate(topic_selection_list) if val in column])\n",
    "    return the_string.split(',')[0]\n",
    "\n",
    "# removes the '/' from the url list and '-' from topics containing dashes such as 'jesus-christ'\n",
    "topic_selection_list = [x[:-1].replace('-', ' ') for x in url_list]\n",
    "df['topics'] = df['topics'].apply(lambda x: x.lower())\n",
    "df['topic_singular'] = df['topics'].apply(single_topic)\n",
    "\n",
    "# remove quotations (\"\") and all other punctuation from titles\n",
    "df['titles'] = df['titles'].apply(lambda x: re.sub(r'[^\\w\\s]', '', x))\n",
    "\n",
    "# create separate month and year column and create a number column representing the month \n",
    "df['month'] = df['date'].apply(lambda x: x.split(' ')[0])\n",
    "# df['month_dt'] = df['month'].apply(lambda x: datetime.strptime(x, '%B'))\n",
    "df['month_dt'] = pd.to_datetime(df['month'], format='%B')\n",
    "df['year'] = df['date'].apply(lambda x: x.split(' ')[2]).astype(int)\n",
    "\n",
    "def month_to_int(month_string):\n",
    "    month_dictionary = {\n",
    "        'January': 1,\n",
    "        'February': 2,\n",
    "        'March': 3,\n",
    "        'April': 4,\n",
    "        'May': 5,\n",
    "        'June': 6,\n",
    "        'July': 7,\n",
    "        'August': 8,\n",
    "        'September': 9,\n",
    "        'October': 10,\n",
    "        'November': 11,\n",
    "        'December': 12\n",
    "    }\n",
    "\n",
    "    return month_dictionary.get(month_string)\n",
    "    \n",
    "df['month_number'] = df['month'].apply(month_to_int)\n",
    "\n",
    "# get the dimensions of the dataset\n",
    "df.shape\n"
   ]
  },
  {
   "cell_type": "code",
   "execution_count": 29,
   "metadata": {},
   "outputs": [
    {
     "name": "stdout",
     "output_type": "stream",
     "text": [
      "(809, 12)\n"
     ]
    },
    {
     "data": {
      "text/plain": [
       "(654, 12)"
      ]
     },
     "execution_count": 29,
     "metadata": {},
     "output_type": "execute_result"
    }
   ],
   "source": [
    "# Remove the talks that do not contain any data.\n",
    "print(df.shape)\n",
    "df = df[df['talks'].str.contains('for this speech is unavailable')==False]\n",
    "df.shape"
   ]
  },
  {
   "cell_type": "code",
   "execution_count": 30,
   "metadata": {},
   "outputs": [
    {
     "data": {
      "text/html": [
       "<div>\n",
       "<style scoped>\n",
       "    .dataframe tbody tr th:only-of-type {\n",
       "        vertical-align: middle;\n",
       "    }\n",
       "\n",
       "    .dataframe tbody tr th {\n",
       "        vertical-align: top;\n",
       "    }\n",
       "\n",
       "    .dataframe thead th {\n",
       "        text-align: right;\n",
       "    }\n",
       "</style>\n",
       "<table border=\"1\" class=\"dataframe\">\n",
       "  <thead>\n",
       "    <tr style=\"text-align: right;\">\n",
       "      <th></th>\n",
       "      <th>titles</th>\n",
       "      <th>speaker</th>\n",
       "      <th>speaker_position</th>\n",
       "      <th>date</th>\n",
       "      <th>talks</th>\n",
       "      <th>topics</th>\n",
       "      <th>word_count</th>\n",
       "      <th>topic_singular</th>\n",
       "      <th>month</th>\n",
       "      <th>month_dt</th>\n",
       "      <th>year</th>\n",
       "      <th>month_number</th>\n",
       "    </tr>\n",
       "  </thead>\n",
       "  <tbody>\n",
       "    <tr>\n",
       "      <th>0</th>\n",
       "      <td>More Than Knowledge</td>\n",
       "      <td>shuei chen valerie woo</td>\n",
       "      <td>Student Representative</td>\n",
       "      <td>April 21, 2005</td>\n",
       "      <td>When I first found out that I was to speak at ...</td>\n",
       "      <td>byu,life</td>\n",
       "      <td>755</td>\n",
       "      <td>life</td>\n",
       "      <td>April</td>\n",
       "      <td>1900-04-01</td>\n",
       "      <td>2005</td>\n",
       "      <td>4</td>\n",
       "    </tr>\n",
       "    <tr>\n",
       "      <th>1</th>\n",
       "      <td>Believing Christ A Practical Approach to the A...</td>\n",
       "      <td>stephen e robinson</td>\n",
       "      <td>Professor of Ancient Scripture</td>\n",
       "      <td>May 29, 1990</td>\n",
       "      <td>The greatest dichotomy, the greatest problem i...</td>\n",
       "      <td>atonement,jesus christ,collection: jesus chris...</td>\n",
       "      <td>4641</td>\n",
       "      <td>jesus christ</td>\n",
       "      <td>May</td>\n",
       "      <td>1900-05-01</td>\n",
       "      <td>1990</td>\n",
       "      <td>5</td>\n",
       "    </tr>\n",
       "    <tr>\n",
       "      <th>2</th>\n",
       "      <td>It Still Takes Faith</td>\n",
       "      <td>brent l top</td>\n",
       "      <td>Associate Dean of Religious Education</td>\n",
       "      <td>July 22, 1997</td>\n",
       "      <td>My brothers and sisters, I am honored to have ...</td>\n",
       "      <td>covenants,discipleship,faith,pioneers</td>\n",
       "      <td>7305</td>\n",
       "      <td>faith</td>\n",
       "      <td>July</td>\n",
       "      <td>1900-07-01</td>\n",
       "      <td>1997</td>\n",
       "      <td>7</td>\n",
       "    </tr>\n",
       "    <tr>\n",
       "      <th>3</th>\n",
       "      <td>Scholarship and Faith</td>\n",
       "      <td>ross spencer</td>\n",
       "      <td>Title Not Found</td>\n",
       "      <td>March 30, 2010</td>\n",
       "      <td>It is a privilege to be here today, but I have...</td>\n",
       "      <td>education,gospel,learning</td>\n",
       "      <td>3743</td>\n",
       "      <td>learning</td>\n",
       "      <td>March</td>\n",
       "      <td>1900-03-01</td>\n",
       "      <td>2010</td>\n",
       "      <td>3</td>\n",
       "    </tr>\n",
       "    <tr>\n",
       "      <th>4</th>\n",
       "      <td>Our LifeChanging Partnership with the Spirit</td>\n",
       "      <td>michael a jensen</td>\n",
       "      <td>Title Not Found</td>\n",
       "      <td>May 5, 2009</td>\n",
       "      <td>Brothers and sisters, despite my anxiety over ...</td>\n",
       "      <td>holy ghost,revelation,spirit</td>\n",
       "      <td>4382</td>\n",
       "      <td>revelation</td>\n",
       "      <td>May</td>\n",
       "      <td>1900-05-01</td>\n",
       "      <td>2009</td>\n",
       "      <td>5</td>\n",
       "    </tr>\n",
       "    <tr>\n",
       "      <th>5</th>\n",
       "      <td>Investing for Eternity</td>\n",
       "      <td>john h groberg</td>\n",
       "      <td>of the Seventy</td>\n",
       "      <td>June 15, 1982</td>\n",
       "      <td>My dear brothers and sisters, BYU means a lot ...</td>\n",
       "      <td>kindness,righteousness,service,time management</td>\n",
       "      <td>5879</td>\n",
       "      <td>service</td>\n",
       "      <td>June</td>\n",
       "      <td>1900-06-01</td>\n",
       "      <td>1982</td>\n",
       "      <td>6</td>\n",
       "    </tr>\n",
       "    <tr>\n",
       "      <th>6</th>\n",
       "      <td>A Disposition to Do Good Continually</td>\n",
       "      <td>spencer j condie</td>\n",
       "      <td>of the Seventy</td>\n",
       "      <td>February 9, 2010</td>\n",
       "      <td>As a little boy, a favorite activity in my gra...</td>\n",
       "      <td>repentance,righteousness,worthiness</td>\n",
       "      <td>4238</td>\n",
       "      <td>righteousness</td>\n",
       "      <td>February</td>\n",
       "      <td>1900-02-01</td>\n",
       "      <td>2010</td>\n",
       "      <td>2</td>\n",
       "    </tr>\n",
       "  </tbody>\n",
       "</table>\n",
       "</div>"
      ],
      "text/plain": [
       "                                              titles                 speaker  \\\n",
       "0                                More Than Knowledge  shuei chen valerie woo   \n",
       "1  Believing Christ A Practical Approach to the A...      stephen e robinson   \n",
       "2                               It Still Takes Faith             brent l top   \n",
       "3                              Scholarship and Faith            ross spencer   \n",
       "4       Our LifeChanging Partnership with the Spirit        michael a jensen   \n",
       "5                             Investing for Eternity          john h groberg   \n",
       "6               A Disposition to Do Good Continually        spencer j condie   \n",
       "\n",
       "                        speaker_position              date  \\\n",
       "0                 Student Representative    April 21, 2005   \n",
       "1         Professor of Ancient Scripture      May 29, 1990   \n",
       "2  Associate Dean of Religious Education     July 22, 1997   \n",
       "3                        Title Not Found    March 30, 2010   \n",
       "4                        Title Not Found       May 5, 2009   \n",
       "5                         of the Seventy     June 15, 1982   \n",
       "6                         of the Seventy  February 9, 2010   \n",
       "\n",
       "                                               talks  \\\n",
       "0  When I first found out that I was to speak at ...   \n",
       "1  The greatest dichotomy, the greatest problem i...   \n",
       "2  My brothers and sisters, I am honored to have ...   \n",
       "3  It is a privilege to be here today, but I have...   \n",
       "4  Brothers and sisters, despite my anxiety over ...   \n",
       "5  My dear brothers and sisters, BYU means a lot ...   \n",
       "6  As a little boy, a favorite activity in my gra...   \n",
       "\n",
       "                                              topics  word_count  \\\n",
       "0                                           byu,life         755   \n",
       "1  atonement,jesus christ,collection: jesus chris...        4641   \n",
       "2              covenants,discipleship,faith,pioneers        7305   \n",
       "3                          education,gospel,learning        3743   \n",
       "4                       holy ghost,revelation,spirit        4382   \n",
       "5     kindness,righteousness,service,time management        5879   \n",
       "6                repentance,righteousness,worthiness        4238   \n",
       "\n",
       "  topic_singular     month   month_dt  year  month_number  \n",
       "0           life     April 1900-04-01  2005             4  \n",
       "1   jesus christ       May 1900-05-01  1990             5  \n",
       "2          faith      July 1900-07-01  1997             7  \n",
       "3       learning     March 1900-03-01  2010             3  \n",
       "4     revelation       May 1900-05-01  2009             5  \n",
       "5        service      June 1900-06-01  1982             6  \n",
       "6  righteousness  February 1900-02-01  2010             2  "
      ]
     },
     "execution_count": 30,
     "metadata": {},
     "output_type": "execute_result"
    }
   ],
   "source": [
    "# Take a peek at the data\n",
    "df.reset_index(inplace = True, drop = True)\n",
    "df.head(7)"
   ]
  },
  {
   "cell_type": "code",
   "execution_count": 31,
   "metadata": {},
   "outputs": [
    {
     "name": "stdout",
     "output_type": "stream",
     "text": [
      "Describe Data\n",
      "         word_count         year  month_number\n",
      "count    654.000000   654.000000    654.000000\n",
      "mean    4068.099388  2000.870031      6.186544\n",
      "std     1501.670848    13.989164      3.265027\n",
      "min       13.000000  1950.000000      1.000000\n",
      "25%     3369.500000  1990.000000      3.000000\n",
      "50%     4133.500000  2004.000000      6.000000\n",
      "75%     4974.500000  2012.000000      9.000000\n",
      "max    10827.000000  2021.000000     12.000000\n",
      "Summarized Data\n",
      "                   titles          speaker speaker_position            date  \\\n",
      "count                 654              654              654             654   \n",
      "unique                648              398              187             600   \n",
      "top     Go Forth to Serve  kevin j worthen  Title Not Found  April 30, 2004   \n",
      "freq                    4               16              187               5   \n",
      "\n",
      "                                                    talks topics  \\\n",
      "count                                                 654    654   \n",
      "unique                                                653    501   \n",
      "top     I so greatly appreciated that music. I have ne...   life   \n",
      "freq                                                    2     16   \n",
      "\n",
      "       topic_singular   month  \n",
      "count             654     654  \n",
      "unique             13      12  \n",
      "top              life  August  \n",
      "freq               89      89  \n"
     ]
    }
   ],
   "source": [
    "# We want to get some inital statistical information from the dataset.\n",
    "print(\"Describe Data\")\n",
    "print(df.describe())\n",
    "print(\"Summarized Data\")\n",
    "print(df.describe(include=['O']))"
   ]
  },
  {
   "cell_type": "code",
   "execution_count": 32,
   "metadata": {},
   "outputs": [
    {
     "data": {
      "image/png": "[encoded data removed]",
      "text/plain": [
       "<Figure size 1440x720 with 3 Axes>"
      ]
     },
     "metadata": {
      "needs_background": "light"
     },
     "output_type": "display_data"
    }
   ],
   "source": [
    "import matplotlib.pyplot as plt\n",
    "from matplotlib.dates import DateFormatter\n",
    "# set up the figure size\n",
    "plt.rcParams['figure.figsize'] = (20, 10)\n",
    "\n",
    "# make subplots\n",
    "fig, axes = plt.subplots(nrows = 3, ncols = 1)\n",
    "\n",
    "# Specify the features of interest\n",
    "num_features = ['word_count', 'year', 'month_dt']\n",
    "xaxes = num_features\n",
    "yaxes = ['Counts', 'Counts', 'Counts']\n",
    "\n",
    "# draw histograms\n",
    "axes = axes.ravel()\n",
    "for idx, ax in enumerate(axes):\n",
    "    if idx == 2:\n",
    "        date_form = DateFormatter('%B')\n",
    "        ax.xaxis.set_major_formatter(date_form)\n",
    "        ax.hist(df[num_features[idx]].dropna(), bins=40)\n",
    "        ax.set_xlabel(xaxes[idx], fontsize=20)\n",
    "        ax.set_ylabel(yaxes[idx], fontsize=20)\n",
    "        ax.tick_params(axis='both', labelsize=15)    \n",
    "    else:\n",
    "        ax.hist(df[num_features[idx]].dropna(), bins=40)\n",
    "        ax.set_xlabel(xaxes[idx], fontsize=20)\n",
    "        ax.set_ylabel(yaxes[idx], fontsize=20)\n",
    "        ax.tick_params(axis='both', labelsize=15)\n",
    "\n",
    "plt.show()"
   ]
  },
  {
   "cell_type": "markdown",
   "metadata": {},
   "source": [
    "Based on the plot above, we can make a few observations:  \n",
    "- The overall number of talks increased as time has gone on.\n",
    "- August seems to be a popular month for people to give talks at Brigham Young University (suggesting that it coincides with the beginning of the school year)"
   ]
  },
  {
   "cell_type": "code",
   "execution_count": 33,
   "metadata": {},
   "outputs": [
    {
     "data": {
      "image/png": "[encoded data removed]",
      "text/plain": [
       "<Figure size 1440x720 with 1 Axes>"
      ]
     },
     "metadata": {
      "needs_background": "light"
     },
     "output_type": "display_data"
    }
   ],
   "source": [
    "plt.rcParams['figure.figsize'] = (20, 10)\n",
    "\n",
    "# make subplots\n",
    "fig, axes = plt.subplots(nrows = 1, ncols = 1)\n",
    "\n",
    "# make the data read to feed into the visulizer\n",
    "X_Topics = df.groupby('topic_singular').size().reset_index(name='Counts')['topic_singular']\n",
    "Y_Topics = df.groupby('topic_singular').size().reset_index(name='Counts')['Counts']\n",
    "# make the bar plot\n",
    "axes.barh(X_Topics, Y_Topics)\n",
    "axes.set_title('Topics', fontsize=25)\n",
    "axes.set_ylabel('Counts', fontsize=20)\n",
    "axes.tick_params(axis='both', labelsize=15)\n",
    "\n",
    "plt.show()\n"
   ]
  },
  {
   "cell_type": "markdown",
   "metadata": {},
   "source": [
    "Observations from the topics bar chart:\n",
    "- Jesus Christ and Life are the most popular topics (of the most popular topics).  \n",
    "- All of the most popular seem to fall in line with a private religious university"
   ]
  },
  {
   "cell_type": "code",
   "execution_count": 34,
   "metadata": {},
   "outputs": [
    {
     "data": {
      "image/png": "[encoded data removed]",
      "text/plain": [
       "<Figure size 1080x504 with 2 Axes>"
      ]
     },
     "metadata": {
      "needs_background": "light"
     },
     "output_type": "display_data"
    }
   ],
   "source": [
    "#set up the figure size\n",
    "%matplotlib inline\n",
    "plt.rcParams['figure.figsize'] = (15, 7)\n",
    "\n",
    "# import the package for visulization of the correlation\n",
    "from yellowbrick.features import Rank2D\n",
    "\n",
    "num_features = ['word_count', 'year', 'month_number']\n",
    "\n",
    "# extract the numpy arrays from the data frame\n",
    "X = df[num_features].values\n",
    "\n",
    "# instantiate the visualizer with the Covariance ranking algorithm\n",
    "visualizer = Rank2D(features=num_features, algorithm='pearson')\n",
    "visualizer.fit(X)                # Fit the data to the visualizer\n",
    "visualizer.transform(X)             # Transform the data\n",
    "visualizer.poof(outpath=\"pcoords1.png\") # Draw/show/poof the data\n",
    "plt.show()"
   ]
  },
  {
   "cell_type": "markdown",
   "metadata": {},
   "source": [
    "A few observations from the Pearson Ranking matrix plot:\n",
    "- As the years increase (become more recent to our day), the speakers seem to have more to say (use more words).\n",
    "- The later in the year, the less sermons are given.  Maybe this is due to July being a summer month with not a lot of the student body present on campus, and December has winter break."
   ]
  },
  {
   "cell_type": "code",
   "execution_count": 35,
   "metadata": {},
   "outputs": [
    {
     "data": {
      "image/png": "[encoded data removed]",
      "text/plain": [
       "<Figure size 1440x720 with 1 Axes>"
      ]
     },
     "metadata": {
      "needs_background": "light"
     },
     "output_type": "display_data"
    }
   ],
   "source": [
    "plt.rcParams['figure.figsize'] = (20, 10)\n",
    "\n",
    "# make subplots\n",
    "fig, axes = plt.subplots(nrows = 1, ncols = 1)\n",
    "\n",
    "# make the data read to feed into the visulizer\n",
    "month_number_faith = df[df['topic_singular']=='faith']['month_number'].value_counts()\n",
    "\n",
    "month_number_jc = df[df['topic_singular']=='jesus christ']['month_number'].value_counts()\n",
    "month_number_jc = month_number_jc.reindex(index = month_number_faith.index)\n",
    "\n",
    "month_number_learning = df[df['topic_singular']=='learning']['month_number'].value_counts()\n",
    "month_number_learning = month_number_learning.reindex(index = month_number_faith.index)\n",
    "\n",
    "month_number_life = df[df['topic_singular']=='life']['month_number'].value_counts()\n",
    "month_number_life = month_number_life.reindex(index = month_number_faith.index)\n",
    "\n",
    "month_number_service = df[df['topic_singular']=='service']['month_number'].value_counts()\n",
    "month_number_service = month_number_service.reindex(index = month_number_faith.index)\n",
    "# make the bar plot\n",
    "p1 = axes.bar(month_number_faith.index, month_number_faith.values)\n",
    "p2 = axes.bar(month_number_jc.index, month_number_jc.values, bottom=month_number_faith.values)\n",
    "p3 = axes.bar(month_number_learning.index, month_number_learning.values, bottom=month_number_faith.values)\n",
    "p4 = axes.bar(month_number_life.index, month_number_life.values, bottom=month_number_faith.values)\n",
    "p5 = axes.bar(month_number_service.index, month_number_service.values, bottom=month_number_faith.values)\n",
    "# date_form = DateFormatter('%B')\n",
    "# axes.xaxis.set_major_formatter(date_form)\n",
    "axes.set_title('Month Number', fontsize=25)\n",
    "axes.set_ylabel('Counts', fontsize=20)\n",
    "axes.tick_params(axis='both', labelsize=15)\n",
    "axes.legend((p1[0], p2[0], p3[0], p4[0], p5[0]), ('Faith', 'Jesus Christ', 'Learning', 'Life', 'Service'), fontsize = 15)\n",
    "\n",
    "plt.show()\n"
   ]
  },
  {
   "cell_type": "markdown",
   "metadata": {},
   "source": [
    "The following observations can be made from the chart above:\n",
    "\n",
    "- August is the most popular month for talks, with an overwhelming majority of the learning topics being contained there.\n",
    "- December is a popular month to discuss Jesus Christ (more than likely due to Christmas).\n",
    "- Faith and Service is a common theme no matter the time of year.\n",
    "- Jesus Christ as a topic is popular in March (perhaps due to Easter?).\n",
    "\n",
    "It will be interesting as we continue on with this project how these variables will play into the predictability of the project."
   ]
  },
  {
   "cell_type": "markdown",
   "metadata": {},
   "source": [
    "In Milestone 2, you should drop any features that are not useful for your model building. You should explain and justify why the feature dropped is not useful. You should address any missing data issues. Build any new features that you need for your model, e.g., create dummy variables for categorical features if necessary. Explain your process at each step. You can use any methods/tools you think are most appropriate. Again, keep in mind that this may look very different from what is done in the Titanic tutorial case study. You should do what makes sense for your project. Be careful to avoid data snooping in these steps."
   ]
  },
  {
   "cell_type": "markdown",
   "metadata": {},
   "source": [
    "There are some talks that were srcaped that do not contain any text.  These talks need to be eliminated from the data set before moving forward as they do not provide any useful information."
   ]
  },
  {
   "cell_type": "markdown",
   "metadata": {},
   "source": [
    "Build any new features that you need for your model, e.g., create dummy variables for categorical features if necessary.\n",
    "\n",
    "We will now create dummy variables for the categorical designations in the topic_singular column that will be later used for model analysis.  Instead of using a dictionary to assign values to the categories (i.e. adversity = 1, divine potential = 2, etc.), we will use the get_dummies section so that the model will not give more importance to a higher number."
   ]
  },
  {
   "cell_type": "code",
   "execution_count": 36,
   "metadata": {},
   "outputs": [
    {
     "name": "stdout",
     "output_type": "stream",
     "text": [
      "<class 'pandas.core.frame.DataFrame'>\n",
      "RangeIndex: 654 entries, 0 to 653\n",
      "Data columns (total 24 columns):\n",
      " #   Column                           Non-Null Count  Dtype         \n",
      "---  ------                           --------------  -----         \n",
      " 0   titles                           654 non-null    object        \n",
      " 1   speaker                          654 non-null    object        \n",
      " 2   speaker_position                 654 non-null    object        \n",
      " 3   date                             654 non-null    object        \n",
      " 4   talks                            654 non-null    object        \n",
      " 5   topics                           654 non-null    object        \n",
      " 6   word_count                       654 non-null    int64         \n",
      " 7   month                            654 non-null    object        \n",
      " 8   month_dt                         654 non-null    datetime64[ns]\n",
      " 9   year                             654 non-null    int32         \n",
      " 10  month_number                     654 non-null    int64         \n",
      " 11  topic_singular_adversity         654 non-null    uint8         \n",
      " 12  topic_singular_discipleship      654 non-null    uint8         \n",
      " 13  topic_singular_divine potential  654 non-null    uint8         \n",
      " 14  topic_singular_faith             654 non-null    uint8         \n",
      " 15  topic_singular_jesus christ      654 non-null    uint8         \n",
      " 16  topic_singular_learning          654 non-null    uint8         \n",
      " 17  topic_singular_life              654 non-null    uint8         \n",
      " 18  topic_singular_love              654 non-null    uint8         \n",
      " 19  topic_singular_missionary work   654 non-null    uint8         \n",
      " 20  topic_singular_revelation        654 non-null    uint8         \n",
      " 21  topic_singular_righteousness     654 non-null    uint8         \n",
      " 22  topic_singular_service           654 non-null    uint8         \n",
      " 23  topic_singular_trials            654 non-null    uint8         \n",
      "dtypes: datetime64[ns](1), int32(1), int64(2), object(7), uint8(13)\n",
      "memory usage: 62.1+ KB\n"
     ]
    }
   ],
   "source": [
    "# Assign the singular topics an number ID for model analysis\n",
    "\n",
    "df = pd.get_dummies(df, prefix='topic_singular', columns=['topic_singular'])\n",
    "df.head(7)\n",
    "df.info()"
   ]
  },
  {
   "cell_type": "markdown",
   "metadata": {},
   "source": [
    "In Milestone 3, you will begin the process of model selection and evaluation. In addition, write step-by-step instructions for performing the model evaluation and selection part of your case study.\n",
    "\n",
    "In Milestone 3, you should build and evaluate at least one model. You can use any methods/tools you think are most appropriate, but you should explain/justify why you are choosing the model(s) and evaluation metric(s) you choose. It is important to think about what type of model and metric makes sense for the context of your problem. If you are familiar with hyperparameter tuning, this would also be a great addition to your project.\n",
    "\n",
    "Write a short overview/conclusion of the insights gained from your model building/evaluation."
   ]
  },
  {
   "cell_type": "markdown",
   "metadata": {},
   "source": [
    "After reading Chapter 5 of Applied Text Analysis with Python, I realize that I need to do some more pre-processing before building a model."
   ]
  },
  {
   "cell_type": "code",
   "execution_count": 38,
   "metadata": {},
   "outputs": [
    {
     "data": {
      "text/plain": [
       "'The greatest dichotomy, the greatest problem in the entire universe, consists of two facts. The first we can read in Doctrine and Covenants 1:31: “For I the Lord cannot look upon sin with the least degree of allowance.” That means he can’t stand it, he can’t tolerate it, he can’t blink, or look the other way, or sweep it under the rug. He can’t tolerate sin in the least degree. The other side of the dichotomy is very simply put: I sin, and so do you. If that were all there were to the equation, the conclusion would be inescapable that we, as sinful beings, cannot be tolerated in the presence of God.But that is not all there is to the equation. This morning I would like to talk to you about the Atonement of Christ, that glorious plan by which this dichotomy can be resolved. I would like to share with you incidents from my own life that illustrate how the Atonement works in a practical, everyday setting.Believing ChristFirst is a story about my son, Michael, who did something wrong when he was six or seven years old. He’s my only son, and I’m hard on him. I want him to be better than his dad was, even as a boy, and so I lean on him and expect a great deal. Well, he had done something I thought was incredibly vile, and I let him know how terrible it was. I sent him to his room with the instructions, “Don’t you dare come out until I come and get you.”And then I forgot. It was some hours later, as I was watching television, that I heard his door open and heard the tentative footsteps coming down the hall. I said, “Oh, my gosh,” and ran to my end of the hall to see him standing with swollen eyes and tears on his cheeks at the other end. He looked up at me—he wasn’t quite sure he should have come out—and said, “Dad, can’t we ever be friends again?” Well, I melted, ran to him, and hugged him. He’s my boy, and I love him.Like Michael, we all do things that disappoint our Father, that separate us from his presence and spirit. There are times when we get sent to our rooms spiritually. There are sins that maim; there are sins that wound our spirits. Some of you know what it is like to do something that makes you feel as if you just drank raw sewage. You can wash, but you can never get clean. When that happens, sometimes we ask the Lord as we lift up our eyes, “O Father, can’t we ever be friends again?”The answer that can be found in all the scriptures is a resounding “Yes, through the Atonement of Christ.” I particularly like the way it is put in Isaiah 1:18.Come now, and let us reason together, saith the Lord: though your sins be as scarlet, they shall be as white as snow; though they be red like crimson, they shall be as wool.I like to paraphrase that for my students. What the Lord is saying is “I don’t care what you did. It doesn’t matter what you did. I can erase it. I can make you pure and worthy and innocent and celestial.”Brothers and sisters, to have faith in Jesus Christ is not merely to believe that he is who he says he is, to believe in Christ. Sometimes, to have faith in Christ is also to believe Christ. Both as a bishop and as a teacher in the Church, I have learned there are many that believe Jesus is the Son of God and that he is the Savior of the World, but that he cannot save them. They believe in his identity, but not in his power to cleanse and to purify and to save. To have faith in his identity is only half the process. To have faith in his ability, in his power to cleanse and to save, that is the other half. We must not only believe in Christ, we must believe Christ when he says, “I can cleanse you and make you celestial.”When I was a bishop, I used to hear several variations on a theme. Sometimes it was, “Bishop, I’ve punched my ticket wrong. I’ve just made mistakes that have gotten me off on the wrong track, and you can’t get there from here.” I’ve heard those who say, “Bishop, I’ve sinned too horribly. I can’t have the full blessings of the gospel because I did this, or I did that. I’ll come to Church, and I’ll be active, and I’m hoping for a pretty good reward, but I couldn’t receive the full blessings of exaltation in the celestial kingdom after what I’ve done.” There are those members who say, “Bishop, I’m just an average Saint. I’m weak and imperfect, and I don’t have all the talents that Sister So-and-So does, or Brother So-and-So does. I’ll never be in the bishopric, or I’ll never be the Relief Society president. I’m just average. I hope for a place a little further down.” All of these are variations of the same theme: “I do not believe Christ can do what he claims. I have no faith in his ability to exalt me.”My favorite is a fellow who said to me once, “Bishop, I’m just not celestial material.” Well, I’d had enough, so I said back to him, “Why don’t you admit your problem? You’re not celestial material? Welcome to the club. None of us are! None of us qualify on the terms of perfection required for the presence of God by ourselves. Why don’t you just admit that you don’t have faith in the ability of Christ to do what he says he can do?”He got angry. He had always believed in Christ. He said, “I have a testimony of Jesus. I believe in Christ.”I said, “Yes, you believe in Christ. You simply do not believe Christ, because he says even though you are not celestial material, he canmakeyou celestial material.”Why He Is Called the SaviorSometimes the weight of the demand for perfection drives us to despair. Sometimes we fail to believe that most choice portion of the gospel that says he can change us and bring us into his kingdom. Let me share an experience that happened about ten years ago. My wife and I were living in Pennsylvania. Things were going pretty well; I’d been promoted. It was a good year for us, though a trying year for Janet. That year she had our fourth child, graduated from college, passed the CPA exam, and was made Relief Society president. We had temple recommends, we had family home evening. I was in the bishopric. I thought we were headed for “LDS yuppiehood.” Then one night the lights went out. Something happened in my wife that I can only describe as “dying spiritually.” She wouldn’t talk about it; she wouldn’t tell me what was wrong. That was the worst part. For a couple of weeks she did not wish to participate in spiritual things. She asked to be released from her callings, and she would not open up and tell me what was wrong.Finally, after about two weeks, one night I made her mad and it came out. She said, “All right. You want to know what’s wrong? I’ll tell you what’s wrong. I can’t do it anymore. I can’t lift it. I can’t get up at 5:30 in the morning and bake bread and sew clothes and help my kids with their homework and do my own homework and do my Relief Society stuff and get my genealogy done and write the congressman and go to the PTA meetings and write the missionaries . . .” And she just started naming one brick after another that had been laid on her, explaining all the things she could not do. She said, “I don’t have the talent that Sister Morrell has. I can’t do what Sister Childs does. I try not to yell at the kids, but I lose control, and I do. I’m just not perfect, and I’m not ever going to be perfect. I’m not going to make it to the celestial kingdom, and I’ve finally admitted that to myself. You and the kids can go, but I can’t lift it. I’m not ‘Molly Mormon,’ and I’m not ever going to be perfect, so I’ve given up. Why break my back?”Well, we started to talk, and it was a long night. I asked her, “Janet, do you have a testimony?”She said, “Of course I do! That’s what’s so terrible. I know it’s true. I just can’t do it.”“Have you kept the covenants you made when you were baptized?”She said, “I’ve tried and I’ve tried, but I cannot keep all the commandments all the time.”Then I rejoiced because I knew what was wrong, and I could see the light at the end of the tunnel. It wasn’t any of those horrible things I thought it might be. Who would have thought after eight years of marriage, after all the lessons we’d given and heard, and after all we had read and done in the Church, who would have thought that Janet did not know the gospel of Jesus Christ? You see, she was trying to save herself. She knew why Jesus is a coach, a cheerleader, an advisor, a teacher. She knew why he is an example, the head of the Church, the Elder Brother, or even God. She knew all of that, but she did not understand why he is called theSavior.Janet was trying to save herself with Jesus as an advisor. Brothers and sisters, we can’t. No one can. No one is perfect—not even the Brethren. Please turn to Ether 3:2. This is about one of the greatest prophets that ever lived, the brother of Jared. His faith is so great that he is about to pierce the veil and see the spiritual body of Christ. As he begins to pray, he says,Now behold, O Lord, and do not be angry with thy servant because of his weakness before thee;[One of the greatest prophets who ever lived, and he starts his prayer with an apology as an imperfect being for approaching a perfect God.]for we know that thou art holy and dwellest in the heavens, and that we are unworthy before thee; because of the fall our natures have become evil continually; nevertheless, O Lord, thou hast given us a commandment that we must call upon thee, that from thee we may receive according to our desires.Of course we fail at the celestial level. That’s why we need a savior, and we are commanded to approach God and to call upon him so we may receiveaccording to our desires.In the New Testament the Savior says, “Blessed are they which do hunger and thirst after righteousness: for they shall be filled” (Matthew 5:6). We misinterpret that frequently. We think that means blessed are the righteous. It does not. When are you hungry? When are you thirsty? When you don’t have the object of your desire. Blessed are those who hunger and thirst after the righteousness that God has, after the righteousness of the celestial kingdom, because as that is the desire of their heart, they can achieve it—they will be filled. We may receive “according to our desires.”Becoming OnePerfection comes through the Atonement of Christ. We become one with him, with a perfect being. And as we become one, there is a merger. Some of my students are studying business, and they understand it better if I talk in business terms. You take a small bankrupt firm that’s about ready to go under and merge it with a corporate giant. What happens? Their assets and liabilities flow together, and the new entity that is created is solvent.It’s like when Janet and I got married. I was overdrawn; Janet had money in the bank. By virtue of making that commitment, of entering into that covenant relationship of marriage with my wife, we became a joint account. No longer was there an I, and no longer a she—now it waswe.My liabilities and her assets flowed into each other, and for the first time in months I was in the black.Spiritually, this is what happens when we enter into the covenant relationship with our Savior. We have liabilities, he has assets. He proposes to us a covenant relationship. I use the word “propose” on purpose because it is a marriage of a spiritual sort that is being proposed. That is why he is called the Bridegroom. This covenant relationship is so intimate that it can be described as a marriage. I become one with Christ, and as partners we work together for my salvation and my exaltation. My liabilities and his assets flow into each other. I do all that I can do, and he does what I cannot yet do. The two of us together are perfect.This is why the Savior says in Matthew 11:28, “Come unto me, all ye that labour and are heavy laden, and I will give you rest.” What heavier load is there than the demand for perfection, that you must do it all, that you must make yourself perfect in this life before you can have any hope in the next? What heavier burden is there than that? That is the yoke of the law.Come unto me, all ye that labour and are heavy laden, and I will give you rest.Take my yoke upon you, and learn of me; for I am meek and lowly in heart: and ye shall find rest unto your souls.For my yoke is easy, and my burden is light.[Matthew 11:28–30]“Trust Me”Turn, if you will, to 2 Nephi 4:17–19. You know the prophet Nephi. He was one of the great prophets, yet he had a sense of his need for the Savior and his reliance upon the Savior. He says,O wretched man that I am! Yea, my heart sorroweth because of my flesh; my soul grieveth because of mine iniquities.I am encompassed about, because of the temptations and the sins which do so easily beset me.And when I desire to rejoice, my heart groaneth because of my sins.Did Nephi have an appreciation for his mortal condition, for his need of the Savior to be saved from his sins? Oh yes, and the key is what comes next, “nevertheless, I know in whom I have trusted.” All right, I’m imperfect. My sins bother me. I’m not celestial yet, but I know in whom I have trusted. Nephi trusted in the power of Jesus Christ to cleanse him of his sins and to bring him into the kingdom of God.I had a friend who used to say quite frequently, “Well, I figure my life is half over, and I’m halfway to the celestial kingdom, so I’m right on schedule.”One day I asked her, “Judy, what happens if you die tomorrow?” It was the first time that thought had ever occurred to her.“Let’s see, halfway to the celestial kingdom is . . . mid-terrestrial! That’s not good enough!”We need to know that in this covenant relationship we have with the Savior, if we should die tomorrow, we have hope of the celestial kingdom. That hope is one of the promised blessings of the covenant relationship. Yet many of us do not understand it or take advantage of it.When our twin daughters were small, we decided to take them to the public pool and teach them how to swim. I remember starting with Rebekah. As I went down into the water with Rebekah, I thought, “I’m going to teach her how to swim.” But as we went down into the water, in her mind was the thought, “My dad is going to drown me. I’m going to die!” The water was only three and a half feet deep, but Becky was only three feet deep. She was so petrified that she began to scream and cry and kick and scratch and was unteachable.Finally, I just had to grab her. I threw my arms around her, and I just held her, and I said, “Becky, I’ve got you. I’m your dad. I love you. I’m not going to let anything bad happen to you. Now relax.” Bless her heart, she trusted me. She relaxed, and I put my arms under her and said, “Okay, now kick your legs.” And we began to learn how to swim.Spiritually there are some of us who are similarly petrified by the questions “Am I celestial? Am I going to make it? Was I good enough today?” We’re so terrified of whether we’re going to live or die, or whether we’ve made it to the kingdom or not, that we cannot make any progress. It’s at those times when the Savior grabs us and throws his arms around us and says, “I’ve got you. I love you. I’m not going to let you die. Now relax and trust me.” If we can relax and trust him and believe him, as well as believe in him, then together we can begin to learn to live the gospel. Then he puts his arms under us and says, “Okay, now pay tithing. Very good. Now pay afulltithing.” And so we begin to make progress.Turn to Alma 34:14–16.And behold, this is the whole meaning of the law, every whit pointing to that great and last sacrifice; and that great and last sacrifice will be the Son of God, yea, infinite and eternal.And thus he shall bring salvation to all those who shall believe on his name; this being the intent of this last sacrifice, to bring about the bowels of mercy, which overpowereth justice, and bringeth about means unto men that they may have faith unto repentance.And thus mercy can satisfy the demands of justice, and encircles them in the arms of safety.“The arms of safety“—that is my favorite phrase from the Book of Mormon.Brothers and sisters, do Mormons believe in being saved? If I ask my classes that question with just the right twang in my voice, “Do we believe in being saved?” I can generally get about a third of my students to shake their heads and say, “Oh no, no! Those other guys believe in that.” What a tragedy! Brothers and sisters, we believe in being saved. That’s why Jesus is called the Savior. What good is it to have a savior if no one is saved? It’s like having a lifeguard that won’t get out of the chair. “There goes another one down. Try the backstroke! Oh, too bad, he didn’t make it.” We have a savior who can save us from ourselves, from what we lack, from our imperfections, from the carnal individual within us.Turn to Doctrine and Covenants 76:68–69. In Joseph’s vision of the celestial kingdom, he describes those who are there in these terms:These are they whose names are written in heaven, where God and Christ are the judge of all.These are they who are just men made perfect through Jesus the mediator of the new covenant.Justmen and women,goodmen and women, those who hunger and thirst after righteousness,madeperfect through Jesus, the mediator of the new covenant.Give Him All That We HaveAs my wife and I talked about her feeling of inadequacy and her feeling that she couldn’t do it and that she couldn’t make it, I had a hard time reaching her until finally I hit upon something that had happened in our family just a couple of months earlier. In our home it is now called the parable of the bicycle.After I had come home from school one day, I was sitting in a chair reading the newspaper. My daughter Sarah, who was seven years old, came in and said, “Dad, can I have a bike? I’m the only kid on the block who doesn’t have a bike.”Well, I didn’t have enough money to buy her a bike, so I stalled her and said, “Sure, Sarah.”She said, “How? When?”I said, “You save all your pennies, and pretty soon you’ll have enough for a bike.” And she went away.A couple of weeks later as I was sitting in the same chair, I was aware of Sarah doing something for her mother and getting paid. She went into the other room and I heard “clink, clink.” I asked, “Sarah, what are you doing?”She came out and she had a little jar all cleaned up with a slit cut in the lid and a bunch of pennies in the bottom. She looked at me and said, “You promised me that if I saved all my pennies, pretty soon I’d have enough for a bike. And, Daddy, I’ve saved every single one of them.”She’s my daughter, and I love her. My heart melted. She was doing everything in her power to follow my instructions. I hadn’t actually lied to her. If she saved all of her pennies she would eventually have enough for a bike, but by then she would want a car. But her needs weren’t being met. Because I love her, I said, “Let’s go downtown and look at bikes.”We went to every store in Williamsport, Pennsylvania. Finally we found it—theperfectbicycle, the one she knew in the premortal existence. She got up on that bike; she was thrilled. She then saw the price tag, reached down, and turned it over. When she saw how much it cost, her face fell and she started to cry. She said, “Oh Dad, I’ll never have enough for a bicycle.”So I said, “Sarah, how muchdoyou have?”She answered, “Sixty-one cents.”“I’ll tell you what. You give me everything you’ve got and a hug and a kiss, and the bike is yours.” Well, she’s never been stupid. She gave me a hug and a kiss. She gave me the sixty-one cents. Then I had to drive home very slowly because she wouldn’t get off the bike. She rode home on the sidewalk, and as I drove along slowly beside her it occurred to me that this was a parable for the Atonement of Christ.We all want something desperately—it isn’t a bicycle. We want the celestial kingdom. We want to be with our Father in Heaven. And no matter how hard we try, we come up short. At some point we realize, “I can’t do this!” That was the point my wife had reached. It is at that point that the sweetness of the gospel covenant comes to our taste as the Savior proposes, “I’ll tell you what. All right, you’re not perfect. How muchdoyou have? Whatcanyou do? Where are you now? Give me all you’ve got, and I’ll pay the rest. Give me a hug and a kiss; enter into a personal relationship with me, and I will do what remains undone.”There is good news and bad news here. The bad news is that he still requires our best effort. We must try, we must work—we must do all that we can. But the good news is that having done all we can, it is enough—for now. Together we’ll make progress in the eternities, and eventually we will become perfect—but in the meantime, we are perfect only in a partnership, in a covenant relationship with him. Only by tappinghisperfection can we hope to qualify.When I explained to Janet how it worked, finally I broke through and she understood. She bloomed. I remember her saying through her tears, “I’ve always believed he is the Son of God. I have always believed that he suffered and died for me. But now I know that he can save me from myself, from my sins, from my weakness, inadequacy, and lack of talent.”Oh, brothers and sisters, how many of us forget the words of 2 Nephi 2:8:There is no flesh that can dwell in the presence of God, save it be through the merits, and mercy, and grace of the Holy Messiah.There is no other way. Many of us are trying to save ourselves, holding the Atonement of Jesus Christ at arm’s distance and saying, “When I’ve done it, when I’ve perfected myself, when I’ve made myself worthy, then I’ll be worthy of the Atonement. Then I will allow him in.” We cannot do it. That’s like saying, “When I am well, I’ll take the medicine. I’ll be worthy of it then.” That’s not how it was designed to work.There is a hymn—it is one of my favorites—that says, “Dearly, dearly has he loved! And we must love him too, And trust in his redeeming blood, And try his works to do” (“There Is a Green Hill Far Away,”Hymns,1985, no. 194). I think one of the reasons why I love that hymn so much is because it expresses both sides of that covenant relationship. We must try his works to do with all that is in us. We must do all that we can, and having done all, then we must trust in his redeeming blood and in his ability to do for us what we cannot yet do.Elder McConkie used to call this being in the gospel harness. When we are in the gospel harness, when we are pulling for the kingdom with our eyes on that goal, although we are not yet there, we can have confidence that just as that is our goal in life, so it will be our goal in eternity. Through the Atonement of Christ we can have hope of achieving and an expectation of receiving that goal.I bear testimony to you that this is true. I have learned this lesson in my life. My family has learned this lesson in our collective life. I bear testimony that Jesus Christ is the Son of God, that he is the Savior of the World, that he is our individual Savior, if we will only enter into that glorious covenant relationship with him and give him all that we have. Whether it be sixty-one cents or a dollar and a half or two cents, hold nothing back, give it all, and then have faith and trust in his ability to do for us what we cannot yet accomplish, to make up what we yet lack of perfection.I bear testimony of him. I love him. I love his gospel dearly, and I say these things in the name of Jesus Christ. Amen.© Brigham Young University. All rights reserved.'"
      ]
     },
     "execution_count": 38,
     "metadata": {},
     "output_type": "execute_result"
    }
   ],
   "source": [
    "df['talks'][1]"
   ]
  }
 ],
 "metadata": {
  "interpreter": {
   "hash": "bf60427b139290154779a7e38fd0f127f78e5a9dfc17b4a4bd1d849158c5fa70"
  },
  "kernelspec": {
   "display_name": "Python 3.7.6 64-bit ('base': conda)",
   "name": "python3"
  },
  "language_info": {
   "codemirror_mode": {
    "name": "ipython",
    "version": 3
   },
   "file_extension": ".py",
   "mimetype": "text/x-python",
   "name": "python",
   "nbconvert_exporter": "python",
   "pygments_lexer": "ipython3",
   "version": "3.7.6"
  },
  "orig_nbformat": 4
 },
 "nbformat": 4,
 "nbformat_minor": 2
}
