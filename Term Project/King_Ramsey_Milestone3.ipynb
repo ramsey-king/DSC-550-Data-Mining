{
 "cells": [
  {
   "cell_type": "markdown",
   "metadata": {},
   "source": [
    "# Ramsey King\n",
    "# DSC 550 - Data Mining\n",
    "# October 24, 2021\n",
    "# Term Project Milestone 3"
   ]
  },
  {
   "cell_type": "markdown",
   "metadata": {},
   "source": [
    "### My term project will consist of being able to guess the main topic of sermons given by members of The Church of Jesus Christ of Latter Day Saints as defined by the designated topic assigned to it at speeches.byu.edu.  The ability to search for sermons by topic on this website is available.  While this specific case is not a business use case of data mining, there are many business use cases for being able to identify text by topic or keyword (i.e. www.google.com).  \n",
    "### For purposes of this assignment, being able to quickly find topic related sermons is beneficial to members of the Church of Jesus Christ.  On occasion, members of the church are asked to give a sermon of their own on various topics, and having the ability to go to a resource and search the assigned topic by keyword helps to generate discussion points and give guidance as to what is appropriate to discuss.  For this project, we will limit the topics as defined by speeches.byu.edu. to give us an initial dataset of 800 rows before processing.  The topics and the count of the number of sermons given (as of October 4th, 2021) are: Life (108), Jesus Christ (106), Faith (100), Learning (97), Service (73), Discipleship (67), Righteousness (67), Divine Potential (66), Love (66), Adversity (57), Trials (56), Revelation (55), and Missionary Work (53).  This should provide enough data to work with but if there is a need, additional topics will be included to help with the corpus.  "
   ]
  },
  {
   "cell_type": "code",
   "execution_count": 80,
   "metadata": {},
   "outputs": [],
   "source": [
    "# Retrieve talks from topics page using BeautifulSoup\n",
    "\n",
    "from bs4 import BeautifulSoup as bs\n",
    "import requests\n",
    "# import numpy as np\n",
    "import pandas as pd\n",
    "import matplotlib.pyplot as plt\n",
    "import re\n",
    "%matplotlib inline"
   ]
  },
  {
   "cell_type": "markdown",
   "metadata": {},
   "source": [
    "Now that we have BeautifulSoup imported, we will gather the links on the speeches.byu.edu website based on the topics listed above (Faith, Learning, Service, etc.).  "
   ]
  },
  {
   "cell_type": "code",
   "execution_count": 81,
   "metadata": {},
   "outputs": [],
   "source": [
    "# Get list of urls for each of the topics\n",
    "\n",
    "url = \"https://speeches.byu.edu/topics/\"\n",
    "\n",
    "url_list = [\n",
    "    'life/', 'jesus-christ/', 'faith/', 'learning/', 'service/', 'discipleship/', 'righteousness/', \n",
    "    'divine-potential/', 'love/', 'adversity/', 'trials/', 'revelation/', 'missionary-work/'\n",
    "]\n",
    "\n",
    "links = []\n",
    "new_links = []\n",
    "# some of the links are repeated with '?M=V' and '?M=A' and those will be removed so we can have a unique set of links to pull talk information from.\n",
    "for u in url_list:\n",
    "\n",
    "    response = requests.get(url+u)\n",
    "    html = response.content\n",
    "    video = '?M=V'\n",
    "    soup = bs(html, \"lxml\")\n",
    "    for link in soup.findAll(\"a\", attrs={'href': re.compile(\"^https://speeches.byu.edu/talks/[\\D+]\")}):\n",
    "        links.append(link.get('href').replace(video, ''))\n",
    "\n",
    "    audio = '?M=A'\n",
    "    for link in links:\n",
    "        new_link = link.replace(audio, '')\n",
    "        new_links.append(new_link)\n",
    "    new_links = list(set(new_links))\n",
    "\n"
   ]
  },
  {
   "cell_type": "markdown",
   "metadata": {},
   "source": [
    "Now that the links have been gathered into a list, we will use this list to retrieve the individual sermon/talk/speech text from the respective link.  On a specific speech page, the following information will be gathered:\n",
    " - Speaker name\n",
    " - Talk title\n",
    " - Assigned topic\n",
    " - Date when the talk was given\n",
    " - The speaker's title (if they have a certain position within The Church of Jesus Christ of Latter Day Saints, Brigham Young University, etc.  If there is no position or title listed for the speaker, we will return 'Title Not Found')\n",
    " - The talk text\n",
    "\n",
    " This information will be combined into a dataframe for analysis.  This information will also be combined into a csv file in case work needs to be completed offline."
   ]
  },
  {
   "cell_type": "code",
   "execution_count": 82,
   "metadata": {},
   "outputs": [],
   "source": [
    "'''Retrieves talk text from each of the urls using beautiful soup.  Information such as the talk/sermon text, title, topic, date, and speaker will be retreived\n",
    "and put into a dataframe.  A csv file will also be saved due to the time it takes to run or in case we need to work offline.'''\n",
    "talk_text = []\n",
    "title_text = []\n",
    "topics = []\n",
    "dates = []\n",
    "speakers = []\n",
    "speaker_position = []\n",
    "\n",
    "for link in new_links:\n",
    "    url = link\n",
    "    response = requests.get(url)\n",
    "    html = response.content\n",
    "    soup = bs(html, 'lxml')\n",
    "    temp_list = []\n",
    "\n",
    "    link_splitter = link.split('/')\n",
    "    speakers.append(link_splitter[4].replace('-', ' '))\n",
    "\n",
    "    result = soup.find('p', class_='single-speech__speaker-subtext single-speech__speaker-position')\n",
    "    speaker_position.append(result.text if result else 'Title Not Found')\n",
    "\n",
    "    for div in soup.find_all('div', class_='single-speech__content'):\n",
    "        talk_text.append(div.get_text(strip=True))\n",
    "    for h1 in soup.find_all('h1', class_='single-speech__title'):\n",
    "        title_text.append(h1.get_text(strip=True))        \n",
    "    for p in soup.find_all('p', class_='single-speech__speaker-subtext single-speech__date'):\n",
    "        dates.append(p.get_text(strip=True))\n",
    "    for p in soup.find_all('p', class_='single-speech__related-tag'):\n",
    "        temp_list.append(p.get_text(strip=True))\n",
    "        temp_str = ','.join(temp_list)\n",
    "    topics.append(temp_str)\n",
    "\n",
    "\n",
    "dict = {'titles': title_text , 'speaker': speakers, 'speaker_position': speaker_position , 'date': dates, 'talks': talk_text, 'topics': topics, }\n",
    "df = pd.DataFrame(dict)\n",
    "# df.to_csv('talks.csv')"
   ]
  },
  {
   "cell_type": "markdown",
   "metadata": {},
   "source": [
    "Now that the talk information has been combined into a dataframe, we can begin pre-processing and gathering initial statistical information.  To begin, we will get the word count of each talk and place it in one of our columns."
   ]
  },
  {
   "cell_type": "code",
   "execution_count": 83,
   "metadata": {},
   "outputs": [],
   "source": [
    "# get word count of each talk\n",
    "df['word_count'] = df['talks'].apply(lambda x: len(re.findall(r'\\w+', x)))"
   ]
  },
  {
   "cell_type": "markdown",
   "metadata": {},
   "source": [
    "Some talks have multiple topic associated with them on their webpage where the talk text was retrieved.  For purposes of this exercise (and project), we will take the first topic that is listed on the page and that will be our defining topic that will be used for analysis and modeling.  We will also create time columns (Month, Year, and month as an integer) to see if insights can be gained from them. "
   ]
  },
  {
   "cell_type": "code",
   "execution_count": 84,
   "metadata": {},
   "outputs": [
    {
     "data": {
      "text/plain": "(809, 12)"
     },
     "execution_count": 84,
     "metadata": {},
     "output_type": "execute_result"
    }
   ],
   "source": [
    "# reduce the topic to the ones selected from our original selection ('life', 'jesus-christ', 'faith', 'learning', 'service')\n",
    "from datetime import datetime\n",
    "# the single_topic function takes the list of topics in the 'topics' column and will return the first topic it finds in the 'topic_selection_list'\n",
    "def single_topic(dataframe_topics):\n",
    "    column = [word for word in dataframe_topics.split(',')]\n",
    "    the_string =  ', '.join([val for ind, val in enumerate(topic_selection_list) if val in column])\n",
    "    return the_string.split(',')[0]\n",
    "\n",
    "# removes the '/' from the url list and '-' from topics containing dashes such as 'jesus-christ'\n",
    "topic_selection_list = [x[:-1].replace('-', ' ') for x in url_list]\n",
    "df['topics'] = df['topics'].apply(lambda x: x.lower())\n",
    "df['topic_singular'] = df['topics'].apply(single_topic)\n",
    "\n",
    "# remove quotations (\"\") and all other punctuation from titles\n",
    "df['titles'] = df['titles'].apply(lambda x: re.sub(r'[^\\w\\s]', '', x))\n",
    "\n",
    "# create separate month and year column and create a number column representing the month \n",
    "df['month'] = df['date'].apply(lambda x: x.split(' ')[0])\n",
    "# df['month_dt'] = df['month'].apply(lambda x: datetime.strptime(x, '%B'))\n",
    "df['month_dt'] = pd.to_datetime(df['month'], format='%B')\n",
    "df['year'] = df['date'].apply(lambda x: x.split(' ')[2]).astype(int)\n",
    "\n",
    "def month_to_int(month_string):\n",
    "    month_dictionary = {\n",
    "        'January': 1,\n",
    "        'February': 2,\n",
    "        'March': 3,\n",
    "        'April': 4,\n",
    "        'May': 5,\n",
    "        'June': 6,\n",
    "        'July': 7,\n",
    "        'August': 8,\n",
    "        'September': 9,\n",
    "        'October': 10,\n",
    "        'November': 11,\n",
    "        'December': 12\n",
    "    }\n",
    "\n",
    "    return month_dictionary.get(month_string)\n",
    "    \n",
    "df['month_number'] = df['month'].apply(month_to_int)\n",
    "\n",
    "# get the dimensions of the dataset\n",
    "df.shape\n"
   ]
  },
  {
   "cell_type": "markdown",
   "metadata": {},
   "source": [
    "Some of the webpages that data was scraped from did not have the talk text on the page.  Those will be removed from our dataframe."
   ]
  },
  {
   "cell_type": "code",
   "execution_count": 85,
   "metadata": {},
   "outputs": [
    {
     "name": "stdout",
     "output_type": "stream",
     "text": [
      "(809, 12)\n"
     ]
    },
    {
     "data": {
      "text/plain": "(654, 12)"
     },
     "execution_count": 85,
     "metadata": {},
     "output_type": "execute_result"
    }
   ],
   "source": [
    "# Remove the talks that do not contain any data.\n",
    "print(df.shape)\n",
    "df = df[df['talks'].str.contains('for this speech is unavailable')==False]\n",
    "df.shape"
   ]
  },
  {
   "cell_type": "markdown",
   "metadata": {},
   "source": [
    "At this time, we have an initial dataframe of information that we begin doing some statistical analysis on.  We will take a look at the dataframe."
   ]
  },
  {
   "cell_type": "code",
   "execution_count": 86,
   "metadata": {},
   "outputs": [
    {
     "data": {
      "text/plain": "     topic_singular                                    titles  \\\n0           service              Serve the Lord with Gladness   \n1              life              Ships Are Safe in the Harbor   \n2           service                        Go Forth and Serve   \n3  divine potential                         The Highest in Us   \n4          learning          Ever Learning and Ever Improving   \n5           service                  Learning the Healers Art   \n6              life  Journey of the Soul Anchors of the Heart   \n\n             speaker                                   speaker_position  \\\n0    nora kay nyland                                    Title Not Found   \n1  claudio r m costa                                    Title Not Found   \n2     robert d hales               Of the Quorum of the Twelve Apostles   \n3    truman g madsen  Professor of Philosophy at Brigham Young Unive...   \n4  cecil o samuelson              President of Brigham Young University   \n5  elaine s marshall                 Dean of the BYU College of Nursing   \n6      len b novilla  Associate Professor in the Department of Healt...   \n\n               date                                              talks  \\\n0    April 30, 2004  I had been on my mission in Taiwan only a few ...   \n1  November 2, 2010  Years ago, while visiting one of our institute...   \n2    April 27, 2006  Beloved Brigham Young University graduates, th...   \n3     March 3, 1974  May I begin with an incident from our history ...   \n4   August 14, 2003  Brothers, sisters, and friends, it is my great...   \n5   October 8, 2002  This year the Brigham Young University College...   \n6  February 1, 2011  Brothers and sisters, aloha! Don’t worry. I kn...   \n\n                                              topics  word_count     month  \\\n0                         service,women’s conference        3664     April   \n1                                   life,opportunity        3292  November   \n2                                            service        2569     April   \n3                     divine nature,divine potential        4606     March   \n4                                           learning        1092    August   \n5  compassion,healing,service,podcast: by study a...        3582   October   \n6  life,trials,collection: overcoming adversity,p...        4192  February   \n\n    month_dt  year  month_number  \n0 1900-04-01  2004             4  \n1 1900-11-01  2010            11  \n2 1900-04-01  2006             4  \n3 1900-03-01  1974             3  \n4 1900-08-01  2003             8  \n5 1900-10-01  2002            10  \n6 1900-02-01  2011             2  ",
      "text/html": "<div>\n<style scoped>\n    .dataframe tbody tr th:only-of-type {\n        vertical-align: middle;\n    }\n\n    .dataframe tbody tr th {\n        vertical-align: top;\n    }\n\n    .dataframe thead th {\n        text-align: right;\n    }\n</style>\n<table border=\"1\" class=\"dataframe\">\n  <thead>\n    <tr style=\"text-align: right;\">\n      <th></th>\n      <th>topic_singular</th>\n      <th>titles</th>\n      <th>speaker</th>\n      <th>speaker_position</th>\n      <th>date</th>\n      <th>talks</th>\n      <th>topics</th>\n      <th>word_count</th>\n      <th>month</th>\n      <th>month_dt</th>\n      <th>year</th>\n      <th>month_number</th>\n    </tr>\n  </thead>\n  <tbody>\n    <tr>\n      <th>0</th>\n      <td>service</td>\n      <td>Serve the Lord with Gladness</td>\n      <td>nora kay nyland</td>\n      <td>Title Not Found</td>\n      <td>April 30, 2004</td>\n      <td>I had been on my mission in Taiwan only a few ...</td>\n      <td>service,women’s conference</td>\n      <td>3664</td>\n      <td>April</td>\n      <td>1900-04-01</td>\n      <td>2004</td>\n      <td>4</td>\n    </tr>\n    <tr>\n      <th>1</th>\n      <td>life</td>\n      <td>Ships Are Safe in the Harbor</td>\n      <td>claudio r m costa</td>\n      <td>Title Not Found</td>\n      <td>November 2, 2010</td>\n      <td>Years ago, while visiting one of our institute...</td>\n      <td>life,opportunity</td>\n      <td>3292</td>\n      <td>November</td>\n      <td>1900-11-01</td>\n      <td>2010</td>\n      <td>11</td>\n    </tr>\n    <tr>\n      <th>2</th>\n      <td>service</td>\n      <td>Go Forth and Serve</td>\n      <td>robert d hales</td>\n      <td>Of the Quorum of the Twelve Apostles</td>\n      <td>April 27, 2006</td>\n      <td>Beloved Brigham Young University graduates, th...</td>\n      <td>service</td>\n      <td>2569</td>\n      <td>April</td>\n      <td>1900-04-01</td>\n      <td>2006</td>\n      <td>4</td>\n    </tr>\n    <tr>\n      <th>3</th>\n      <td>divine potential</td>\n      <td>The Highest in Us</td>\n      <td>truman g madsen</td>\n      <td>Professor of Philosophy at Brigham Young Unive...</td>\n      <td>March 3, 1974</td>\n      <td>May I begin with an incident from our history ...</td>\n      <td>divine nature,divine potential</td>\n      <td>4606</td>\n      <td>March</td>\n      <td>1900-03-01</td>\n      <td>1974</td>\n      <td>3</td>\n    </tr>\n    <tr>\n      <th>4</th>\n      <td>learning</td>\n      <td>Ever Learning and Ever Improving</td>\n      <td>cecil o samuelson</td>\n      <td>President of Brigham Young University</td>\n      <td>August 14, 2003</td>\n      <td>Brothers, sisters, and friends, it is my great...</td>\n      <td>learning</td>\n      <td>1092</td>\n      <td>August</td>\n      <td>1900-08-01</td>\n      <td>2003</td>\n      <td>8</td>\n    </tr>\n    <tr>\n      <th>5</th>\n      <td>service</td>\n      <td>Learning the Healers Art</td>\n      <td>elaine s marshall</td>\n      <td>Dean of the BYU College of Nursing</td>\n      <td>October 8, 2002</td>\n      <td>This year the Brigham Young University College...</td>\n      <td>compassion,healing,service,podcast: by study a...</td>\n      <td>3582</td>\n      <td>October</td>\n      <td>1900-10-01</td>\n      <td>2002</td>\n      <td>10</td>\n    </tr>\n    <tr>\n      <th>6</th>\n      <td>life</td>\n      <td>Journey of the Soul Anchors of the Heart</td>\n      <td>len b novilla</td>\n      <td>Associate Professor in the Department of Healt...</td>\n      <td>February 1, 2011</td>\n      <td>Brothers and sisters, aloha! Don’t worry. I kn...</td>\n      <td>life,trials,collection: overcoming adversity,p...</td>\n      <td>4192</td>\n      <td>February</td>\n      <td>1900-02-01</td>\n      <td>2011</td>\n      <td>2</td>\n    </tr>\n  </tbody>\n</table>\n</div>"
     },
     "execution_count": 86,
     "metadata": {},
     "output_type": "execute_result"
    }
   ],
   "source": [
    "# Take a peek at the data\n",
    "df.reset_index(inplace = True, drop = True)\n",
    "first_column = df.pop('topic_singular')\n",
    "df.insert(0, 'topic_singular', first_column)\n",
    "df.head(7)"
   ]
  },
  {
   "cell_type": "markdown",
   "metadata": {},
   "source": [
    "Some initial statistical information."
   ]
  },
  {
   "cell_type": "code",
   "execution_count": 87,
   "metadata": {},
   "outputs": [
    {
     "name": "stdout",
     "output_type": "stream",
     "text": [
      "Describe Data\n",
      "         word_count         year  month_number\n",
      "count    654.000000   654.000000    654.000000\n",
      "mean    4068.088685  2000.870031      6.186544\n",
      "std     1501.653363    13.989164      3.265027\n",
      "min       13.000000  1950.000000      1.000000\n",
      "25%     3369.500000  1990.000000      3.000000\n",
      "50%     4133.500000  2004.000000      6.000000\n",
      "75%     4974.500000  2012.000000      9.000000\n",
      "max    10827.000000  2021.000000     12.000000\n",
      "Summarized Data\n",
      "       topic_singular             titles            speaker speaker_position  \\\n",
      "count             654                654                654              654   \n",
      "unique             13                648                398              187   \n",
      "top              life  Go Forth to Serve  cecil o samuelson  Title Not Found   \n",
      "freq               89                  4                 16              187   \n",
      "\n",
      "                  date                                              talks  \\\n",
      "count              654                                                654   \n",
      "unique             600                                                653   \n",
      "top     April 30, 2004  I so greatly appreciated that music. I have ne...   \n",
      "freq                 5                                                  2   \n",
      "\n",
      "       topics   month  \n",
      "count     654     654  \n",
      "unique    501      12  \n",
      "top      life  August  \n",
      "freq       16      89  \n"
     ]
    }
   ],
   "source": [
    "# We want to get some inital statistical information from the dataset.\n",
    "print(\"Describe Data\")\n",
    "print(df.describe())\n",
    "print(\"Summarized Data\")\n",
    "print(df.describe(include=['O']))"
   ]
  },
  {
   "cell_type": "markdown",
   "metadata": {},
   "source": [
    "Based on the statistics, there is a talk that is duplicated.  We will find that talk and remove it from the dataset."
   ]
  },
  {
   "cell_type": "code",
   "execution_count": 88,
   "metadata": {},
   "outputs": [
    {
     "data": {
      "text/plain": "(653, 12)"
     },
     "execution_count": 88,
     "metadata": {},
     "output_type": "execute_result"
    }
   ],
   "source": [
    "df = df[df['speaker'].str.contains('gordon b hinckley_greatest of these love')==False]\n",
    "df.shape\n"
   ]
  },
  {
   "cell_type": "markdown",
   "metadata": {},
   "source": [
    "Initial plots will be created to see if any insights can be gained.  We will plot the following:\n",
    "- talk word counts\n",
    "- year the talk was given\n",
    "- month the talk was given"
   ]
  },
  {
   "cell_type": "code",
   "execution_count": 89,
   "metadata": {},
   "outputs": [
    {
     "data": {
      "text/plain": "<Figure size 1440x720 with 3 Axes>",
      "image/png": "[encoded data removed]"
     },
     "metadata": {
      "needs_background": "light"
     },
     "output_type": "display_data"
    }
   ],
   "source": [
    "import matplotlib.pyplot as plt\n",
    "from matplotlib.dates import DateFormatter\n",
    "# set up the figure size\n",
    "plt.rcParams['figure.figsize'] = (20, 10)\n",
    "\n",
    "# make subplots\n",
    "fig, axes = plt.subplots(nrows = 3, ncols = 1)\n",
    "\n",
    "# Specify the features of interest\n",
    "num_features = ['word_count', 'year', 'month_dt']\n",
    "xaxes = num_features\n",
    "yaxes = ['Counts', 'Counts', 'Counts']\n",
    "\n",
    "# draw histograms\n",
    "axes = axes.ravel()\n",
    "for idx, ax in enumerate(axes):\n",
    "    if idx == 2:\n",
    "        date_form = DateFormatter('%B')\n",
    "        ax.xaxis.set_major_formatter(date_form)\n",
    "        ax.hist(df[num_features[idx]].dropna(), bins=40)\n",
    "        ax.set_xlabel(xaxes[idx], fontsize=20)\n",
    "        ax.set_ylabel(yaxes[idx], fontsize=20)\n",
    "        ax.tick_params(axis='both', labelsize=15)    \n",
    "    else:\n",
    "        ax.hist(df[num_features[idx]].dropna(), bins=40)\n",
    "        ax.set_xlabel(xaxes[idx], fontsize=20)\n",
    "        ax.set_ylabel(yaxes[idx], fontsize=20)\n",
    "        ax.tick_params(axis='both', labelsize=15)\n",
    "\n",
    "plt.show()"
   ]
  },
  {
   "cell_type": "markdown",
   "metadata": {},
   "source": [
    "Based on the plot above, we can make a few observations:  \n",
    "- The overall number of talks increased as time has gone on.\n",
    "- August seems to be a popular month for people to give talks at Brigham Young University (suggesting that it coincides with the beginning of the school year)\n",
    "\n",
    "The next plot will give us count by topic."
   ]
  },
  {
   "cell_type": "code",
   "execution_count": 90,
   "metadata": {},
   "outputs": [
    {
     "data": {
      "text/plain": "<Figure size 1440x720 with 1 Axes>",
      "image/png": "[encoded data removed]"
     },
     "metadata": {
      "needs_background": "light"
     },
     "output_type": "display_data"
    }
   ],
   "source": [
    "plt.rcParams['figure.figsize'] = (20, 10)\n",
    "\n",
    "# make subplots\n",
    "fig, axes = plt.subplots(nrows = 1, ncols = 1)\n",
    "\n",
    "# make the data read to feed into the visulizer\n",
    "X_Topics = df.groupby('topic_singular').size().reset_index(name='Counts')['topic_singular']\n",
    "Y_Topics = df.groupby('topic_singular').size().reset_index(name='Counts')['Counts']\n",
    "# make the bar plot\n",
    "axes.barh(X_Topics, Y_Topics)\n",
    "axes.set_title('Topics', fontsize=25)\n",
    "axes.set_ylabel('Counts', fontsize=20)\n",
    "axes.tick_params(axis='both', labelsize=15)\n",
    "\n",
    "plt.show()\n"
   ]
  },
  {
   "cell_type": "markdown",
   "metadata": {},
   "source": [
    "Observations from the topics bar chart:\n",
    "- Jesus Christ and Life are the most popular topics (of the most popular topics).  \n",
    "- All of the most popular seem to fall in line with a private religious university"
   ]
  },
  {
   "cell_type": "code",
   "execution_count": 91,
   "metadata": {},
   "outputs": [
    {
     "data": {
      "text/plain": "<Figure size 1080x504 with 2 Axes>",
      "image/png": "[encoded data removed]"
     },
     "metadata": {
      "needs_background": "light"
     },
     "output_type": "display_data"
    }
   ],
   "source": [
    "#set up the figure size\n",
    "%matplotlib inline\n",
    "plt.rcParams['figure.figsize'] = (15, 7)\n",
    "\n",
    "# import the package for visulization of the correlation\n",
    "from yellowbrick.features import Rank2D\n",
    "\n",
    "num_features = ['word_count', 'year', 'month_number']\n",
    "\n",
    "# extract the numpy arrays from the data frame\n",
    "X = df[num_features].values\n",
    "\n",
    "# instantiate the visualizer with the Covariance ranking algorithm\n",
    "visualizer = Rank2D(features=num_features, algorithm='pearson')\n",
    "visualizer.fit(X)                # Fit the data to the visualizer\n",
    "visualizer.transform(X)             # Transform the data\n",
    "visualizer.poof(outpath=\"pcoords1.png\") # Draw/show/poof the data\n",
    "plt.show()"
   ]
  },
  {
   "cell_type": "markdown",
   "metadata": {},
   "source": [
    "A few observations from the Pearson Ranking matrix plot:\n",
    "- As the years increase (become more recent to our day), the speakers seem to have more to say (use more words).\n",
    "- The later in the year, the less sermons are given.  Maybe this is due to July being a summer month with not a lot of the student body present on campus, and December has winter break.\n",
    "\n",
    "The next plot will show a bar chart of the most popular topics (Faith, Jesus Christ, Learning, Life, and Service) and what month they were given."
   ]
  },
  {
   "cell_type": "code",
   "execution_count": 92,
   "metadata": {},
   "outputs": [
    {
     "data": {
      "text/plain": "<Figure size 1440x720 with 1 Axes>",
      "image/png": "[encoded data removed]"
     },
     "metadata": {
      "needs_background": "light"
     },
     "output_type": "display_data"
    }
   ],
   "source": [
    "plt.rcParams['figure.figsize'] = (20, 10)\n",
    "\n",
    "# make subplots\n",
    "fig, axes = plt.subplots(nrows = 1, ncols = 1)\n",
    "\n",
    "# make the data read to feed into the visualizer\n",
    "month_number_faith = df[df['topic_singular']=='faith']['month_number'].value_counts()\n",
    "\n",
    "month_number_jc = df[df['topic_singular']=='jesus christ']['month_number'].value_counts()\n",
    "month_number_jc = month_number_jc.reindex(index = month_number_faith.index)\n",
    "\n",
    "month_number_learning = df[df['topic_singular']=='learning']['month_number'].value_counts()\n",
    "month_number_learning = month_number_learning.reindex(index = month_number_faith.index)\n",
    "\n",
    "month_number_life = df[df['topic_singular']=='life']['month_number'].value_counts()\n",
    "month_number_life = month_number_life.reindex(index = month_number_faith.index)\n",
    "\n",
    "month_number_service = df[df['topic_singular']=='service']['month_number'].value_counts()\n",
    "month_number_service = month_number_service.reindex(index = month_number_faith.index)\n",
    "# make the bar plot\n",
    "p1 = axes.bar(month_number_faith.index, month_number_faith.values)\n",
    "p2 = axes.bar(month_number_jc.index, month_number_jc.values, bottom=month_number_faith.values)\n",
    "p3 = axes.bar(month_number_learning.index, month_number_learning.values, bottom=month_number_faith.values)\n",
    "p4 = axes.bar(month_number_life.index, month_number_life.values, bottom=month_number_faith.values)\n",
    "p5 = axes.bar(month_number_service.index, month_number_service.values, bottom=month_number_faith.values)\n",
    "# date_form = DateFormatter('%B')\n",
    "# axes.xaxis.set_major_formatter(date_form)\n",
    "axes.set_title('Month Number', fontsize=25)\n",
    "axes.set_ylabel('Counts', fontsize=20)\n",
    "axes.tick_params(axis='both', labelsize=15)\n",
    "axes.legend((p1[0], p2[0], p3[0], p4[0], p5[0]), ('Faith', 'Jesus Christ', 'Learning', 'Life', 'Service'), fontsize = 15)\n",
    "\n",
    "plt.show()\n"
   ]
  },
  {
   "cell_type": "markdown",
   "metadata": {},
   "source": [
    "The following observations can be made from the chart above:\n",
    "\n",
    "- August is the most popular month for talks, with an overwhelming majority of the learning topics being contained there.\n",
    "- December is a popular month to discuss Jesus Christ (more than likely due to Christmas).\n",
    "- Faith and Service is a common theme no matter the time of year.\n",
    "- Jesus Christ as a topic is popular in March (perhaps due to Easter?).\n",
    "\n",
    "It will be interesting as we continue on with this project how these variables will play into the predictability of the project."
   ]
  },
  {
   "cell_type": "markdown",
   "metadata": {},
   "source": [
    "In Milestone 2, you should drop any features that are not useful for your model building. You should explain and justify why the feature dropped is not useful. You should address any missing data issues. Build any new features that you need for your model, e.g., create dummy variables for categorical features if necessary. Explain your process at each step. You can use any methods/tools you think are most appropriate. Again, keep in mind that this may look very different from what is done in the Titanic tutorial case study. You should do what makes sense for your project. Be careful to avoid data snooping in these steps."
   ]
  },
  {
   "cell_type": "markdown",
   "metadata": {},
   "source": [
    "Build any new features that you need for your model, e.g., create dummy variables for categorical features if necessary.\n",
    "\n",
    "We will now create dummy variables for the categorical designations in the topic_singular column that will be later used for model analysis.  Instead of using a dictionary to assign values to the categories (i.e. adversity = 1, divine potential = 2, etc.), we will use the get_dummies section so that the model will not give more importance to a higher number."
   ]
  },
  {
   "cell_type": "code",
   "execution_count": 93,
   "metadata": {},
   "outputs": [
    {
     "name": "stdout",
     "output_type": "stream",
     "text": [
      "<class 'pandas.core.frame.DataFrame'>\n",
      "Int64Index: 653 entries, 0 to 653\n",
      "Data columns (total 12 columns):\n",
      " #   Column            Non-Null Count  Dtype         \n",
      "---  ------            --------------  -----         \n",
      " 0   topic_singular    653 non-null    object        \n",
      " 1   titles            653 non-null    object        \n",
      " 2   speaker           653 non-null    object        \n",
      " 3   speaker_position  653 non-null    object        \n",
      " 4   date              653 non-null    object        \n",
      " 5   talks             653 non-null    object        \n",
      " 6   topics            653 non-null    object        \n",
      " 7   word_count        653 non-null    int64         \n",
      " 8   month             653 non-null    object        \n",
      " 9   month_dt          653 non-null    datetime64[ns]\n",
      " 10  year              653 non-null    int64         \n",
      " 11  month_number      653 non-null    int64         \n",
      "dtypes: datetime64[ns](1), int64(3), object(8)\n",
      "memory usage: 66.3+ KB\n"
     ]
    }
   ],
   "source": [
    "# Assign the singular topics an number ID for model analysis\n",
    "\n",
    "# df = pd.get_dummies(df, prefix='topic_singular', columns=['topic_singular'])\n",
    "df.head(7)\n",
    "df.info()"
   ]
  },
  {
   "cell_type": "markdown",
   "metadata": {},
   "source": [
    "In Milestone 3, you will begin the process of model selection and evaluation. In addition, write step-by-step instructions for performing the model evaluation and selection part of your case study.\n",
    "\n",
    "In Milestone 3, you should build and evaluate at least one model. You can use any methods/tools you think are most appropriate, but you should explain/justify why you are choosing the model(s) and evaluation metric(s) you choose. It is important to think about what type of model and metric makes sense for the context of your problem. If you are familiar with hyperparameter tuning, this would also be a great addition to your project.\n",
    "\n",
    "Write a short overview/conclusion of the insights gained from your model building/evaluation."
   ]
  },
  {
   "cell_type": "code",
   "execution_count": 94,
   "outputs": [
    {
     "data": {
      "text/plain": "'years ago, while visiting one of our institute buildings, i saw a beautiful painting on the wall. it was of a 16th-century ship with the sails tied to the mast, anchored safely in the harbor. at the bottom of the painting was the inscription “a ship is safe in harbor, but that’s not what ships are for.”the phrase was in my native tongue of portuguese. in that language the verbto behas two translations. one translation is the verbser,and it means something that is fixed or permanent. the other translation isestar,and it is used to describe something that is transitory. for example, for me to state in portuguese, “i am the son of nelson costa,” i would use the verbser,because i am his son and i will continue to be his son forever. it is unchangeable.i am speaking to you now, and in about 20 minutes i will stop. to explain this in portuguese, i would use the verbestar.the verb used in the inscription on the painting wasestar,meaning that the ship, although anchored, was in the harbor temporarily—it would not be there forever. as you know, ships are not built to stay in the harbor. looking at the beautiful painting on the wall of the institute building, i was reminded that ships are meant to navigate the oceans and to experience adventure. i was reminded that it is the same with us.the same principle applies to us. while pondering the meaning of that painting, i thought about lehi and his family. as you remember well, lehi was a very prosperous man. he and his family lived in jerusalem. i think they were very happy there. lehi had some challenges because he was teaching the gospel to people who did not want to accept it, but his family was happy and comfortable with their gold and silver and the precious comforts of their day. in fact, lehi and his family were safe in their harbor. but they left their comfortable home and went to the desert because the lord commanded them to do it, and they did not take everything they owned. when you go on a trip for two weeks, how much luggage do you take? the scripture tells us that lehi “took nothing with him, save it were his family, and provisions, and tents” (1 nephi 2:4).also in the case of lehi and his family, they got a ship because the lord commanded nephi to build a ship for their travel to the promised land (see 1 nephi 17:8).my thoughts then went to alma the father. he was one of the priests to the king; he was in a high social position for his time. he and his family had all of the comforts that people could enjoy in their day. after he listened to abinadi teach the gospel, he believed and became a follower of christ.and now the king said that alma was stirring up the people to rebellion against him; therefore he sent his army to destroy them..\\xa0.\\xa0. alma and the people of the lord .\\xa0.\\xa0. took their tents and their families and departed into the wilderness.[mosiah 18:33–34]i also thought about many other persons in the scriptures and in the history of the church who were very comfortable in their harbors but chose to navigate in unfamiliar oceans—people like alma the younger and amulek, who were persecuted because they followed the spirit and taught the gospel to the people in their day (see alma 9–14).my thoughts also went to ammon, the great missionary of the book of mormon. i thought about when he received his mission call and gave the news to his friends and relatives. do you think they told him he was called to serve a mission among the most wonderful people on the earth? i think that when he announced where he would serve, his friends told him, “don’t go! are you crazy? the lamanites hate us! they will not accept you; in fact, they will try to kill you!”ammon was safe in his home with his family. he lived in comfort, but he decided to leave the harbor and navigate to an extraordinary adventure. you know the result of his mission, the joy that he felt in his soul in all the years that he served as a missionary for the lord. he declared to his son helaman, “the lord doth give me exceedingly great joy in the fruit of my labors” (alma 36:25).the garden of eden was a safe harbor for adam and eve, but they would not have known their full potential if they had remained there (see genesis 3).noah and his family left their safe harbor to live on the ark while it rained for “forty days and forty nights” (genesis 7:12). by the time it was safe for them to leave, they had lived on the ark for one year (see genesis 7:11, 8:13). what do you think that was like? do you even want to imagine exactly how it would be to live for one year with a bull and a cow in your bedroom?i thought about david, a shepherd taking care of his flock. he was a young man—he was not a soldier! he was in a safe harbor of his life, but he left the security of his harbor, and with courage and great faith he accepted the call to fight goliath. and with the strength of the lord, he won. (see 1 samuel 17.)i thought about the early members of the church who sacrificed so much to do what the lord asked them to do. joseph beecroft was among a group of 700 saints who traveled by train from boston to iowa city. they began thejourney in cattle cars, using their luggage for seats..\\xa0.\\xa0. joseph beecroft reflected on how the gospel bonded people from different economic classes. for part of the way he rode next to a wealthy convert named thomas tennant. joseph wrote about him with admiration and awe:“we had among others squire tennant for a carriage passenger. .\\xa0.\\xa0. he had his wife, her mother, and his child. what has mormonism done? such a spectacle was scarcely ever witnessed as to see one who has been so rich [and] so high in life come [to] be huddled together with the poorest of the poor. [to] see how patiently he endures all things is truly wonderful.”before leaving england, thomas tennant paid $25,000 to buy a home that brigham young offered for sale to help replenish the perpetual emigration fund. this purchase provided the greatest single contribution to financing the 1856 emigration. thomas tennant would never see the home, however, as he would die in october near scotts bluff, nebraska.[andrew d. olsen,the price we paid: the extraordinary story of the willie & martin handcart pioneers(salt lake city: deseret book, 2006), 227–28]another example is george careless, who was known as a musical pioneer. he was 11 years old when he joined the church in england in 1850. george had a clear soprano voice and gave up a position in a cathedral choir, including a salary and a free musical education, when he accepted the gospel.in 1859 george began formal studies at the royal academy of music in london. he passed the four-year course of studies in only three years and in 1862 began playing professionally. during the next two years george played under many of the famous conductors then working in london. he also conducted the goswell branch choir and presented concerts for church members and their friends as part of the london conference meetings.\\xa0.\\xa0.\\xa0.one sunday evening early in 1864, elder william staines approached him. “brother george,” he said, “i had a dream about you last night, and was shown that you were advancing so rapidly in your profession that your fame and fortune would be made if you remained in london, and that you would not be able to sacrifice it if you did not immigrate to zion this year.” elder staines then counseled george to sail for utah on the next ship, offering to advance him the money if need be. after laboring with george for half an hour, elder staines said, “you are wanted in zion and i want you to go. what do you say?”“i will go,” said george.[david maxwell, “‘the morning breaks’: george careless, musical pioneer,”ensign,february 1984, 48]george careless went on to serve as the “chief musician of the church” and was director of the tabernacle choir for a time. he is the author of many of our hymns. he sacrificed much and he received great honors in his lifetime; most important, he remained a willing servant of the lord.there are many stories of pioneers who left the safety and security of their homes to come to this beautiful valley. “we had to sell everything at a great sacrifice,” wrote robert crookston. “but we wanted to come to zion and be taught by the prophet of god” (autobiography of robert crookston, archives of the church of jesus christ of latter-day saints, 5; quoted in fred e. woods, “we wanted to come to zion,”ensign,march 2005, 30).one more story is from the life of ida jensen romney, wife of president marion g. romney, who served in the first presidency. her grandparents joined the church in denmark.[my grandfather]left a wet farmland, green with fertility, to come to zion. the missionary told him how wonderful it was to live in zion and that he would be given 40 acres of farmland when he came. he was sent down to levan, utah, to colonize a land that was not nearly as verdant as the land he had left behind. he wanted to get on the first wagon that would take him back to the old country. grandmother insisted that they stay.[ida jensen romney, quoted in maurine jensen ward, “general authorities’ wives: sister ida jensen romney,”new era, june 1975, 18]as i thought about this subject and the painting of the ship in the harbor, my thoughts took me back many years ago when i heard for the first time the story of jonathan napela, who joined the church in 1851 after being taught the gospel by the young missionary elder george q. cannon. they became good friends, much like alma and amulek. jonathan napela (also jonathon and jonatana) was a judge and a brave pioneer for the church in the islands of hawaii. he helped elder cannon translate the book of mormon into the hawaiian language. he organized a school to instruct the missionaries from utah. he also served as a missionary. he was a good man, and he was married to a beautiful woman. in 1873 tragedy struck when jonathan’s beloved wife, kitty, contracted leprosy. it was the custom of that time for persons with this terrible disease to be sent to live in confinement on another island. we can only imagine the intense suffering and degrading circumstances that had to be endured. jonathan napela chose to leave his safe harbor and move with his sweet wife to the leper colony. he loved her so much and could not leave her alone in that dreaded place. jonathan napela also contracted leprosy, but even in his own suffering he continued to serve the temporal and spiritual interests of his people in the leper colony. he died in 1879, two years before his sweet and eternal wife. (see joseph h. spurrier, “jonathon napela: quiet hero of hawaii,”ensign, august 1978, 49–51.)i thought about my wife at the time we were married. she was safe and comfortable in the harbor of her family. as a single woman, she lived with her parents and had a high position in her profession. she was making good money. she left the security of her harbor and married me. she came to live with me in very humble conditions. we had a small studio apartment. this will help you understand just how small it was: when the sun shone in our window in the morning, we had to leave the apartment to make room for the sunbeams to enter. there was not room for both the sunbeams and us in our small home. but we were happy and blessed; we found a new harbor for ourselves.i thought about the great adventures of our mortal lives when we decided to have a family. each time one of our four children came into the world, it was like leaving the harbor and navigating the oceans in a new and marvelous adventure. bringing children into the world brought more responsibility to us, and it also brought great joy.i testify to you that every time we left the security of our harbors, it has brought more happiness to our lives. it has been much better than being anchored in the harbor with no progress, where we could not experience the color and excitement that has been present in our lives.even when turbulence caused by the storms of life naturally comes our way in this mortal existence, we can be led by the lighthouse of the gospel and by our testimonies of our savior jesus christ.i am also reminded, by the most tender feelings of my heart, of our savior and redeemer, who left the comfort of being at the right hand of his father to give his life as an atoning sacrifice for all mankind. all that he did in this life he did because he loves us and to set the example for us. he had committed no sins but went to john the baptist to be baptized “to fulfil all righteousness” (matthew 3:15).he stood against the temptations of satan and admonished, “thou shalt worship the lord thy god, and him only shalt thou serve” (matthew 4:10).our savior knew at all times what it was like to leave the safe harbor: “the foxes have holes, and the birds of the air have nests; but the son of man hath not where to lay his head” (matthew 8:20). he taught us to have perfect faith: “take no thought, saying, what shall we eat? or, what shall we drink? or, wherewithal shall we be clothed? .\\xa0.\\xa0. but seek ye first the kingdom of god, and his righteousness; and all these things shall be added unto you” (matthew 6:31–33).when jesus was in gethsemane, he “began to be sore amazed, and to be very heavy” (mark 14:33). jesus was feeling the weight of sin and the injustices of mortality. he prayed, “abba, father, all things are possible unto thee; take away this cup from me: nevertheless not what i will, but what thou wilt” (mark 14:36).it would have been easier to not experience the agony of gethsemane, but jesus chose to do the will of his father. he chose to carry out his assignment because of his love for his father and for us. just as we might prefer to not suffer, jesus prayed, “take away this cup from me,” and again he set the example for us in our suffering: “and being in an agony he prayed more earnestly” (luke 22:44).in every way christ set the example for how to live, how to serve, and how to find the answers we need to meet the daily challenges and decisions of life.when i received the assignment to speak to you today, in the spirit of prayer i received a strong feeling that i should tell you that brigham young university is a marvelous and safe harbor. you are anchored here now, you have the comfort and security that you need in this brief moment of your life. but you, like the ship, were not made to be here in the harbor of brigham young university forever. you do not need to extend your years at byu forever. you need to choose your career and, just like the ships, go to the open sea and navigate the oceans.many of you will leave byu alone, others with a spouse and children, and others will leave for your wonderful ocean of a full-time mission. i know that when you make the decision about your future, the lord will show you in which oceans you need to navigate. don’t be afraid to leave for the open sea. don’t be afraid to confront the waves of your future, the storms of professional challenges. use your time in the harbor of byu to prepare to the best of your ability for your career and the challenges of having a spouse and family.abraham took isaac on that long walk to the altar believing it would be his last moments with his beloved son. the lord had commanded abraham, “take now thy son, thine only son isaac, whom thou lovest, .\\xa0.\\xa0. and offer him .\\xa0.\\xa0. for a burnt offering” (genesis 22:2). i am sure this was not a safe harbor for abraham. but he was obedient to god’s commandments. president hugh b. brown said that god commanded abraham to sacrifice isaac because “abraham needed to learn something about abraham” (in truman g. madsen,the highest in us[salt lake city: bookcraft, 1978], 49).of course this is the lesson for all of us: to grow in faith and obedience so that we will have the confidence to do what the lord asks us to do. we have the examples from the scriptures and church history of people who had faith to leave their safe harbors and accomplish great things. we have the capacity to follow their example.i promise you that if you have faith in god, you will have the lighthouse of the gospel to help you and to bless your life. god will be with you. you are part of the most marvelous generation that has lived on the earth, and you are a great hope for the world. your example and testimony will touch the lives of all you meet in the great adventure of your mortal life. looking into your faces, how can i not believe in a bright future?remember what you see every day when you come to this beautiful campus: “enter to learn; go forth to serve.” i know that is what our father in heaven hopes for you to do.i have a strong testimony of this church. i am a convert. i prayed for 14 hours, and the lord gave me the knowledge that joseph smith is the prophet of the lord. i know that he saw in that beautiful morning in the sacred grove god the father and jesus christ and they spoke with him. i know that jesus is the christ. he is our savior and redeemer. i testify to you that he gave his precious life for you and for me and for all mankind. i testify to you that thomas s. monson is the living prophet of god today and that the book of mormon is the most perfect book and can guide us back to the presence of god. i testify to you that you have a bright future and say to you that the first presidency and the quorum of the twelve apostles are prophets, seers, and revelators. and all of them and all of us general authorities pray for you constantly. we love you, we respect you, and we honor you. in the name of jesus christ, amen.© intellectual reserve, inc. all rights reserved.'"
     },
     "execution_count": 94,
     "metadata": {},
     "output_type": "execute_result"
    }
   ],
   "source": [
    "# Lower case, remove stop words, and stem the talk text\n",
    "\n",
    "df['talks_lowered'] = df['talks'].apply(lambda x: x.lower())\n",
    "df['talks_lowered'][1]"
   ],
   "metadata": {
    "collapsed": false,
    "pycharm": {
     "name": "#%%\n"
    }
   }
  },
  {
   "cell_type": "markdown",
   "metadata": {},
   "source": [
    "Prior to model selection, we will tokenize our talks with sentences, words, and part-of-speech tagging."
   ]
  },
  {
   "cell_type": "code",
   "execution_count": 95,
   "metadata": {},
   "outputs": [],
   "source": [
    "# tokenization of the speeches into sentences.\n",
    "from nltk.tokenize import sent_tokenize\n",
    "\n",
    "df['sentence_tokenize'] = df['talks'].apply(lambda x: sent_tokenize(x))"
   ]
  },
  {
   "cell_type": "code",
   "execution_count": 96,
   "metadata": {},
   "outputs": [],
   "source": [
    "# tokenization of the speeches into words\n",
    "from nltk.tokenize import word_tokenize\n",
    "df['word_tokenize'] = df['talks'].apply(lambda x: word_tokenize(x))"
   ]
  },
  {
   "cell_type": "code",
   "execution_count": null,
   "outputs": [],
   "source": [
    "import nltk\n",
    "# nltk.download('stopwords')\n",
    "from nltk.corpus import stopwords\n",
    "from nltk.stem.porter import PorterStemmer\n",
    "stemmer = PorterStemmer()\n",
    "data = []\n",
    "\n",
    "for i in range(df.shape[0]):\n",
    "    text = df.iloc[i,5]\n",
    "    talk_processed_list = []\n",
    "    for word in text:\n",
    "        if word not in set(stopwords.words('english')):\n",
    "            talk_processed_list.append(stemmer.stem(word))\n",
    "    proc_talk = \" \".join(talk_processed_list)\n",
    "    data.append(proc_talk)\n",
    "\n",
    "print(data[1], len(data))"
   ],
   "metadata": {
    "collapsed": false,
    "pycharm": {
     "name": "#%%\n",
     "is_executing": true
    }
   }
  },
  {
   "cell_type": "code",
   "execution_count": null,
   "metadata": {},
   "outputs": [],
   "source": [
    "# pos \n",
    "import nltk\n",
    "# nltk.download('averaged_perceptron_tagger')\n",
    "\n",
    "df['word_pos'] = df['word_tokenize'].apply(lambda x: nltk.pos_tag(x))"
   ]
  },
  {
   "cell_type": "markdown",
   "metadata": {},
   "source": [
    "From this point, there are a couple of things that I need to do:\n",
    "- Look at the image that you saw this morning regarding which model to try.  Explain why you are using this model by showing how you followed the flow diagram to get to the chosen model.\n",
    "- Look up a website that walks through the process of a text classification model and mimic it.\n",
    "- Once these things are working, I will need to re-run the notebook to eliminate one of the charting errors up top.\n",
    "- Hopefully if all runs well, I can talk about the accuracy, precision, F1, and other parameters on the project."
   ]
  },
  {
   "cell_type": "code",
   "execution_count": null,
   "metadata": {},
   "outputs": [],
   "source": [
    "# from CharlesRajendran TextClassification github\n",
    "# https://github.com/CharlesRajendran/TextClassification/blob/master/classifier.py\n",
    "\n",
    "# creating the feature matrix\n",
    "from sklearn.feature_extraction.text import CountVectorizer\n",
    "matrix = CountVectorizer(max_features=1000)\n",
    "X = matrix.fit_transform(data).toarray()\n",
    "y = df.iloc[:, 0]\n",
    "print(X.shape, y)"
   ]
  },
  {
   "cell_type": "code",
   "execution_count": null,
   "outputs": [],
   "source": [
    "# split train and test data\n",
    "from sklearn.model_selection import train_test_split\n",
    "X_train, X_test, y_train, y_test = train_test_split(X,y)"
   ],
   "metadata": {
    "collapsed": false,
    "pycharm": {
     "name": "#%%\n"
    }
   }
  },
  {
   "cell_type": "code",
   "execution_count": null,
   "outputs": [],
   "source": [
    "# Naive Bayes\n",
    "from sklearn.naive_bayes import GaussianNB\n",
    "classifier = GaussianNB()\n",
    "classifier.fit(X_train, y_train)"
   ],
   "metadata": {
    "collapsed": false,
    "pycharm": {
     "name": "#%%\n"
    }
   }
  },
  {
   "cell_type": "code",
   "execution_count": null,
   "outputs": [],
   "source": [
    "# predict class\n",
    "\n",
    "y_pred = classifier.predict(X_test)"
   ],
   "metadata": {
    "collapsed": false,
    "pycharm": {
     "name": "#%%\n"
    }
   }
  },
  {
   "cell_type": "code",
   "execution_count": null,
   "outputs": [],
   "source": [
    "# Confusion matrix\n",
    "from sklearn.metrics import confusion_matrix, classification_report, accuracy_score\n",
    "cm = confusion_matrix(y_test, y_pred)\n",
    "cr = classification_report(y_test, y_pred)\n",
    "accuracy = accuracy_score(y_test, y_pred)\n",
    "\n",
    "print(cm)\n",
    "print()\n",
    "print(cr)\n",
    "print()\n",
    "print(accuracy)"
   ],
   "metadata": {
    "collapsed": false,
    "pycharm": {
     "name": "#%%\n"
    }
   }
  }
 ],
 "metadata": {
  "interpreter": {
   "hash": "bf60427b139290154779a7e38fd0f127f78e5a9dfc17b4a4bd1d849158c5fa70"
  },
  "kernelspec": {
   "name": "python3",
   "language": "python",
   "display_name": "Python 3"
  },
  "language_info": {
   "codemirror_mode": {
    "name": "ipython",
    "version": 3
   },
   "file_extension": ".py",
   "mimetype": "text/x-python",
   "name": "python",
   "nbconvert_exporter": "python",
   "pygments_lexer": "ipython3",
   "version": "3.7.6"
  },
  "orig_nbformat": 4
 },
 "nbformat": 4,
 "nbformat_minor": 2
}