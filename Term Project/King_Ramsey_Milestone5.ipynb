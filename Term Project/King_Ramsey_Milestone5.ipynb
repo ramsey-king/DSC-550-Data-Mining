{
 "cells": [
  {
   "cell_type": "markdown",
   "metadata": {},
   "source": [
    "# Ramsey King\n",
    "# DSC 550 - Data Mining\n",
    "# November 20, 2021\n",
    "# Term Project Milestone 5"
   ]
  },
  {
   "cell_type": "markdown",
   "metadata": {},
   "source": [
    "### My term project will consist of being able to guess the main topic of sermons given by members of The Church of Jesus Christ of Latter Day Saints as defined by the designated topic assigned to it at speeches.byu.edu.  The ability to search for sermons by topic on this website is available.  While this specific case is not a business use case of data mining, there are many business use cases for being able to identify text by topic or keyword (i.e. www.google.com).  \n",
    "### For purposes of this assignment, being able to quickly find topic related sermons is beneficial to members of the Church of Jesus Christ.  On occasion, members of the church are asked to give a sermon of their own on various topics, and having the ability to go to a resource and search the assigned topic by keyword helps to generate discussion points and give guidance as to what is appropriate to discuss.  For this project, we will limit the topics as defined by speeches.byu.edu. to give us an initial dataset of 800 rows before processing.  The topics and the count of the number of sermons given (as of October 4th, 2021) are: Life (108), Jesus Christ (106), Faith (100), Learning (97), and Service (73).  This should provide enough data to work with but if there is a need, additional topics will be included to help with the corpus.  "
   ]
  },
  {
   "cell_type": "code",
   "execution_count": 40,
   "metadata": {},
   "outputs": [],
   "source": [
    "# Retrieve talks from topics page using BeautifulSoup\n",
    "\n",
    "from bs4 import BeautifulSoup as bs\n",
    "import requests\n",
    "# import numpy as np\n",
    "import pandas as pd\n",
    "import matplotlib.pyplot as plt\n",
    "import re\n",
    "%matplotlib inline"
   ]
  },
  {
   "cell_type": "markdown",
   "metadata": {},
   "source": [
    "Now that we have BeautifulSoup imported, we will gather the links on the speeches.byu.edu website based on the topics listed above (Faith, Learning, Service, etc.).  "
   ]
  },
  {
   "cell_type": "code",
   "execution_count": 41,
   "metadata": {},
   "outputs": [],
   "source": [
    "# Get list of urls for each of the topics\n",
    "\n",
    "url = \"https://speeches.byu.edu/topics/\"\n",
    "\n",
    "url_list = [\n",
    "    'life/', 'jesus-christ/', 'faith/', 'learning/', 'service/'\n",
    "]\n",
    "\n",
    "links = []\n",
    "new_links = []\n",
    "# some of the links are repeated with '?M=V' and '?M=A' and those will be removed so we can have a unique set of links to pull talk information from.\n",
    "for u in url_list:\n",
    "\n",
    "    response = requests.get(url+u)\n",
    "    html = response.content\n",
    "    video = '?M=V'\n",
    "    soup = bs(html, \"lxml\")\n",
    "    for link in soup.findAll(\"a\", attrs={'href': re.compile(\"^https://speeches.byu.edu/talks/[\\D+]\")}):\n",
    "        links.append(link.get('href').replace(video, ''))\n",
    "\n",
    "    audio = '?M=A'\n",
    "    for link in links:\n",
    "        new_link = link.replace(audio, '')\n",
    "        new_links.append(new_link)\n",
    "    new_links = list(set(new_links))\n",
    "\n"
   ]
  },
  {
   "cell_type": "markdown",
   "metadata": {},
   "source": [
    "Now that the links have been gathered into a list, we will use this list to retrieve the individual sermon/talk/speech text from the respective link.  On a specific speech page, the following information will be gathered:\n",
    " - Speaker name\n",
    " - Talk title\n",
    " - Assigned topic\n",
    " - Date when the talk was given\n",
    " - The speaker's title (if they have a certain position within The Church of Jesus Christ of Latter Day Saints, Brigham Young University, etc.  If there is no position or title listed for the speaker, we will return 'Title Not Found')\n",
    " - The talk text\n",
    "\n",
    " This information will be combined into a dataframe for analysis.  This information will also be combined into a csv file in case work needs to be completed offline."
   ]
  },
  {
   "cell_type": "code",
   "execution_count": 42,
   "metadata": {},
   "outputs": [],
   "source": [
    "'''Retrieves talk text from each of the urls using beautiful soup.  Information such as the talk/sermon text, title, topic, date, and speaker will be retreived\n",
    "and put into a dataframe.  A csv file will also be saved due to the time it takes to run or in case we need to work offline.'''\n",
    "talk_text = []\n",
    "title_text = []\n",
    "topics = []\n",
    "dates = []\n",
    "speakers = []\n",
    "speaker_position = []\n",
    "\n",
    "for link in new_links:\n",
    "    url = link\n",
    "    response = requests.get(url)\n",
    "    html = response.content\n",
    "    soup = bs(html, 'lxml')\n",
    "    temp_list = []\n",
    "\n",
    "    link_splitter = link.split('/')\n",
    "    speakers.append(link_splitter[4].replace('-', ' '))\n",
    "\n",
    "    result = soup.find('p', class_='single-speech__speaker-subtext single-speech__speaker-position')\n",
    "    speaker_position.append(result.text if result else 'Title Not Found')\n",
    "\n",
    "    for div in soup.find_all('div', class_='single-speech__content'):\n",
    "        talk_text.append(div.get_text(strip=True))\n",
    "    for h1 in soup.find_all('h1', class_='single-speech__title'):\n",
    "        title_text.append(h1.get_text(strip=True))        \n",
    "    for p in soup.find_all('p', class_='single-speech__speaker-subtext single-speech__date'):\n",
    "        dates.append(p.get_text(strip=True))\n",
    "    for p in soup.find_all('p', class_='single-speech__related-tag'):\n",
    "        temp_list.append(p.get_text(strip=True))\n",
    "        temp_str = ','.join(temp_list)\n",
    "    topics.append(temp_str)\n",
    "\n",
    "\n",
    "dict = {'titles': title_text , 'speaker': speakers, 'speaker_position': speaker_position , 'date': dates, 'talks': talk_text, 'topics': topics, }\n",
    "df = pd.DataFrame(dict)\n",
    "df.to_csv('talks.csv')"
   ]
  },
  {
   "cell_type": "markdown",
   "metadata": {},
   "source": [
    "Now that the talk information has been combined into a dataframe, we can begin pre-processing and gathering initial statistical information.  To begin, we will get the word count of each talk and place it in one of our columns."
   ]
  },
  {
   "cell_type": "code",
   "execution_count": 43,
   "metadata": {},
   "outputs": [],
   "source": [
    "# get word count of each talk\n",
    "df['word_count'] = df['talks'].apply(lambda x: len(re.findall(r'\\w+', x)))"
   ]
  },
  {
   "cell_type": "markdown",
   "metadata": {},
   "source": [
    "Some talks have multiple topic associated with them on their webpage where the talk text was retrieved.  For purposes of this exercise (and project), we will take the first topic that is listed on the page and that will be our defining topic that will be used for analysis and modeling.  We will also create time columns (Month, Year, and month as an integer) to see if insights can be gained from them. "
   ]
  },
  {
   "cell_type": "code",
   "execution_count": 44,
   "metadata": {},
   "outputs": [
    {
     "data": {
      "text/plain": [
       "(458, 12)"
      ]
     },
     "execution_count": 44,
     "metadata": {},
     "output_type": "execute_result"
    }
   ],
   "source": [
    "# reduce the topic to the ones selected from our original selection ('life', 'jesus-christ', 'faith', 'learning', 'service')\n",
    "from datetime import datetime\n",
    "# the single_topic function takes the list of topics in the 'topics' column and will return the first topic it finds in the 'topic_selection_list'\n",
    "def single_topic(dataframe_topics):\n",
    "    column = [word for word in dataframe_topics.split(',')]\n",
    "    the_string =  ', '.join([val for ind, val in enumerate(topic_selection_list) if val in column])\n",
    "    return the_string.split(',')[0]\n",
    "\n",
    "# removes the '/' from the url list and '-' from topics containing dashes such as 'jesus-christ'\n",
    "topic_selection_list = [x[:-1].replace('-', ' ') for x in url_list]\n",
    "df['topics'] = df['topics'].apply(lambda x: x.lower())\n",
    "df['topic_singular'] = df['topics'].apply(single_topic)\n",
    "\n",
    "# remove quotations (\"\") and all other punctuation from titles\n",
    "df['titles'] = df['titles'].apply(lambda x: re.sub(r'[^\\w\\s]', '', x))\n",
    "\n",
    "# create separate month and year column and create a number column representing the month \n",
    "df['month'] = df['date'].apply(lambda x: x.split(' ')[0])\n",
    "# df['month_dt'] = df['month'].apply(lambda x: datetime.strptime(x, '%B'))\n",
    "df['month_dt'] = pd.to_datetime(df['month'], format='%B')\n",
    "df['year'] = df['date'].apply(lambda x: x.split(' ')[2]).astype(int)\n",
    "\n",
    "def month_to_int(month_string):\n",
    "    month_dictionary = {\n",
    "        'January': 1,\n",
    "        'February': 2,\n",
    "        'March': 3,\n",
    "        'April': 4,\n",
    "        'May': 5,\n",
    "        'June': 6,\n",
    "        'July': 7,\n",
    "        'August': 8,\n",
    "        'September': 9,\n",
    "        'October': 10,\n",
    "        'November': 11,\n",
    "        'December': 12\n",
    "    }\n",
    "\n",
    "    return month_dictionary.get(month_string)\n",
    "    \n",
    "df['month_number'] = df['month'].apply(month_to_int)\n",
    "\n",
    "# get the dimensions of the dataset\n",
    "df.shape\n"
   ]
  },
  {
   "cell_type": "markdown",
   "metadata": {},
   "source": [
    "Some of the webpages that data was scraped from did not have the talk text on the page.  Those will be removed from our dataframe."
   ]
  },
  {
   "cell_type": "code",
   "execution_count": 45,
   "metadata": {},
   "outputs": [
    {
     "name": "stdout",
     "output_type": "stream",
     "text": [
      "(458, 12)\n"
     ]
    },
    {
     "data": {
      "text/plain": [
       "(379, 12)"
      ]
     },
     "execution_count": 45,
     "metadata": {},
     "output_type": "execute_result"
    }
   ],
   "source": [
    "# Remove the talks that do not contain any data.\n",
    "print(df.shape)\n",
    "df = df[df['talks'].str.contains('for this speech is unavailable')==False]\n",
    "df.shape"
   ]
  },
  {
   "cell_type": "markdown",
   "metadata": {},
   "source": [
    "At this time, we have an initial dataframe of information that we begin doing some statistical analysis on.  We will take a look at the dataframe."
   ]
  },
  {
   "cell_type": "code",
   "execution_count": 46,
   "metadata": {},
   "outputs": [
    {
     "data": {
      "text/html": [
       "<div>\n",
       "<style scoped>\n",
       "    .dataframe tbody tr th:only-of-type {\n",
       "        vertical-align: middle;\n",
       "    }\n",
       "\n",
       "    .dataframe tbody tr th {\n",
       "        vertical-align: top;\n",
       "    }\n",
       "\n",
       "    .dataframe thead th {\n",
       "        text-align: right;\n",
       "    }\n",
       "</style>\n",
       "<table border=\"1\" class=\"dataframe\">\n",
       "  <thead>\n",
       "    <tr style=\"text-align: right;\">\n",
       "      <th></th>\n",
       "      <th>topic_singular</th>\n",
       "      <th>titles</th>\n",
       "      <th>speaker</th>\n",
       "      <th>speaker_position</th>\n",
       "      <th>date</th>\n",
       "      <th>talks</th>\n",
       "      <th>topics</th>\n",
       "      <th>word_count</th>\n",
       "      <th>month</th>\n",
       "      <th>month_dt</th>\n",
       "      <th>year</th>\n",
       "      <th>month_number</th>\n",
       "    </tr>\n",
       "  </thead>\n",
       "  <tbody>\n",
       "    <tr>\n",
       "      <th>0</th>\n",
       "      <td>service</td>\n",
       "      <td>Living a Life of Service and Love What Goes Ar...</td>\n",
       "      <td>kirt r saville</td>\n",
       "      <td>Director, School of Music</td>\n",
       "      <td>August 1, 2017</td>\n",
       "      <td>I would like to begin my remarks today by payi...</td>\n",
       "      <td>love,service</td>\n",
       "      <td>4589</td>\n",
       "      <td>August</td>\n",
       "      <td>1900-08-01</td>\n",
       "      <td>2017</td>\n",
       "      <td>8</td>\n",
       "    </tr>\n",
       "    <tr>\n",
       "      <th>1</th>\n",
       "      <td>jesus christ</td>\n",
       "      <td>In the Strength of the Lord</td>\n",
       "      <td>david a bednar</td>\n",
       "      <td>President of Brigham Young University–Idaho</td>\n",
       "      <td>October 23, 2001</td>\n",
       "      <td>Good morning, brothers and sisters. It is for ...</td>\n",
       "      <td>atonement,grace,jesus christ,natural man,stren...</td>\n",
       "      <td>4718</td>\n",
       "      <td>October</td>\n",
       "      <td>1900-10-01</td>\n",
       "      <td>2001</td>\n",
       "      <td>10</td>\n",
       "    </tr>\n",
       "    <tr>\n",
       "      <th>2</th>\n",
       "      <td>life</td>\n",
       "      <td>Everything We Need</td>\n",
       "      <td>michael t ringwood</td>\n",
       "      <td>General Authority Seventy</td>\n",
       "      <td>January 14, 2020</td>\n",
       "      <td>I am honored to be with you today. Thank you f...</td>\n",
       "      <td>god,happiness,life,collection: overcoming adve...</td>\n",
       "      <td>3780</td>\n",
       "      <td>January</td>\n",
       "      <td>1900-01-01</td>\n",
       "      <td>2020</td>\n",
       "      <td>1</td>\n",
       "    </tr>\n",
       "    <tr>\n",
       "      <th>3</th>\n",
       "      <td>learning</td>\n",
       "      <td>The University and the Kingdom of God</td>\n",
       "      <td>j spencer fluhman</td>\n",
       "      <td>Executive Director of Neal A. Maxwell Institute</td>\n",
       "      <td>July 30, 2019</td>\n",
       "      <td>Friends, this morning I offer a love story. It...</td>\n",
       "      <td>byu,learning,spiritual growth</td>\n",
       "      <td>3654</td>\n",
       "      <td>July</td>\n",
       "      <td>1900-07-01</td>\n",
       "      <td>2019</td>\n",
       "      <td>7</td>\n",
       "    </tr>\n",
       "    <tr>\n",
       "      <th>4</th>\n",
       "      <td>jesus christ</td>\n",
       "      <td>The Lords Pattern</td>\n",
       "      <td>kim b clark</td>\n",
       "      <td>Commissioner of Education and General Authorit...</td>\n",
       "      <td>August 22, 2016</td>\n",
       "      <td>I count it a great blessing and a privilege to...</td>\n",
       "      <td>byu,church growth,discipleship,education,jesus...</td>\n",
       "      <td>3838</td>\n",
       "      <td>August</td>\n",
       "      <td>1900-08-01</td>\n",
       "      <td>2016</td>\n",
       "      <td>8</td>\n",
       "    </tr>\n",
       "    <tr>\n",
       "      <th>5</th>\n",
       "      <td>learning</td>\n",
       "      <td>The Proper Equipment</td>\n",
       "      <td>rex e lee</td>\n",
       "      <td>United States Solicitor General</td>\n",
       "      <td>April 23, 1982</td>\n",
       "      <td>I am tempted to use this unique occasion to ad...</td>\n",
       "      <td>learning,truth</td>\n",
       "      <td>2820</td>\n",
       "      <td>April</td>\n",
       "      <td>1900-04-01</td>\n",
       "      <td>1982</td>\n",
       "      <td>4</td>\n",
       "    </tr>\n",
       "    <tr>\n",
       "      <th>6</th>\n",
       "      <td>service</td>\n",
       "      <td>Enter to Learn Go Forth to Serve</td>\n",
       "      <td>a elaine bond</td>\n",
       "      <td>Title Not Found</td>\n",
       "      <td>July 1, 2003</td>\n",
       "      <td>Thank you for that wonderful music. The messag...</td>\n",
       "      <td>service</td>\n",
       "      <td>3804</td>\n",
       "      <td>July</td>\n",
       "      <td>1900-07-01</td>\n",
       "      <td>2003</td>\n",
       "      <td>7</td>\n",
       "    </tr>\n",
       "  </tbody>\n",
       "</table>\n",
       "</div>"
      ],
      "text/plain": [
       "  topic_singular                                             titles  \\\n",
       "0        service  Living a Life of Service and Love What Goes Ar...   \n",
       "1   jesus christ                        In the Strength of the Lord   \n",
       "2           life                                 Everything We Need   \n",
       "3       learning              The University and the Kingdom of God   \n",
       "4   jesus christ                                  The Lords Pattern   \n",
       "5       learning                               The Proper Equipment   \n",
       "6        service                   Enter to Learn Go Forth to Serve   \n",
       "\n",
       "              speaker                                   speaker_position  \\\n",
       "0      kirt r saville                          Director, School of Music   \n",
       "1      david a bednar        President of Brigham Young University–Idaho   \n",
       "2  michael t ringwood                          General Authority Seventy   \n",
       "3   j spencer fluhman    Executive Director of Neal A. Maxwell Institute   \n",
       "4         kim b clark  Commissioner of Education and General Authorit...   \n",
       "5           rex e lee                    United States Solicitor General   \n",
       "6       a elaine bond                                    Title Not Found   \n",
       "\n",
       "               date                                              talks  \\\n",
       "0    August 1, 2017  I would like to begin my remarks today by payi...   \n",
       "1  October 23, 2001  Good morning, brothers and sisters. It is for ...   \n",
       "2  January 14, 2020  I am honored to be with you today. Thank you f...   \n",
       "3     July 30, 2019  Friends, this morning I offer a love story. It...   \n",
       "4   August 22, 2016  I count it a great blessing and a privilege to...   \n",
       "5    April 23, 1982  I am tempted to use this unique occasion to ad...   \n",
       "6      July 1, 2003  Thank you for that wonderful music. The messag...   \n",
       "\n",
       "                                              topics  word_count    month  \\\n",
       "0                                       love,service        4589   August   \n",
       "1  atonement,grace,jesus christ,natural man,stren...        4718  October   \n",
       "2  god,happiness,life,collection: overcoming adve...        3780  January   \n",
       "3                      byu,learning,spiritual growth        3654     July   \n",
       "4  byu,church growth,discipleship,education,jesus...        3838   August   \n",
       "5                                     learning,truth        2820    April   \n",
       "6                                            service        3804     July   \n",
       "\n",
       "    month_dt  year  month_number  \n",
       "0 1900-08-01  2017             8  \n",
       "1 1900-10-01  2001            10  \n",
       "2 1900-01-01  2020             1  \n",
       "3 1900-07-01  2019             7  \n",
       "4 1900-08-01  2016             8  \n",
       "5 1900-04-01  1982             4  \n",
       "6 1900-07-01  2003             7  "
      ]
     },
     "execution_count": 46,
     "metadata": {},
     "output_type": "execute_result"
    }
   ],
   "source": [
    "# Take a peek at the data\n",
    "df.reset_index(inplace = True, drop = True)\n",
    "first_column = df.pop('topic_singular')\n",
    "df.insert(0, 'topic_singular', first_column)\n",
    "df.head(7)"
   ]
  },
  {
   "cell_type": "markdown",
   "metadata": {},
   "source": [
    "Some initial statistical information."
   ]
  },
  {
   "cell_type": "code",
   "execution_count": 47,
   "metadata": {},
   "outputs": [
    {
     "name": "stdout",
     "output_type": "stream",
     "text": [
      "Describe Data\n",
      "        word_count         year  month_number\n",
      "count   379.000000   379.000000    379.000000\n",
      "mean   3935.548813  2002.815303      6.300792\n",
      "std    1535.732421    12.862837      3.212784\n",
      "min     317.000000  1968.000000      1.000000\n",
      "25%    3216.000000  1994.000000      3.000000\n",
      "50%    4060.000000  2005.000000      6.000000\n",
      "75%    4850.500000  2013.000000      9.000000\n",
      "max    8284.000000  2021.000000     12.000000\n",
      "Summarized Data\n",
      "       topic_singular             titles            speaker speaker_position  \\\n",
      "count             379                379                379              379   \n",
      "unique              5                376                267              129   \n",
      "top              life  Go Forth to Serve  cecil o samuelson  Title Not Found   \n",
      "freq               89                  3                 13              108   \n",
      "\n",
      "                   date                                              talks  \\\n",
      "count               379                                                379   \n",
      "unique              350                                                379   \n",
      "top     August 14, 2003  In a Facetious Little Essay entitled “On Trans...   \n",
      "freq                  4                                                  1   \n",
      "\n",
      "       topics   month  \n",
      "count     379     379  \n",
      "unique    286      12  \n",
      "top      life  August  \n",
      "freq       16      59  \n"
     ]
    }
   ],
   "source": [
    "# We want to get some inital statistical information from the dataset.\n",
    "print(\"Describe Data\")\n",
    "print(df.describe())\n",
    "print(\"Summarized Data\")\n",
    "print(df.describe(include=['O']))"
   ]
  },
  {
   "cell_type": "markdown",
   "metadata": {},
   "source": [
    "Based on the statistics, there is a talk that is duplicated.  We will find that talk and remove it from the dataset."
   ]
  },
  {
   "cell_type": "code",
   "execution_count": 48,
   "metadata": {},
   "outputs": [
    {
     "data": {
      "text/plain": [
       "(379, 12)"
      ]
     },
     "execution_count": 48,
     "metadata": {},
     "output_type": "execute_result"
    }
   ],
   "source": [
    "df = df[df['speaker'].str.contains('gordon b hinckley_greatest of these love')==False]\n",
    "df.shape\n"
   ]
  },
  {
   "cell_type": "markdown",
   "metadata": {},
   "source": [
    "Initial plots will be created to see if any insights can be gained.  We will plot the following:\n",
    "- talk word counts\n",
    "- year the talk was given\n",
    "- month the talk was given"
   ]
  },
  {
   "cell_type": "code",
   "execution_count": 49,
   "metadata": {},
   "outputs": [
    {
     "data": {
      "image/png": "[encoded data removed]",
      "text/plain": [
       "<Figure size 1440x720 with 3 Axes>"
      ]
     },
     "metadata": {
      "needs_background": "light"
     },
     "output_type": "display_data"
    }
   ],
   "source": [
    "import matplotlib.pyplot as plt\n",
    "from matplotlib.dates import DateFormatter\n",
    "# set up the figure size\n",
    "plt.rcParams['figure.figsize'] = (20, 10)\n",
    "\n",
    "# make subplots\n",
    "fig, axes = plt.subplots(nrows = 3, ncols = 1)\n",
    "\n",
    "# Specify the features of interest\n",
    "num_features = ['word_count', 'year', 'month_dt']\n",
    "xaxes = num_features\n",
    "yaxes = ['Counts', 'Counts', 'Counts']\n",
    "\n",
    "# draw histograms\n",
    "axes = axes.ravel()\n",
    "for idx, ax in enumerate(axes):\n",
    "    if idx == 2:\n",
    "        date_form = DateFormatter('%B')\n",
    "        ax.xaxis.set_major_formatter(date_form)\n",
    "        ax.hist(df[num_features[idx]].dropna(), bins=40)\n",
    "        ax.set_xlabel(xaxes[idx], fontsize=20)\n",
    "        ax.set_ylabel(yaxes[idx], fontsize=20)\n",
    "        ax.tick_params(axis='both', labelsize=15)    \n",
    "    else:\n",
    "        ax.hist(df[num_features[idx]].dropna(), bins=40)\n",
    "        ax.set_xlabel(xaxes[idx], fontsize=20)\n",
    "        ax.set_ylabel(yaxes[idx], fontsize=20)\n",
    "        ax.tick_params(axis='both', labelsize=15)\n",
    "\n",
    "plt.show()"
   ]
  },
  {
   "cell_type": "markdown",
   "metadata": {},
   "source": [
    "Based on the plot above, we can make a few observations:  \n",
    "- The overall number of talks increased as time has gone on.\n",
    "- August seems to be a popular month for people to give talks at Brigham Young University (suggesting that it coincides with the beginning of the school year)\n",
    "\n",
    "The next plot will give us count by topic."
   ]
  },
  {
   "cell_type": "code",
   "execution_count": 50,
   "metadata": {},
   "outputs": [
    {
     "data": {
      "image/png": "[encoded data removed]",
      "text/plain": [
       "<Figure size 1440x720 with 1 Axes>"
      ]
     },
     "metadata": {
      "needs_background": "light"
     },
     "output_type": "display_data"
    }
   ],
   "source": [
    "plt.rcParams['figure.figsize'] = (20, 10)\n",
    "\n",
    "# make subplots\n",
    "fig, axes = plt.subplots(nrows = 1, ncols = 1)\n",
    "\n",
    "# make the data read to feed into the visulizer\n",
    "X_Topics = df.groupby('topic_singular').size().reset_index(name='Counts')['topic_singular']\n",
    "Y_Topics = df.groupby('topic_singular').size().reset_index(name='Counts')['Counts']\n",
    "# make the bar plot\n",
    "axes.barh(X_Topics, Y_Topics)\n",
    "axes.set_title('Topics', fontsize=25)\n",
    "axes.set_ylabel('Counts', fontsize=20)\n",
    "axes.tick_params(axis='both', labelsize=15)\n",
    "\n",
    "plt.show()\n"
   ]
  },
  {
   "cell_type": "markdown",
   "metadata": {},
   "source": [
    "Observations from the topics bar chart:\n",
    "- Jesus Christ and Life are the most popular topics (of the most popular topics).  \n",
    "- All of the most popular seem to fall in line with a private religious university"
   ]
  },
  {
   "cell_type": "code",
   "execution_count": 51,
   "metadata": {},
   "outputs": [
    {
     "data": {
      "image/png": "[encoded data removed]",
      "text/plain": [
       "<Figure size 1080x504 with 2 Axes>"
      ]
     },
     "metadata": {
      "needs_background": "light"
     },
     "output_type": "display_data"
    }
   ],
   "source": [
    "#set up the figure size\n",
    "%matplotlib inline\n",
    "plt.rcParams['figure.figsize'] = (15, 7)\n",
    "\n",
    "# import the package for visulization of the correlation\n",
    "from yellowbrick.features import Rank2D\n",
    "\n",
    "num_features = ['word_count', 'year', 'month_number']\n",
    "\n",
    "# extract the numpy arrays from the data frame\n",
    "X = df[num_features].values\n",
    "\n",
    "# instantiate the visualizer with the Covariance ranking algorithm\n",
    "visualizer = Rank2D(features=num_features, algorithm='pearson')\n",
    "visualizer.fit(X)                # Fit the data to the visualizer\n",
    "visualizer.transform(X)             # Transform the data\n",
    "visualizer.poof(outpath=\"pcoords1.png\") # Draw/show/poof the data\n",
    "plt.show()"
   ]
  },
  {
   "cell_type": "markdown",
   "metadata": {},
   "source": [
    "A few observations from the Pearson Ranking matrix plot:\n",
    "- As the years increase (become more recent to our day), the speakers seem to have more to say (use more words).\n",
    "- The later in the year, the less sermons are given.  Maybe this is due to July being a summer month with not a lot of the student body present on campus, and December has winter break.\n",
    "\n",
    "The next plot will show a bar chart of the most popular topics (Faith, Jesus Christ, Learning, Life, and Service) and what month they were given."
   ]
  },
  {
   "cell_type": "code",
   "execution_count": 52,
   "metadata": {},
   "outputs": [
    {
     "data": {
      "image/png": "[encoded data removed]",
      "text/plain": [
       "<Figure size 1440x720 with 1 Axes>"
      ]
     },
     "metadata": {
      "needs_background": "light"
     },
     "output_type": "display_data"
    }
   ],
   "source": [
    "plt.rcParams['figure.figsize'] = (20, 10)\n",
    "\n",
    "# make subplots\n",
    "fig, axes = plt.subplots(nrows = 1, ncols = 1)\n",
    "\n",
    "# make the data read to feed into the visualizer\n",
    "month_number_faith = df[df['topic_singular']=='faith']['month_number'].value_counts()\n",
    "\n",
    "month_number_jc = df[df['topic_singular']=='jesus christ']['month_number'].value_counts()\n",
    "month_number_jc = month_number_jc.reindex(index = month_number_faith.index)\n",
    "\n",
    "month_number_learning = df[df['topic_singular']=='learning']['month_number'].value_counts()\n",
    "month_number_learning = month_number_learning.reindex(index = month_number_faith.index)\n",
    "\n",
    "month_number_life = df[df['topic_singular']=='life']['month_number'].value_counts()\n",
    "month_number_life = month_number_life.reindex(index = month_number_faith.index)\n",
    "\n",
    "month_number_service = df[df['topic_singular']=='service']['month_number'].value_counts()\n",
    "month_number_service = month_number_service.reindex(index = month_number_faith.index)\n",
    "# make the bar plot\n",
    "p1 = axes.bar(month_number_faith.index, month_number_faith.values)\n",
    "p2 = axes.bar(month_number_jc.index, month_number_jc.values, bottom=month_number_faith.values)\n",
    "p3 = axes.bar(month_number_learning.index, month_number_learning.values, bottom=month_number_faith.values)\n",
    "p4 = axes.bar(month_number_life.index, month_number_life.values, bottom=month_number_faith.values)\n",
    "p5 = axes.bar(month_number_service.index, month_number_service.values, bottom=month_number_faith.values)\n",
    "# date_form = DateFormatter('%B')\n",
    "# axes.xaxis.set_major_formatter(date_form)\n",
    "axes.set_title('Month Number', fontsize=25)\n",
    "axes.set_ylabel('Counts', fontsize=20)\n",
    "axes.tick_params(axis='both', labelsize=15)\n",
    "axes.legend((p1[0], p2[0], p3[0], p4[0], p5[0]), ('Faith', 'Jesus Christ', 'Learning', 'Life', 'Service'), fontsize = 15)\n",
    "\n",
    "plt.show()\n"
   ]
  },
  {
   "cell_type": "markdown",
   "metadata": {},
   "source": [
    "The following observations can be made from the chart above:\n",
    "\n",
    "- August is the most popular month for talks, with an overwhelming majority of the learning topics being contained there.\n",
    "- December is a popular month to discuss Jesus Christ (more than likely due to Christmas).\n",
    "- Faith and Service is a common theme no matter the time of year.\n",
    "- Jesus Christ as a topic is popular in March (perhaps due to Easter?).\n",
    "\n",
    "It will be interesting as we continue on with this project how these variables will play into the predictability of the project."
   ]
  },
  {
   "cell_type": "markdown",
   "metadata": {},
   "source": [
    "In Milestone 2, you should drop any features that are not useful for your model building. You should explain and justify why the feature dropped is not useful. You should address any missing data issues. Build any new features that you need for your model, e.g., create dummy variables for categorical features if necessary. Explain your process at each step. You can use any methods/tools you think are most appropriate. Again, keep in mind that this may look very different from what is done in the Titanic tutorial case study. You should do what makes sense for your project. Be careful to avoid data snooping in these steps."
   ]
  },
  {
   "cell_type": "markdown",
   "metadata": {},
   "source": [
    "Build any new features that you need for your model, e.g., create dummy variables for categorical features if necessary.\n",
    "\n",
    "We will now create dummy variables for the categorical designations in the topic_singular column that will be later used for model analysis.  Instead of using a dictionary to assign values to the categories (i.e. adversity = 1, divine potential = 2, etc.), we will use the get_dummies section so that the model will not give more importance to a higher number."
   ]
  },
  {
   "cell_type": "code",
   "execution_count": 53,
   "metadata": {},
   "outputs": [
    {
     "name": "stdout",
     "output_type": "stream",
     "text": [
      "<class 'pandas.core.frame.DataFrame'>\n",
      "Int64Index: 379 entries, 0 to 378\n",
      "Data columns (total 12 columns):\n",
      " #   Column            Non-Null Count  Dtype         \n",
      "---  ------            --------------  -----         \n",
      " 0   topic_singular    379 non-null    object        \n",
      " 1   titles            379 non-null    object        \n",
      " 2   speaker           379 non-null    object        \n",
      " 3   speaker_position  379 non-null    object        \n",
      " 4   date              379 non-null    object        \n",
      " 5   talks             379 non-null    object        \n",
      " 6   topics            379 non-null    object        \n",
      " 7   word_count        379 non-null    int64         \n",
      " 8   month             379 non-null    object        \n",
      " 9   month_dt          379 non-null    datetime64[ns]\n",
      " 10  year              379 non-null    int32         \n",
      " 11  month_number      379 non-null    int64         \n",
      "dtypes: datetime64[ns](1), int32(1), int64(2), object(8)\n",
      "memory usage: 37.0+ KB\n"
     ]
    }
   ],
   "source": [
    "# Assign the singular topics an number ID for model analysis\n",
    "\n",
    "# df = pd.get_dummies(df, prefix='topic_singular', columns=['topic_singular'])\n",
    "df.head(7)\n",
    "df.info()"
   ]
  },
  {
   "cell_type": "markdown",
   "metadata": {},
   "source": [
    "In Milestone 3, you will begin the process of model selection and evaluation. In addition, write step-by-step instructions for performing the model evaluation and selection part of your case study.\n",
    "\n",
    "In Milestone 3, you should build and evaluate at least one model. You can use any methods/tools you think are most appropriate, but you should explain/justify why you are choosing the model(s) and evaluation metric(s) you choose. It is important to think about what type of model and metric makes sense for the context of your problem. If you are familiar with hyperparameter tuning, this would also be a great addition to your project.\n",
    "\n",
    "Write a short overview/conclusion of the insights gained from your model building/evaluation.\n",
    "\n",
    "There is a little more processing that we would like to take care before building our model. First we will lower case all\n",
    "the words so words like 'Hello' and 'hello' can be treated the same."
   ]
  },
  {
   "cell_type": "code",
   "execution_count": 54,
   "metadata": {
    "collapsed": false,
    "pycharm": {
     "name": "#%%\n"
    }
   },
   "outputs": [],
   "source": [
    "# Lower case, remove stop words, and stem the talk text\n",
    "\n",
    "df['talks_lowered'] = df['talks'].apply(lambda x: x.lower())\n",
    "# df['talks_lowered'][1]"
   ]
  },
  {
   "cell_type": "markdown",
   "metadata": {},
   "source": [
    "Prior to model selection, we will tokenize our talks with sentences, words, and part-of-speech tagging."
   ]
  },
  {
   "cell_type": "code",
   "execution_count": 55,
   "metadata": {},
   "outputs": [],
   "source": [
    "# tokenization of the speeches into sentences.\n",
    "from nltk.tokenize import sent_tokenize\n",
    "\n",
    "df['sentence_tokenize'] = df['talks'].apply(lambda x: sent_tokenize(x))"
   ]
  },
  {
   "cell_type": "code",
   "execution_count": 56,
   "metadata": {},
   "outputs": [],
   "source": [
    "# tokenization of the speeches into words\n",
    "from nltk.tokenize import word_tokenize\n",
    "df['word_tokenize'] = df['talks'].apply(lambda x: word_tokenize(x))"
   ]
  },
  {
   "cell_type": "code",
   "execution_count": 57,
   "metadata": {
    "collapsed": false,
    "pycharm": {
     "name": "#%%\n"
    }
   },
   "outputs": [],
   "source": [
    "import nltk\n",
    "# nltk.download('stopwords')\n",
    "from nltk.corpus import stopwords\n",
    "from nltk.stem.porter import PorterStemmer\n",
    "stemmer = PorterStemmer()\n",
    "data = []\n",
    "\n",
    "for i in range(df.shape[0]):\n",
    "    text = df.iloc[i,14]\n",
    "    talk_processed_list = []\n",
    "    for word in text:\n",
    "        if word not in set(stopwords.words('english')):\n",
    "            talk_processed_list.append(stemmer.stem(word))\n",
    "    proc_talk = \" \".join(talk_processed_list)\n",
    "    data.append(proc_talk)\n",
    "\n",
    "# print(data[1], len(data))"
   ]
  },
  {
   "cell_type": "code",
   "execution_count": 58,
   "metadata": {},
   "outputs": [],
   "source": [
    "# pos \n",
    "import nltk\n",
    "# nltk.download('averaged_perceptron_tagger')\n",
    "\n",
    "df['word_pos'] = df['word_tokenize'].apply(lambda x: nltk.pos_tag(x))"
   ]
  },
  {
   "cell_type": "markdown",
   "metadata": {},
   "source": [
    "We are now ready to build our model.  The model that we will build first is a Naive Bayes model.  The steps were adapted from a blog post on medium.com entitled \"Text classification using the BagOfWords Approach with NLTK and Scikit Learn.\"\n",
    "The actual code from the blog post can be found at https://github.com/CharlesRajendran/TextClassification/blob/master/classifier.py\n",
    "\n",
    "The reason why this model was chosen is because the Naive Bayes model is a common model used when dealing with text\n",
    "classification.  It was also used as the code is straightforward enough to follow and get a model created."
   ]
  },
  {
   "cell_type": "code",
   "execution_count": 59,
   "metadata": {},
   "outputs": [
    {
     "name": "stdout",
     "output_type": "stream",
     "text": [
      "(379, 1000) 0           service\n",
      "1      jesus christ\n",
      "2              life\n",
      "3          learning\n",
      "4      jesus christ\n",
      "           ...     \n",
      "374        learning\n",
      "375         service\n",
      "376           faith\n",
      "377    jesus christ\n",
      "378           faith\n",
      "Name: topic_singular, Length: 379, dtype: object\n"
     ]
    }
   ],
   "source": [
    "# adapted from CharlesRajendran TextClassification github\n",
    "\n",
    "# creating the feature matrix\n",
    "from sklearn.feature_extraction.text import CountVectorizer\n",
    "matrix = CountVectorizer(max_features=1000)\n",
    "X = matrix.fit_transform(data).toarray()\n",
    "y = df.iloc[:, 0]\n",
    "print(X.shape, y)"
   ]
  },
  {
   "cell_type": "code",
   "execution_count": 60,
   "metadata": {
    "collapsed": false,
    "pycharm": {
     "name": "#%%\n"
    }
   },
   "outputs": [],
   "source": [
    "# split train and test data\n",
    "from sklearn.model_selection import train_test_split\n",
    "X_train, X_test, y_train, y_test = train_test_split(X,y, random_state=7)"
   ]
  },
  {
   "cell_type": "markdown",
   "metadata": {},
   "source": [
    "The Naive Bayes model will now be used."
   ]
  },
  {
   "cell_type": "code",
   "execution_count": 61,
   "metadata": {
    "collapsed": false,
    "pycharm": {
     "name": "#%%\n"
    }
   },
   "outputs": [
    {
     "data": {
      "text/plain": [
       "GaussianNB()"
      ]
     },
     "execution_count": 61,
     "metadata": {},
     "output_type": "execute_result"
    }
   ],
   "source": [
    "# Naive Bayes\n",
    "from sklearn.naive_bayes import GaussianNB\n",
    "classifier = GaussianNB()\n",
    "classifier.fit(X_train, y_train)"
   ]
  },
  {
   "cell_type": "markdown",
   "metadata": {},
   "source": [
    "Our predictions will now be made."
   ]
  },
  {
   "cell_type": "code",
   "execution_count": 62,
   "metadata": {
    "collapsed": false,
    "pycharm": {
     "name": "#%%\n"
    }
   },
   "outputs": [],
   "source": [
    "# predict class\n",
    "\n",
    "y_pred = classifier.predict(X_test)"
   ]
  },
  {
   "cell_type": "markdown",
   "metadata": {},
   "source": [
    "We can now move onto the analytics portion of our Naive Bayes model.  We will look at the confusion matrix, the classification report (which includes precision, recall, f1-score), and the accuracy."
   ]
  },
  {
   "cell_type": "code",
   "execution_count": 79,
   "metadata": {
    "collapsed": false,
    "pycharm": {
     "name": "#%%\n"
    }
   },
   "outputs": [
    {
     "name": "stdout",
     "output_type": "stream",
     "text": [
      "[[10  2  2  2  0]\n",
      " [ 0 13  0  2  2]\n",
      " [ 1  1 13  8  1]\n",
      " [ 1  1  0 17  4]\n",
      " [ 1  2  0  2 10]]\n",
      "\n",
      "              precision    recall  f1-score   support\n",
      "\n",
      "       faith       0.77      0.62      0.69        16\n",
      "jesus christ       0.68      0.76      0.72        17\n",
      "    learning       0.87      0.54      0.67        24\n",
      "        life       0.55      0.74      0.63        23\n",
      "     service       0.59      0.67      0.62        15\n",
      "\n",
      "    accuracy                           0.66        95\n",
      "   macro avg       0.69      0.67      0.67        95\n",
      "weighted avg       0.70      0.66      0.66        95\n",
      "\n",
      "\n",
      "0.6631578947368421\n"
     ]
    },
    {
     "data": {
      "image/png": "[encoded data removed]",
      "text/plain": [
       "<Figure size 1440x720 with 2 Axes>"
      ]
     },
     "metadata": {
      "needs_background": "light"
     },
     "output_type": "display_data"
    }
   ],
   "source": [
    "# Confusion matrix, classification report, accuracy\n",
    "from sklearn.metrics import confusion_matrix, classification_report, accuracy_score, ConfusionMatrixDisplay\n",
    "cm = confusion_matrix(y_test, y_pred)\n",
    "cr = classification_report(y_test, y_pred)\n",
    "accuracy = accuracy_score(y_test, y_pred)\n",
    "\n",
    "# print(cm)\n",
    "# print()\n",
    "print(cr)\n",
    "print()\n",
    "print(accuracy)\n",
    "\n",
    "disp = ConfusionMatrixDisplay(confusion_matrix=cm, display_labels=classifier.classes_)\n",
    "disp.plot()\n",
    "plt.title(\"Confusion Matrix Naive Bayes\")\n",
    "plt.show()"
   ]
  },
  {
   "cell_type": "markdown",
   "metadata": {},
   "source": [
    "Based on this model, we have an accuracy of 66%.  \n",
    "\n",
    "We will now build a (Support Vector Machine) model.  The reason why this model is chosen is because of a Teams post by Ryan Long and Ori Rinamman that discusses \"Factors to consider when choosing a predictive model.\"  On the post, there was a reference to the following website:\n",
    "\n",
    "https://scikit-learn.org/dev/tutorial/machine_learning_map/index.html\n",
    "\n",
    "On the scikit learn website, there is a flowchart that one can follow to help them determine the best model to use.  Based on the results of the flowchart, it lead to using a Support Vector Machine model."
   ]
  },
  {
   "cell_type": "code",
   "execution_count": 81,
   "metadata": {
    "collapsed": false,
    "pycharm": {
     "name": "#%%\n"
    }
   },
   "outputs": [
    {
     "name": "stdout",
     "output_type": "stream",
     "text": [
      "              precision    recall  f1-score   support\n",
      "\n",
      "       faith       0.77      0.62      0.69        16\n",
      "jesus christ       0.68      0.76      0.72        17\n",
      "    learning       0.87      0.54      0.67        24\n",
      "        life       0.55      0.74      0.63        23\n",
      "     service       0.59      0.67      0.62        15\n",
      "\n",
      "    accuracy                           0.66        95\n",
      "   macro avg       0.69      0.67      0.67        95\n",
      "weighted avg       0.70      0.66      0.66        95\n",
      "\n",
      "\n",
      "0.6631578947368421\n"
     ]
    },
    {
     "data": {
      "image/png": "[encoded data removed]",
      "text/plain": [
       "<Figure size 1440x720 with 2 Axes>"
      ]
     },
     "metadata": {
      "needs_background": "light"
     },
     "output_type": "display_data"
    }
   ],
   "source": [
    "from sklearn import svm\n",
    "from sklearn.metrics import ConfusionMatrixDisplay\n",
    "\n",
    "svm_classifier = svm.SVC(kernel='linear')\n",
    "svm_classifier.fit(X_train, y_train)\n",
    "y_pred = svm_classifier.predict(X_test)\n",
    "\n",
    "cm = confusion_matrix(y_test, y_pred, labels=['faith', 'jesus christ', 'learning', 'life', 'service'])\n",
    "cr = classification_report(y_test, y_pred)\n",
    "accuracy = accuracy_score(y_test, y_pred)\n",
    "\n",
    "print(cr)\n",
    "print()\n",
    "print(accuracy)\n",
    "\n",
    "disp = ConfusionMatrixDisplay(confusion_matrix=cm, display_labels=svm_classifier.classes_)\n",
    "disp.plot()\n",
    "plt.title(\"Confusion Matrix Support Vector Machine (SVM)\")\n",
    "plt.show()\n"
   ]
  },
  {
   "cell_type": "markdown",
   "metadata": {},
   "source": [
    "The accuracy of the SVM model is exactly the same as the Naive Bayes model (66%).  I find this a little strange, however, I am going to move forward with the SVM model.  I will try some different kernels to see if the initial accuracy is improved.  "
   ]
  },
  {
   "cell_type": "code",
   "execution_count": null,
   "metadata": {},
   "outputs": [
    {
     "name": "stdout",
     "output_type": "stream",
     "text": [
      "[[ 0 16  0  0  0]\n",
      " [ 0 17  0  0  0]\n",
      " [ 0 24  0  0  0]\n",
      " [ 0 23  0  0  0]\n",
      " [ 0 15  0  0  0]]\n",
      "\n",
      "              precision    recall  f1-score   support\n",
      "\n",
      "       faith       0.00      0.00      0.00        16\n",
      "jesus christ       0.18      1.00      0.30        17\n",
      "    learning       0.00      0.00      0.00        24\n",
      "        life       0.00      0.00      0.00        23\n",
      "     service       0.00      0.00      0.00        15\n",
      "\n",
      "    accuracy                           0.18        95\n",
      "   macro avg       0.04      0.20      0.06        95\n",
      "weighted avg       0.03      0.18      0.05        95\n",
      "\n",
      "\n",
      "0.17894736842105263\n"
     ]
    },
    {
     "name": "stderr",
     "output_type": "stream",
     "text": [
      "C:\\Users\\Ramsey\\anaconda3\\lib\\site-packages\\sklearn\\metrics\\_classification.py:1308: UndefinedMetricWarning: Precision and F-score are ill-defined and being set to 0.0 in labels with no predicted samples. Use `zero_division` parameter to control this behavior.\n",
      "  _warn_prf(average, modifier, msg_start, len(result))\n",
      "C:\\Users\\Ramsey\\anaconda3\\lib\\site-packages\\sklearn\\metrics\\_classification.py:1308: UndefinedMetricWarning: Precision and F-score are ill-defined and being set to 0.0 in labels with no predicted samples. Use `zero_division` parameter to control this behavior.\n",
      "  _warn_prf(average, modifier, msg_start, len(result))\n",
      "C:\\Users\\Ramsey\\anaconda3\\lib\\site-packages\\sklearn\\metrics\\_classification.py:1308: UndefinedMetricWarning: Precision and F-score are ill-defined and being set to 0.0 in labels with no predicted samples. Use `zero_division` parameter to control this behavior.\n",
      "  _warn_prf(average, modifier, msg_start, len(result))\n"
     ]
    }
   ],
   "source": [
    "#RBF Kernal\n",
    "from sklearn import svm\n",
    "svm_classifier = svm.SVC(kernel='rbf', gamma=1, C=1)\n",
    "svm_classifier.fit(X_train, y_train)\n",
    "y_pred = svm_classifier.predict(X_test)\n",
    "\n",
    "cm = confusion_matrix(y_test, y_pred)\n",
    "cr = classification_report(y_test, y_pred)\n",
    "accuracy = accuracy_score(y_test, y_pred)\n",
    "\n",
    "print(cm)\n",
    "print()\n",
    "print(cr)\n",
    "print()\n",
    "print(accuracy)"
   ]
  },
  {
   "cell_type": "code",
   "execution_count": null,
   "metadata": {},
   "outputs": [],
   "source": []
  },
  {
   "cell_type": "markdown",
   "metadata": {},
   "source": [
    "The RBF kernal returns an accuarcy of 17.8%.  We will now look at the Sigmoid kernel."
   ]
  },
  {
   "cell_type": "code",
   "execution_count": null,
   "metadata": {},
   "outputs": [
    {
     "name": "stdout",
     "output_type": "stream",
     "text": [
      "[[ 7  1  1  7  0]\n",
      " [ 1 13  0  3  0]\n",
      " [ 0  1  7 16  0]\n",
      " [ 2  3  0 18  0]\n",
      " [ 1  2  0  6  6]]\n",
      "\n",
      "              precision    recall  f1-score   support\n",
      "\n",
      "       faith       0.64      0.44      0.52        16\n",
      "jesus christ       0.65      0.76      0.70        17\n",
      "    learning       0.88      0.29      0.44        24\n",
      "        life       0.36      0.78      0.49        23\n",
      "     service       1.00      0.40      0.57        15\n",
      "\n",
      "    accuracy                           0.54        95\n",
      "   macro avg       0.70      0.54      0.54        95\n",
      "weighted avg       0.69      0.54      0.53        95\n",
      "\n",
      "\n",
      "0.5368421052631579\n"
     ]
    }
   ],
   "source": [
    "# Sigmoid kernal\n",
    "\n",
    "from sklearn import svm\n",
    "svm_classifier = svm.SVC(kernel='sigmoid', C=1)\n",
    "svm_classifier.fit(X_train, y_train)\n",
    "y_pred = svm_classifier.predict(X_test)\n",
    "\n",
    "cm = confusion_matrix(y_test, y_pred)\n",
    "cr = classification_report(y_test, y_pred)\n",
    "accuracy = accuracy_score(y_test, y_pred)\n",
    "\n",
    "print(cm)\n",
    "print()\n",
    "print(cr)\n",
    "print()\n",
    "print(accuracy)"
   ]
  },
  {
   "cell_type": "markdown",
   "metadata": {},
   "source": [
    "The sigmoid kernal returns an accuracy of 53.6%.  Now we will look at a polynomial kernel."
   ]
  },
  {
   "cell_type": "code",
   "execution_count": null,
   "metadata": {},
   "outputs": [
    {
     "name": "stdout",
     "output_type": "stream",
     "text": [
      "[[ 6  2  1  7  0]\n",
      " [ 0 13  0  4  0]\n",
      " [ 0  1  5 17  1]\n",
      " [ 0  2  0 20  1]\n",
      " [ 0  1  0  6  8]]\n",
      "\n",
      "              precision    recall  f1-score   support\n",
      "\n",
      "       faith       1.00      0.38      0.55        16\n",
      "jesus christ       0.68      0.76      0.72        17\n",
      "    learning       0.83      0.21      0.33        24\n",
      "        life       0.37      0.87      0.52        23\n",
      "     service       0.80      0.53      0.64        15\n",
      "\n",
      "    accuracy                           0.55        95\n",
      "   macro avg       0.74      0.55      0.55        95\n",
      "weighted avg       0.72      0.55      0.53        95\n",
      "\n",
      "\n",
      "0.5473684210526316\n"
     ]
    }
   ],
   "source": [
    "# Polynomial\n",
    "\n",
    "from sklearn import svm\n",
    "svm_classifier = svm.SVC(kernel='poly', C=1)\n",
    "svm_classifier.fit(X_train, y_train)\n",
    "y_pred = svm_classifier.predict(X_test)\n",
    "\n",
    "cm = confusion_matrix(y_test, y_pred)\n",
    "cr = classification_report(y_test, y_pred)\n",
    "accuracy = accuracy_score(y_test, y_pred)\n",
    "\n",
    "print(cm)\n",
    "print()\n",
    "print(cr)\n",
    "print()\n",
    "print(accuracy)"
   ]
  },
  {
   "cell_type": "markdown",
   "metadata": {},
   "source": [
    "The polynomial accuarcy is 54.7%, so we will go back to the linear kernel and see if any tuning can take place."
   ]
  },
  {
   "cell_type": "code",
   "execution_count": 86,
   "metadata": {},
   "outputs": [
    {
     "name": "stdout",
     "output_type": "stream",
     "text": [
      "Fitting 5 folds for each of 20 candidates, totalling 100 fits\n",
      "The best parameters are: {'C': 0.1, 'gamma': 'scale', 'kernel': 'linear'}\n",
      "              precision    recall  f1-score   support\n",
      "\n",
      "       faith       0.77      0.62      0.69        16\n",
      "jesus christ       0.68      0.76      0.72        17\n",
      "    learning       0.87      0.54      0.67        24\n",
      "        life       0.55      0.74      0.63        23\n",
      "     service       0.59      0.67      0.62        15\n",
      "\n",
      "    accuracy                           0.66        95\n",
      "   macro avg       0.69      0.67      0.67        95\n",
      "weighted avg       0.70      0.66      0.66        95\n",
      "\n"
     ]
    }
   ],
   "source": [
    "from sklearn.model_selection import GridSearchCV\n",
    "\n",
    "# defining parameter range \n",
    "param_grid = {'C': [0.1, 1, 10, 100, 1000],  \n",
    "              'gamma': [10, 1, 0.1, 0.01, 0.001, 0.0001], \n",
    "              'gamma':['scale', 'auto'],\n",
    "              'kernel': ['linear', 'sigmoid']}  \n",
    "   \n",
    "grid = GridSearchCV(svm.SVC(), param_grid, refit = True, verbose = 3,n_jobs=-1) \n",
    "   \n",
    "# fitting the model for grid search \n",
    "grid.fit(X_train, y_train) \n",
    " \n",
    "# print best parameter after tuning \n",
    "print('The best parameters are: '+ str(grid.best_params_)) \n",
    "grid_predictions = grid.predict(X_test) \n",
    "   \n",
    "# print classification report \n",
    "print(classification_report(y_test, grid_predictions)) "
   ]
  },
  {
   "cell_type": "markdown",
   "metadata": {},
   "source": [
    "NEED TO TRY N-GRAMS AND A NEURAL NETWORK (MAYBE) TO SEE IF ACCURACY CAN BE IMPROVED."
   ]
  }
 ],
 "metadata": {
  "interpreter": {
   "hash": "bf60427b139290154779a7e38fd0f127f78e5a9dfc17b4a4bd1d849158c5fa70"
  },
  "kernelspec": {
   "display_name": "Python 3.7.6 64-bit ('base': conda)",
   "name": "python3"
  },
  "language_info": {
   "codemirror_mode": {
    "name": "ipython",
    "version": 3
   },
   "file_extension": ".py",
   "mimetype": "text/x-python",
   "name": "python",
   "nbconvert_exporter": "python",
   "pygments_lexer": "ipython3",
   "version": "3.7.6"
  },
  "orig_nbformat": 4
 },
 "nbformat": 4,
 "nbformat_minor": 2
}
