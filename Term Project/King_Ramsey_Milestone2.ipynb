{
 "cells": [
  {
   "cell_type": "markdown",
   "metadata": {},
   "source": [
    "# Ramsey King\n",
    "# DSC 550 - Data Mining\n",
    "# October 17, 2021\n",
    "# Term Project Milestone 2"
   ]
  },
  {
   "cell_type": "markdown",
   "metadata": {},
   "source": [
    "### My term project will consist of being able to guess the main topic of sermons given by members of The Church of Jesus Christ of Latter Day Saints as defined by the designated topic assigned to it at speeches.byu.edu.  The ability to search for sermons by topic on this website is available.  While this specific case is not a business use case of data mining, there are many business use cases for being able to identify text by topic or keyword (i.e. www.google.com).  \n",
    "### For purposes of this assignment, being able to quickly find topic related sermons is beneficial to members of the Church of Jesus Christ.  On occasion, members of the church are asked to give a sermon of their own on various topics, and having the ability to go to a resource and search the assigned topic by keyword helps to generate discussion points and give guidance as to what is appropriate to discuss.  For this project, we will limit the topics as defined by speeches.byu.edu. to give us an initial dataset of 800 rows before processing.  The topics and the count of the number of sermons given (as of October 4th, 2021) are: Life (108), Jesus Christ (106), Faith (100), Learning (97), Service (73), Discipleship (67), Righteousness (67), Divine Potential (66), Love (66), Adversity (57), Trials (56), Revelation (55), and Missionary Work (53).  This should provide enough data to work with but if there is a need, additional topics will be included to help with the corpus.  "
   ]
  },
  {
   "cell_type": "code",
   "execution_count": 15,
   "metadata": {},
   "outputs": [],
   "source": [
    "# Retreive talks from topics page using beautifulsoup\n",
    "\n",
    "from bs4 import BeautifulSoup as bs\n",
    "import requests\n",
    "# import numpy as np\n",
    "import pandas as pd\n",
    "import matplotlib.pyplot as plt\n",
    "import re\n",
    "%matplotlib inline"
   ]
  },
  {
   "cell_type": "code",
   "execution_count": 16,
   "metadata": {},
   "outputs": [],
   "source": [
    "# Get list of urls for each of the topics\n",
    "\n",
    "url = \"https://speeches.byu.edu/topics/\"\n",
    "\n",
    "url_list = [\n",
    "    'life/', 'jesus-christ/', 'faith/', 'learning/', 'service/', 'discipleship/', 'righteousness/', \n",
    "    'divine-potential/', 'love/', 'adversity/', 'trials/', 'revelation/', 'missionary-work/'\n",
    "]\n",
    "\n",
    "links = []\n",
    "new_links = []\n",
    "# some of the links are repeated with '?M=V' and '?M=A' and those will be removed so we can have a unique set of links to pull talk information from.\n",
    "for u in url_list:\n",
    "\n",
    "    response = requests.get(url+u)\n",
    "    html = response.content\n",
    "    video = '?M=V'\n",
    "    soup = bs(html, \"lxml\")\n",
    "    for link in soup.findAll(\"a\", attrs={'href': re.compile(\"^https://speeches.byu.edu/talks/[\\D+]\")}):\n",
    "        links.append(link.get('href').replace(video, ''))\n",
    "\n",
    "    audio = '?M=A'\n",
    "    for link in links:\n",
    "        new_link = link.replace(audio, '')\n",
    "        new_links.append(new_link)\n",
    "    new_links = list(set(new_links))\n",
    "\n"
   ]
  },
  {
   "cell_type": "code",
   "execution_count": 17,
   "metadata": {},
   "outputs": [],
   "source": [
    "'''Retrieves talk text from each of the urls using beautiful soup.  Information such as the talk/sermon text, title, topic, date, and speaker will be retreived\n",
    "and put into a dataframe.  A csv file will also be saved due to the time it takes to run or in case we need to work offline.'''\n",
    "talk_text = []\n",
    "title_text = []\n",
    "topics = []\n",
    "dates = []\n",
    "speakers = []\n",
    "speaker_position = []\n",
    "\n",
    "for link in new_links:\n",
    "    url = link\n",
    "    response = requests.get(url)\n",
    "    html = response.content\n",
    "    soup = bs(html, 'lxml')\n",
    "    temp_list = []\n",
    "\n",
    "    link_splitter = link.split('/')\n",
    "    speakers.append(link_splitter[4].replace('-', ' '))\n",
    "\n",
    "    result = soup.find('p', class_='single-speech__speaker-subtext single-speech__speaker-position')\n",
    "    speaker_position.append(result.text if result else 'Title Not Found')\n",
    "\n",
    "    for div in soup.find_all('div', class_='single-speech__content'):\n",
    "        talk_text.append(div.get_text(strip=True))\n",
    "    for h1 in soup.find_all('h1', class_='single-speech__title'):\n",
    "        title_text.append(h1.get_text(strip=True))        \n",
    "    for p in soup.find_all('p', class_='single-speech__speaker-subtext single-speech__date'):\n",
    "        dates.append(p.get_text(strip=True))\n",
    "    for p in soup.find_all('p', class_='single-speech__related-tag'):\n",
    "        temp_list.append(p.get_text(strip=True))\n",
    "        temp_str = ','.join(temp_list)\n",
    "    topics.append(temp_str)\n",
    "\n",
    "\n",
    "dict = {'titles': title_text , 'speaker': speakers, 'speaker_position': speaker_position , 'date': dates, 'talks': talk_text, 'topics': topics, }\n",
    "df = pd.DataFrame(dict)\n",
    "# df.to_csv('talks.csv')"
   ]
  },
  {
   "cell_type": "code",
   "execution_count": 18,
   "metadata": {},
   "outputs": [],
   "source": [
    "# get character lengths of each talk\n",
    "# NEED TO REMOVE THIS FROM 2ND MILESTONE\n",
    "df['char_lengths'] = pd.Series([len(x) for x in df.talks])"
   ]
  },
  {
   "cell_type": "code",
   "execution_count": 19,
   "metadata": {},
   "outputs": [],
   "source": [
    "# get word count of each talk\n",
    "df['word_count'] = df['talks'].apply(lambda x: len(re.findall(r'\\w+', x)))"
   ]
  },
  {
   "cell_type": "code",
   "execution_count": 32,
   "metadata": {},
   "outputs": [
    {
     "data": {
      "text/plain": [
       "(808, 13)"
      ]
     },
     "execution_count": 32,
     "metadata": {},
     "output_type": "execute_result"
    }
   ],
   "source": [
    "# reduce the topic to the ones selected from our original selection ('life', 'jesus-christ', 'faith', 'learning', 'service')\n",
    "from datetime import datetime\n",
    "# the single_topic function takes the list of topics in the 'topics' column and will return the first topic it finds in the 'topic_selection_list'\n",
    "def single_topic(dataframe_topics):\n",
    "    column = [word for word in dataframe_topics.split(',')]\n",
    "    the_string =  ', '.join([val for ind, val in enumerate(topic_selection_list) if val in column])\n",
    "    return the_string.split(',')[0]\n",
    "\n",
    "# removes the '/' from the url list and '-' from topics containing dashes such as 'jesus-christ'\n",
    "topic_selection_list = [x[:-1].replace('-', ' ') for x in url_list]\n",
    "df['topics'] = df['topics'].apply(lambda x: x.lower())\n",
    "df['topic_singular'] = df['topics'].apply(single_topic)\n",
    "\n",
    "# remove quotations (\"\") and all other punctuation from titles\n",
    "df['titles'] = df['titles'].apply(lambda x: re.sub(r'[^\\w\\s]', '', x))\n",
    "\n",
    "# create separate month and year column and create a number column representing the month \n",
    "df['month'] = df['date'].apply(lambda x: x.split(' ')[0])\n",
    "# df['month_dt'] = df['month'].apply(lambda x: datetime.strptime(x, '%B'))\n",
    "df['month_dt'] = pd.to_datetime(df['month'], format='%B')\n",
    "df['year'] = df['date'].apply(lambda x: x.split(' ')[2]).astype(int)\n",
    "\n",
    "def month_to_int(month_string):\n",
    "    month_dictionary = {\n",
    "        'January': 1,\n",
    "        'February': 2,\n",
    "        'March': 3,\n",
    "        'April': 4,\n",
    "        'May': 5,\n",
    "        'June': 6,\n",
    "        'July': 7,\n",
    "        'August': 8,\n",
    "        'September': 9,\n",
    "        'October': 10,\n",
    "        'November': 11,\n",
    "        'December': 12\n",
    "    }\n",
    "\n",
    "    return month_dictionary.get(month_string)\n",
    "    \n",
    "df['month_number'] = df['month'].apply(month_to_int)\n",
    "\n",
    "# get the dimensions of the dataset\n",
    "df.shape\n"
   ]
  },
  {
   "cell_type": "code",
   "execution_count": 38,
   "metadata": {},
   "outputs": [
    {
     "data": {
      "text/html": [
       "<div>\n",
       "<style scoped>\n",
       "    .dataframe tbody tr th:only-of-type {\n",
       "        vertical-align: middle;\n",
       "    }\n",
       "\n",
       "    .dataframe tbody tr th {\n",
       "        vertical-align: top;\n",
       "    }\n",
       "\n",
       "    .dataframe thead th {\n",
       "        text-align: right;\n",
       "    }\n",
       "</style>\n",
       "<table border=\"1\" class=\"dataframe\">\n",
       "  <thead>\n",
       "    <tr style=\"text-align: right;\">\n",
       "      <th></th>\n",
       "      <th>titles</th>\n",
       "      <th>speaker</th>\n",
       "      <th>speaker_position</th>\n",
       "      <th>date</th>\n",
       "      <th>talks</th>\n",
       "      <th>topics</th>\n",
       "      <th>char_lengths</th>\n",
       "      <th>word_count</th>\n",
       "      <th>topic_singular</th>\n",
       "      <th>month</th>\n",
       "      <th>year</th>\n",
       "      <th>month_number</th>\n",
       "      <th>month_dt</th>\n",
       "    </tr>\n",
       "  </thead>\n",
       "  <tbody>\n",
       "    <tr>\n",
       "      <th>0</th>\n",
       "      <td>We Explore So That We May Discover</td>\n",
       "      <td>jani radebaugh</td>\n",
       "      <td>Title Not Found</td>\n",
       "      <td>July 28, 2015</td>\n",
       "      <td>The text for this speech is unavailable. Pleas...</td>\n",
       "      <td>learning</td>\n",
       "      <td>84</td>\n",
       "      <td>13</td>\n",
       "      <td>learning</td>\n",
       "      <td>July</td>\n",
       "      <td>2015</td>\n",
       "      <td>7</td>\n",
       "      <td>1900-07-01</td>\n",
       "    </tr>\n",
       "    <tr>\n",
       "      <th>1</th>\n",
       "      <td>Women and Education A Future Only God Could Se...</td>\n",
       "      <td>eva m witesman</td>\n",
       "      <td>Associate Professor, BYU Marriott School of Bu...</td>\n",
       "      <td>June 27, 2017</td>\n",
       "      <td>It is wonderful to be here. This is not an opp...</td>\n",
       "      <td>divine potential,education,women</td>\n",
       "      <td>23587</td>\n",
       "      <td>4286</td>\n",
       "      <td>divine potential</td>\n",
       "      <td>June</td>\n",
       "      <td>2017</td>\n",
       "      <td>6</td>\n",
       "      <td>1900-06-01</td>\n",
       "    </tr>\n",
       "    <tr>\n",
       "      <th>2</th>\n",
       "      <td>Go Forth and Serve</td>\n",
       "      <td>robert d hales</td>\n",
       "      <td>Of the Quorum of the Twelve Apostles</td>\n",
       "      <td>April 27, 2006</td>\n",
       "      <td>Beloved Brigham Young University graduates, th...</td>\n",
       "      <td>service</td>\n",
       "      <td>14457</td>\n",
       "      <td>2569</td>\n",
       "      <td>service</td>\n",
       "      <td>April</td>\n",
       "      <td>2006</td>\n",
       "      <td>4</td>\n",
       "      <td>1900-04-01</td>\n",
       "    </tr>\n",
       "    <tr>\n",
       "      <th>3</th>\n",
       "      <td>Our Journey into the Wilderness</td>\n",
       "      <td>susan sessions rugh</td>\n",
       "      <td>Title Not Found</td>\n",
       "      <td>October 13, 2009</td>\n",
       "      <td>I am grateful for the opportunity to speak to ...</td>\n",
       "      <td>life</td>\n",
       "      <td>18433</td>\n",
       "      <td>3446</td>\n",
       "      <td>life</td>\n",
       "      <td>October</td>\n",
       "      <td>2009</td>\n",
       "      <td>10</td>\n",
       "      <td>1900-10-01</td>\n",
       "    </tr>\n",
       "    <tr>\n",
       "      <th>4</th>\n",
       "      <td>Strangers and Pilgrims on the Earth</td>\n",
       "      <td>barry willardson</td>\n",
       "      <td>Title Not Found</td>\n",
       "      <td>July 14, 2015</td>\n",
       "      <td>Today is July 14. For most it is just another ...</td>\n",
       "      <td>divine nature,faith</td>\n",
       "      <td>20841</td>\n",
       "      <td>3857</td>\n",
       "      <td>faith</td>\n",
       "      <td>July</td>\n",
       "      <td>2015</td>\n",
       "      <td>7</td>\n",
       "      <td>1900-07-01</td>\n",
       "    </tr>\n",
       "    <tr>\n",
       "      <th>5</th>\n",
       "      <td>The Blessings of Adversity</td>\n",
       "      <td>james e faust</td>\n",
       "      <td>Of the Seventy</td>\n",
       "      <td>February 21, 1978</td>\n",
       "      <td>It is always a special thrill and blessing to ...</td>\n",
       "      <td>adversity,blessings,trials</td>\n",
       "      <td>22788</td>\n",
       "      <td>4120</td>\n",
       "      <td>adversity</td>\n",
       "      <td>February</td>\n",
       "      <td>1978</td>\n",
       "      <td>2</td>\n",
       "      <td>1900-02-01</td>\n",
       "    </tr>\n",
       "    <tr>\n",
       "      <th>6</th>\n",
       "      <td>More Than Knowledge</td>\n",
       "      <td>shuei chen valerie woo</td>\n",
       "      <td>Student Representative</td>\n",
       "      <td>April 21, 2005</td>\n",
       "      <td>When I first found out that I was to speak at ...</td>\n",
       "      <td>byu,life</td>\n",
       "      <td>4240</td>\n",
       "      <td>755</td>\n",
       "      <td>life</td>\n",
       "      <td>April</td>\n",
       "      <td>2005</td>\n",
       "      <td>4</td>\n",
       "      <td>1900-04-01</td>\n",
       "    </tr>\n",
       "  </tbody>\n",
       "</table>\n",
       "</div>"
      ],
      "text/plain": [
       "                                              titles                 speaker  \\\n",
       "0                 We Explore So That We May Discover          jani radebaugh   \n",
       "1  Women and Education A Future Only God Could Se...          eva m witesman   \n",
       "2                                 Go Forth and Serve          robert d hales   \n",
       "3                    Our Journey into the Wilderness     susan sessions rugh   \n",
       "4                Strangers and Pilgrims on the Earth        barry willardson   \n",
       "5                         The Blessings of Adversity           james e faust   \n",
       "6                                More Than Knowledge  shuei chen valerie woo   \n",
       "\n",
       "                                    speaker_position               date  \\\n",
       "0                                    Title Not Found      July 28, 2015   \n",
       "1  Associate Professor, BYU Marriott School of Bu...      June 27, 2017   \n",
       "2               Of the Quorum of the Twelve Apostles     April 27, 2006   \n",
       "3                                    Title Not Found   October 13, 2009   \n",
       "4                                    Title Not Found      July 14, 2015   \n",
       "5                                     Of the Seventy  February 21, 1978   \n",
       "6                             Student Representative     April 21, 2005   \n",
       "\n",
       "                                               talks  \\\n",
       "0  The text for this speech is unavailable. Pleas...   \n",
       "1  It is wonderful to be here. This is not an opp...   \n",
       "2  Beloved Brigham Young University graduates, th...   \n",
       "3  I am grateful for the opportunity to speak to ...   \n",
       "4  Today is July 14. For most it is just another ...   \n",
       "5  It is always a special thrill and blessing to ...   \n",
       "6  When I first found out that I was to speak at ...   \n",
       "\n",
       "                             topics  char_lengths  word_count  \\\n",
       "0                          learning            84          13   \n",
       "1  divine potential,education,women         23587        4286   \n",
       "2                           service         14457        2569   \n",
       "3                              life         18433        3446   \n",
       "4               divine nature,faith         20841        3857   \n",
       "5        adversity,blessings,trials         22788        4120   \n",
       "6                          byu,life          4240         755   \n",
       "\n",
       "     topic_singular     month  year  month_number   month_dt  \n",
       "0          learning      July  2015             7 1900-07-01  \n",
       "1  divine potential      June  2017             6 1900-06-01  \n",
       "2           service     April  2006             4 1900-04-01  \n",
       "3              life   October  2009            10 1900-10-01  \n",
       "4             faith      July  2015             7 1900-07-01  \n",
       "5         adversity  February  1978             2 1900-02-01  \n",
       "6              life     April  2005             4 1900-04-01  "
      ]
     },
     "execution_count": 38,
     "metadata": {},
     "output_type": "execute_result"
    }
   ],
   "source": [
    "# Take a peek at the data\n",
    "df.head(7)"
   ]
  },
  {
   "cell_type": "code",
   "execution_count": 34,
   "metadata": {},
   "outputs": [
    {
     "name": "stdout",
     "output_type": "stream",
     "text": [
      "Describe Data\n",
      "       char_lengths    word_count         year  month_number\n",
      "count    808.000000    808.000000   808.000000    808.000000\n",
      "mean   18074.212871   3293.154703  1995.212871      6.233911\n",
      "std    11407.788809   2087.832579    19.171805      3.324423\n",
      "min       67.000000     13.000000  1949.000000      1.000000\n",
      "25%     7781.500000   1375.500000  1982.000000      3.000000\n",
      "50%    20983.000000   3824.000000  2000.000000      6.000000\n",
      "75%    25956.750000   4737.500000  2011.000000      9.000000\n",
      "max    54275.000000  10827.000000  2021.000000     12.000000\n",
      "Summarized Data\n",
      "                   titles          speaker speaker_position            date  \\\n",
      "count                 808              808              808             808   \n",
      "unique                799              447              197             748   \n",
      "top     Go Forth to Serve  kevin j worthen  Title Not Found  April 30, 2004   \n",
      "freq                    4               17              243               8   \n",
      "\n",
      "                                                    talks topics  \\\n",
      "count                                                 808    808   \n",
      "unique                                                730    596   \n",
      "top     The text for this speech is unavailable. Pleas...   life   \n",
      "freq                                                   75     21   \n",
      "\n",
      "       topic_singular   month  \n",
      "count             808     808  \n",
      "unique             13      12  \n",
      "top              life  August  \n",
      "freq              108      99  \n"
     ]
    }
   ],
   "source": [
    "# We want to get some inital statistical information from the dataset.\n",
    "print(\"Describe Data\")\n",
    "print(df.describe())\n",
    "print(\"Summarized Data\")\n",
    "print(df.describe(include=['O']))"
   ]
  },
  {
   "cell_type": "code",
   "execution_count": 47,
   "metadata": {},
   "outputs": [
    {
     "data": {
      "image/png": "[encoded data removed]",
      "text/plain": [
       "<Figure size 1440x720 with 4 Axes>"
      ]
     },
     "metadata": {
      "needs_background": "light"
     },
     "output_type": "display_data"
    }
   ],
   "source": [
    "import matplotlib.pyplot as plt\n",
    "from matplotlib.dates import DateFormatter\n",
    "# set up the figure size\n",
    "plt.rcParams['figure.figsize'] = (20, 10)\n",
    "\n",
    "# make subplots\n",
    "fig, axes = plt.subplots(nrows = 2, ncols = 2)\n",
    "\n",
    "# Specify the features of interest\n",
    "num_features = ['char_lengths', 'word_count', 'year', 'month_dt']\n",
    "xaxes = num_features\n",
    "yaxes = ['Counts', 'Counts', 'Counts', 'Counts']\n",
    "\n",
    "# draw histograms\n",
    "axes = axes.ravel()\n",
    "for idx, ax in enumerate(axes):\n",
    "    if idx == 3:\n",
    "        date_form = DateFormatter('%B')\n",
    "        ax.xaxis.set_major_formatter(date_form)\n",
    "        ax.hist(df[num_features[idx]].dropna(), bins=40)\n",
    "        ax.set_xlabel(xaxes[idx], fontsize=20)\n",
    "        ax.set_ylabel(yaxes[idx], fontsize=20)\n",
    "        ax.tick_params(axis='both', labelsize=15)    \n",
    "    else:\n",
    "        ax.hist(df[num_features[idx]].dropna(), bins=40)\n",
    "        ax.set_xlabel(xaxes[idx], fontsize=20)\n",
    "        ax.set_ylabel(yaxes[idx], fontsize=20)\n",
    "        ax.tick_params(axis='both', labelsize=15)\n",
    "\n",
    "plt.show()"
   ]
  },
  {
   "cell_type": "markdown",
   "metadata": {},
   "source": [
    "Based on the plot above, we can make a few observations:  \n",
    "- There are a number of websites that did not contain the sermon/talk text, and those will need to be removed from the final dataset.  \n",
    "- The overall number of talks increased as time has gone on.\n",
    "- August seems to be a popular month for people to give talks at Brigham Young University (suggesting that it coincides with the beginning of the school year)"
   ]
  },
  {
   "cell_type": "code",
   "execution_count": 27,
   "metadata": {},
   "outputs": [
    {
     "data": {
      "image/png": "[encoded data removed]",
      "text/plain": [
       "<Figure size 1440x720 with 1 Axes>"
      ]
     },
     "metadata": {
      "needs_background": "light"
     },
     "output_type": "display_data"
    }
   ],
   "source": [
    "plt.rcParams['figure.figsize'] = (20, 10)\n",
    "\n",
    "# make subplots\n",
    "fig, axes = plt.subplots(nrows = 1, ncols = 1)\n",
    "\n",
    "# make the data read to feed into the visulizer\n",
    "X_Topics = df.groupby('topic_singular').size().reset_index(name='Counts')['topic_singular']\n",
    "Y_Topics = df.groupby('topic_singular').size().reset_index(name='Counts')['Counts']\n",
    "# make the bar plot\n",
    "axes.barh(X_Topics, Y_Topics)\n",
    "axes.set_title('Topics', fontsize=25)\n",
    "axes.set_ylabel('Counts', fontsize=20)\n",
    "axes.tick_params(axis='both', labelsize=15)\n",
    "\n",
    "plt.show()\n"
   ]
  },
  {
   "cell_type": "markdown",
   "metadata": {},
   "source": [
    "Observations from the topics bar chart:\n",
    "- Jesus Christ and Life are the most popular topics (of the most popular topics).  \n",
    "- All of the most popular seem to fall in line with a private religious university"
   ]
  },
  {
   "cell_type": "code",
   "execution_count": 25,
   "metadata": {},
   "outputs": [
    {
     "data": {
      "image/png": "[encoded data removed]",
      "text/plain": [
       "<Figure size 1080x504 with 2 Axes>"
      ]
     },
     "metadata": {
      "needs_background": "light"
     },
     "output_type": "display_data"
    }
   ],
   "source": [
    "#set up the figure size\n",
    "%matplotlib inline\n",
    "plt.rcParams['figure.figsize'] = (15, 7)\n",
    "\n",
    "# import the package for visulization of the correlation\n",
    "from yellowbrick.features import Rank2D\n",
    "\n",
    "# extract the numpy arrays from the data frame\n",
    "X = df[num_features].values\n",
    "\n",
    "# instantiate the visualizer with the Covariance ranking algorithm\n",
    "visualizer = Rank2D(features=num_features, algorithm='pearson')\n",
    "visualizer.fit(X)                # Fit the data to the visualizer\n",
    "visualizer.transform(X)             # Transform the data\n",
    "visualizer.poof(outpath=\"pcoords1.png\") # Draw/show/poof the data\n",
    "plt.show()"
   ]
  },
  {
   "cell_type": "markdown",
   "metadata": {},
   "source": [
    "A few observations from the Pearson Ranking matrix plot:\n",
    "- Word count and character length obviously have a strong correlation between them.  Perhaps one of these variables can be eliminated as to not confuse the training model.\n",
    "- As the years increase (become more recent to our day), the speakers seem to have more to say (use more words).\n",
    "- The later in the year, the less sermons are given.  Maybe this is due to July being a summer month with not a lot of the student body present on campus, and December has winter break."
   ]
  },
  {
   "cell_type": "code",
   "execution_count": 49,
   "metadata": {},
   "outputs": [
    {
     "data": {
      "image/png": "[encoded data removed]",
      "text/plain": [
       "<Figure size 1440x720 with 1 Axes>"
      ]
     },
     "metadata": {
      "needs_background": "light"
     },
     "output_type": "display_data"
    }
   ],
   "source": [
    "plt.rcParams['figure.figsize'] = (20, 10)\n",
    "\n",
    "# make subplots\n",
    "fig, axes = plt.subplots(nrows = 1, ncols = 1)\n",
    "\n",
    "# make the data read to feed into the visulizer\n",
    "month_number_faith = df[df['topic_singular']=='faith']['month_number'].value_counts()\n",
    "\n",
    "month_number_jc = df[df['topic_singular']=='jesus christ']['month_number'].value_counts()\n",
    "month_number_jc = month_number_jc.reindex(index = month_number_faith.index)\n",
    "\n",
    "month_number_learning = df[df['topic_singular']=='learning']['month_number'].value_counts()\n",
    "month_number_learning = month_number_learning.reindex(index = month_number_faith.index)\n",
    "\n",
    "month_number_life = df[df['topic_singular']=='life']['month_number'].value_counts()\n",
    "month_number_life = month_number_life.reindex(index = month_number_faith.index)\n",
    "\n",
    "month_number_service = df[df['topic_singular']=='service']['month_number'].value_counts()\n",
    "month_number_service = month_number_service.reindex(index = month_number_faith.index)\n",
    "# make the bar plot\n",
    "p1 = axes.bar(month_number_faith.index, month_number_faith.values)\n",
    "p2 = axes.bar(month_number_jc.index, month_number_jc.values, bottom=month_number_faith.values)\n",
    "p3 = axes.bar(month_number_learning.index, month_number_learning.values, bottom=month_number_faith.values)\n",
    "p4 = axes.bar(month_number_life.index, month_number_life.values, bottom=month_number_faith.values)\n",
    "p5 = axes.bar(month_number_service.index, month_number_service.values, bottom=month_number_faith.values)\n",
    "# date_form = DateFormatter('%B')\n",
    "# axes.xaxis.set_major_formatter(date_form)\n",
    "axes.set_title('Month Number', fontsize=25)\n",
    "axes.set_ylabel('Counts', fontsize=20)\n",
    "axes.tick_params(axis='both', labelsize=15)\n",
    "axes.legend((p1[0], p2[0], p3[0], p4[0], p5[0]), ('Faith', 'Jesus Christ', 'Learning', 'Life', 'Service'), fontsize = 15)\n",
    "\n",
    "plt.show()\n"
   ]
  },
  {
   "cell_type": "markdown",
   "metadata": {},
   "source": [
    "The following observations can be made from the chart above:\n",
    "\n",
    "- August is the most popular month for talks, with an overwhelming majority of the learning topics being contained there.\n",
    "- December is a popular month to discuss Jesus Christ (more than likely due to Christmas).\n",
    "- Faith and Service is a common theme no matter the time of year.\n",
    "- Jesus Christ as a topic is popular in March (perhaps due to Easter?).\n",
    "\n",
    "It will be interesting as we continue on with this project how these variables will play into the predictability of the project."
   ]
  }
 ],
 "metadata": {
  "interpreter": {
   "hash": "bf60427b139290154779a7e38fd0f127f78e5a9dfc17b4a4bd1d849158c5fa70"
  },
  "kernelspec": {
   "display_name": "Python 3.7.6 64-bit ('base': conda)",
   "name": "python3"
  },
  "language_info": {
   "codemirror_mode": {
    "name": "ipython",
    "version": 3
   },
   "file_extension": ".py",
   "mimetype": "text/x-python",
   "name": "python",
   "nbconvert_exporter": "python",
   "pygments_lexer": "ipython3",
   "version": "3.7.6"
  },
  "orig_nbformat": 4
 },
 "nbformat": 4,
 "nbformat_minor": 2
}
