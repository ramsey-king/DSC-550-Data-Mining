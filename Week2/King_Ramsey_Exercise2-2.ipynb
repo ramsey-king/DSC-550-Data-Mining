{
 "cells": [
  {
   "cell_type": "markdown",
   "source": [
    "# Ramsey King\r\n",
    "# DSC 550 - Data Mining\r\n",
    "# September 11, 2021\r\n",
    "# Week 2: Handling Categorical Data, Text, Dates & Times\r\n",
    "# Exercise 2.2 \r\n"
   ],
   "metadata": {}
  },
  {
   "cell_type": "markdown",
   "source": [
    "You can find the dataset controversial-comments.jsonl for this exercise in the Weekly Resources: Week 2 Data Files.\r\n",
    "Pre-processing Text: For this part, you will start by reading the controversial-comments.jsonl file into a DataFrame."
   ],
   "metadata": {}
  },
  {
   "cell_type": "code",
   "execution_count": 6,
   "source": [
    "import pandas as pd\r\n",
    "import numpy as np\r\n",
    "\r\n",
    "comments_df = pd.read_json('controversial-comments.jsonl', lines=True)\r\n",
    "comments_df.head()\r\n",
    "\r\n"
   ],
   "outputs": [
    {
     "output_type": "execute_result",
     "data": {
      "text/html": [
       "<div>\n",
       "<style scoped>\n",
       "    .dataframe tbody tr th:only-of-type {\n",
       "        vertical-align: middle;\n",
       "    }\n",
       "\n",
       "    .dataframe tbody tr th {\n",
       "        vertical-align: top;\n",
       "    }\n",
       "\n",
       "    .dataframe thead th {\n",
       "        text-align: right;\n",
       "    }\n",
       "</style>\n",
       "<table border=\"1\" class=\"dataframe\">\n",
       "  <thead>\n",
       "    <tr style=\"text-align: right;\">\n",
       "      <th></th>\n",
       "      <th>con</th>\n",
       "      <th>txt</th>\n",
       "    </tr>\n",
       "  </thead>\n",
       "  <tbody>\n",
       "    <tr>\n",
       "      <th>0</th>\n",
       "      <td>0</td>\n",
       "      <td>Well it's great that he did something about th...</td>\n",
       "    </tr>\n",
       "    <tr>\n",
       "      <th>1</th>\n",
       "      <td>0</td>\n",
       "      <td>You are right Mr. President.</td>\n",
       "    </tr>\n",
       "    <tr>\n",
       "      <th>2</th>\n",
       "      <td>0</td>\n",
       "      <td>You have given no input apart from saying I am...</td>\n",
       "    </tr>\n",
       "    <tr>\n",
       "      <th>3</th>\n",
       "      <td>0</td>\n",
       "      <td>I get the frustration but the reason they want...</td>\n",
       "    </tr>\n",
       "    <tr>\n",
       "      <th>4</th>\n",
       "      <td>0</td>\n",
       "      <td>I am far from an expert on TPP and I would ten...</td>\n",
       "    </tr>\n",
       "  </tbody>\n",
       "</table>\n",
       "</div>"
      ],
      "text/plain": [
       "   con                                                txt\n",
       "0    0  Well it's great that he did something about th...\n",
       "1    0                       You are right Mr. President.\n",
       "2    0  You have given no input apart from saying I am...\n",
       "3    0  I get the frustration but the reason they want...\n",
       "4    0  I am far from an expert on TPP and I would ten..."
      ]
     },
     "metadata": {},
     "execution_count": 6
    }
   ],
   "metadata": {}
  },
  {
   "cell_type": "markdown",
   "source": [
    "A. Convert all text to lowercase letters."
   ],
   "metadata": {}
  },
  {
   "cell_type": "code",
   "execution_count": 9,
   "source": [
    "comments_df['txt'] = comments_df['txt'].apply(str.lower)\r\n",
    "comments_df['txt'][:5]"
   ],
   "outputs": [
    {
     "output_type": "execute_result",
     "data": {
      "text/plain": [
       "0    well it's great that he did something about th...\n",
       "1                         you are right mr. president.\n",
       "2    you have given no input apart from saying i am...\n",
       "3    i get the frustration but the reason they want...\n",
       "4    i am far from an expert on tpp and i would ten...\n",
       "Name: txt, dtype: object"
      ]
     },
     "metadata": {},
     "execution_count": 9
    }
   ],
   "metadata": {}
  },
  {
   "cell_type": "markdown",
   "source": [
    "B. Remove all punctuation from the text.\r\n"
   ],
   "metadata": {}
  },
  {
   "cell_type": "code",
   "execution_count": 15,
   "source": [
    "import re\r\n",
    "comments_df['txt'] = comments_df['txt'].apply(lambda remove_punct: re.sub(r'[^\\w\\s]', '', remove_punct))\r\n",
    "comments_df['txt'][:5]"
   ],
   "outputs": [
    {
     "output_type": "execute_result",
     "data": {
      "text/plain": [
       "0    well its great that he did something about tho...\n",
       "1                           you are right mr president\n",
       "2    you have given no input apart from saying i am...\n",
       "3    i get the frustration but the reason they want...\n",
       "4    i am far from an expert on tpp and i would ten...\n",
       "Name: txt, dtype: object"
      ]
     },
     "metadata": {},
     "execution_count": 15
    }
   ],
   "metadata": {}
  },
  {
   "cell_type": "markdown",
   "source": [
    "C. Remove stop words.\r\n"
   ],
   "metadata": {}
  },
  {
   "cell_type": "code",
   "execution_count": 41,
   "source": [
    "import nltk\r\n",
    "from nltk.tokenize import word_tokenize\r\n",
    "from nltk.corpus import stopwords\r\n",
    "# nltk.download('stopwords')\r\n",
    "stop_words = stopwords.words('english')\r\n",
    "\r\n",
    "def rem_stop_words(rem_list):\r\n",
    "    return [word for word in rem_list if word not in stop_words]\r\n",
    "\r\n",
    "\r\n",
    "'''\r\n",
    "# THIS CODE WAS USED TO MAKE SURE THAT THE FUNCTIONS WORKED BEFORE RUNNING IT ON THE ENTIRE DATAFRAME\r\n",
    "comments_df_test = comments_df[:10].copy()\r\n",
    "comments_df_test['txt_tokenized'] = comments_df_test['txt'].apply(word_tokenize)\r\n",
    "print(comments_df_test['txt_tokenized'][:5])\r\n",
    "comments_df_test['txt_tokenized'] = comments_df_test['txt_tokenized'].apply(rem_stop_words)\r\n",
    "comments_df_test['txt_tokenized'][:5]\r\n",
    "'''\r\n",
    "comments_df['txt_tokenized'] = comments_df['txt'].apply(word_tokenize)\r\n",
    "comments_df['txt_tokenized'] = comments_df['txt_tokenized'].apply(rem_stop_words)\r\n",
    "comments_df['txt_tokenized'][:5]"
   ],
   "outputs": [
    {
     "output_type": "execute_result",
     "data": {
      "text/plain": [
       "0    [well, great, something, beliefs, office, doub...\n",
       "1                               [right, mr, president]\n",
       "2    [given, input, apart, saying, wrong, argument,...\n",
       "3    [get, frustration, reason, want, way, foundati...\n",
       "4    [far, expert, tpp, would, tend, agree, lot, pr...\n",
       "Name: txt_tokenized, dtype: object"
      ]
     },
     "metadata": {},
     "execution_count": 41
    }
   ],
   "metadata": {}
  },
  {
   "cell_type": "markdown",
   "source": [
    "D. Apply NLTK’s PorterStemmer."
   ],
   "metadata": {}
  },
  {
   "cell_type": "code",
   "execution_count": 42,
   "source": [
    "comments_df.head()"
   ],
   "outputs": [
    {
     "output_type": "execute_result",
     "data": {
      "text/html": [
       "<div>\n",
       "<style scoped>\n",
       "    .dataframe tbody tr th:only-of-type {\n",
       "        vertical-align: middle;\n",
       "    }\n",
       "\n",
       "    .dataframe tbody tr th {\n",
       "        vertical-align: top;\n",
       "    }\n",
       "\n",
       "    .dataframe thead th {\n",
       "        text-align: right;\n",
       "    }\n",
       "</style>\n",
       "<table border=\"1\" class=\"dataframe\">\n",
       "  <thead>\n",
       "    <tr style=\"text-align: right;\">\n",
       "      <th></th>\n",
       "      <th>con</th>\n",
       "      <th>txt</th>\n",
       "      <th>txt_tokenized</th>\n",
       "    </tr>\n",
       "  </thead>\n",
       "  <tbody>\n",
       "    <tr>\n",
       "      <th>0</th>\n",
       "      <td>0</td>\n",
       "      <td>well its great that he did something about tho...</td>\n",
       "      <td>[well, great, something, beliefs, office, doub...</td>\n",
       "    </tr>\n",
       "    <tr>\n",
       "      <th>1</th>\n",
       "      <td>0</td>\n",
       "      <td>you are right mr president</td>\n",
       "      <td>[right, mr, president]</td>\n",
       "    </tr>\n",
       "    <tr>\n",
       "      <th>2</th>\n",
       "      <td>0</td>\n",
       "      <td>you have given no input apart from saying i am...</td>\n",
       "      <td>[given, input, apart, saying, wrong, argument,...</td>\n",
       "    </tr>\n",
       "    <tr>\n",
       "      <th>3</th>\n",
       "      <td>0</td>\n",
       "      <td>i get the frustration but the reason they want...</td>\n",
       "      <td>[get, frustration, reason, want, way, foundati...</td>\n",
       "    </tr>\n",
       "    <tr>\n",
       "      <th>4</th>\n",
       "      <td>0</td>\n",
       "      <td>i am far from an expert on tpp and i would ten...</td>\n",
       "      <td>[far, expert, tpp, would, tend, agree, lot, pr...</td>\n",
       "    </tr>\n",
       "  </tbody>\n",
       "</table>\n",
       "</div>"
      ],
      "text/plain": [
       "   con                                                txt  \\\n",
       "0    0  well its great that he did something about tho...   \n",
       "1    0                         you are right mr president   \n",
       "2    0  you have given no input apart from saying i am...   \n",
       "3    0  i get the frustration but the reason they want...   \n",
       "4    0  i am far from an expert on tpp and i would ten...   \n",
       "\n",
       "                                       txt_tokenized  \n",
       "0  [well, great, something, beliefs, office, doub...  \n",
       "1                             [right, mr, president]  \n",
       "2  [given, input, apart, saying, wrong, argument,...  \n",
       "3  [get, frustration, reason, want, way, foundati...  \n",
       "4  [far, expert, tpp, would, tend, agree, lot, pr...  "
      ]
     },
     "metadata": {},
     "execution_count": 42
    }
   ],
   "metadata": {}
  }
 ],
 "metadata": {
  "orig_nbformat": 4,
  "language_info": {
   "name": "python",
   "version": "3.7.6",
   "mimetype": "text/x-python",
   "codemirror_mode": {
    "name": "ipython",
    "version": 3
   },
   "pygments_lexer": "ipython3",
   "nbconvert_exporter": "python",
   "file_extension": ".py"
  },
  "kernelspec": {
   "name": "python3",
   "display_name": "Python 3.7.6 64-bit ('base': conda)"
  },
  "interpreter": {
   "hash": "bf60427b139290154779a7e38fd0f127f78e5a9dfc17b4a4bd1d849158c5fa70"
  }
 },
 "nbformat": 4,
 "nbformat_minor": 2
}